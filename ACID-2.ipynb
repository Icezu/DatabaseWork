{
    "metadata": {
        "kernelspec": {
            "name": "SQL",
            "display_name": "SQL",
            "language": "sql"
        },
        "language_info": {
            "name": "sql",
            "version": ""
        }
    },
    "nbformat_minor": 2,
    "nbformat": 4,
    "cells": [
        {
            "cell_type": "markdown",
            "source": [
                "**Isolation Level**"
            ],
            "metadata": {
                "azdata_cell_guid": "368b45f4-0d43-4f30-ba4f-c0c0226448bc"
            }
        },
        {
            "cell_type": "code",
            "source": [
                "use Product_and_Service"
            ],
            "metadata": {
                "azdata_cell_guid": "e156f535-75e4-432b-97ed-bfe0782a0474"
            },
            "outputs": [
                {
                    "output_type": "display_data",
                    "data": {
                        "text/html": "Commands completed successfully."
                    },
                    "metadata": {}
                },
                {
                    "output_type": "display_data",
                    "data": {
                        "text/html": "Total execution time: 00:00:00.004"
                    },
                    "metadata": {}
                }
            ],
            "execution_count": 4
        },
        {
            "cell_type": "code",
            "source": [
                "SET TRANSACTION ISOLATION LEVEL READ UNCOMMITTED;\r\n",
                "BEGIN TRANSACTION; \r\n",
                "update dbo.product set prStock = 20 where prID = 3; "
            ],
            "metadata": {
                "azdata_cell_guid": "78ebbdb6-6067-410d-a6f4-9af9d133faa0",
                "tags": []
            },
            "outputs": [
                {
                    "output_type": "display_data",
                    "data": {
                        "text/html": "(1 row affected)"
                    },
                    "metadata": {}
                },
                {
                    "output_type": "display_data",
                    "data": {
                        "text/html": "Total execution time: 00:00:00.013"
                    },
                    "metadata": {}
                }
            ],
            "execution_count": 29
        },
        {
            "cell_type": "code",
            "source": [
                "SET TRANSACTION ISOLATION LEVEL READ COMMITTED;\r\n",
                "BEGIN TRANSACTION;\r\n",
                "INSERT INTO dbo.product(prID,prName,prStock,prType) VALUES(11,'Cornflake',20,'Food');\r\n",
                "COMMIT;"
            ],
            "metadata": {
                "azdata_cell_guid": "45196c03-d683-4be1-a1fa-bd8c5c3c10f9",
                "tags": []
            },
            "outputs": [
                {
                    "output_type": "display_data",
                    "data": {
                        "text/html": "(1 row affected)"
                    },
                    "metadata": {}
                },
                {
                    "output_type": "display_data",
                    "data": {
                        "text/html": "Total execution time: 00:00:00.073"
                    },
                    "metadata": {}
                }
            ],
            "execution_count": 34
        },
        {
            "cell_type": "code",
            "source": [
                "SET TRANSACTION ISOLATION LEVEL REPEATABLE READ;\r\n",
                "BEGIN TRANSACTION;\r\n",
                "update dbo.product set prstock = 50 where prID = 8;\r\n",
                "COMMIT;"
            ],
            "metadata": {
                "azdata_cell_guid": "22cfa3e0-6269-4f27-ab38-0275b4575a1c",
                "tags": []
            },
            "outputs": [
                {
                    "output_type": "display_data",
                    "data": {
                        "text/html": "(1 row affected)"
                    },
                    "metadata": {}
                },
                {
                    "output_type": "display_data",
                    "data": {
                        "text/html": "Total execution time: 00:00:00.009"
                    },
                    "metadata": {}
                }
            ],
            "execution_count": 35
        },
        {
            "cell_type": "code",
            "source": [
                "SET TRANSACTION ISOLATION LEVEL SERIALIZABLE;\r\n",
                "BEGIN TRANSACTION; \r\n",
                "INSERT INTO dbo.product(prID,prName,prStock,prType) VALUES(13,'Bread',20,'Food')\r\n",
                "SELECT COUNT(*) from dbo.product"
            ],
            "metadata": {
                "azdata_cell_guid": "a1ab6a77-4bb7-4979-b96c-6bfddea15884",
                "tags": []
            },
            "outputs": [
                {
                    "output_type": "display_data",
                    "data": {
                        "text/html": "(1 row affected)"
                    },
                    "metadata": {}
                },
                {
                    "output_type": "display_data",
                    "data": {
                        "text/html": "Total execution time: 00:00:03.482"
                    },
                    "metadata": {}
                },
                {
                    "output_type": "execute_result",
                    "metadata": {
                        "resultSet": {
                            "id": 0,
                            "batchId": 0,
                            "rowCount": 0,
                            "complete": false,
                            "columnInfo": [
                                {
                                    "isBytes": false,
                                    "isChars": false,
                                    "isSqlVariant": false,
                                    "isUdt": false,
                                    "isXml": false,
                                    "isJson": false,
                                    "sqlDbType": 8,
                                    "isHierarchyId": false,
                                    "isSqlXmlType": false,
                                    "isUnknownType": false,
                                    "isUpdatable": false,
                                    "allowDBNull": true,
                                    "baseCatalogName": null,
                                    "baseColumnName": null,
                                    "baseSchemaName": null,
                                    "baseServerName": null,
                                    "baseTableName": null,
                                    "columnName": "(No column name)",
                                    "columnOrdinal": 0,
                                    "columnSize": 4,
                                    "isAliased": null,
                                    "isAutoIncrement": false,
                                    "isExpression": null,
                                    "isHidden": null,
                                    "isIdentity": false,
                                    "isKey": null,
                                    "isLong": false,
                                    "isReadOnly": true,
                                    "isUnique": false,
                                    "numericPrecision": 10,
                                    "numericScale": 255,
                                    "udtAssemblyQualifiedName": null,
                                    "dataType": "System.Int32, System.Private.CoreLib, Version=4.0.0.0, Culture=neutral, PublicKeyToken=7cec85d7bea7798e",
                                    "dataTypeName": "int"
                                }
                            ],
                            "specialAction": null
                        }
                    },
                    "execution_count": 45,
                    "data": {
                        "application/vnd.dataresource+json": {
                            "schema": {
                                "fields": [
                                    {
                                        "name": "(No column name)"
                                    }
                                ]
                            },
                            "data": []
                        },
                        "text/html": [
                            "<table>",
                            "<tr><th>(No column name)</th></tr>",
                            "</table>"
                        ]
                    }
                },
                {
                    "output_type": "error",
                    "evalue": "Msg 1222, Level 16, State 51, Line 4\r\nLock request time out period exceeded.",
                    "ename": "",
                    "traceback": []
                }
            ],
            "execution_count": 45
        },
        {
            "cell_type": "code",
            "source": [
                "ROLLBACK TRANSACTION;"
            ],
            "metadata": {
                "azdata_cell_guid": "86e2ea89-531c-4df0-aad9-5da81c756b95"
            },
            "outputs": [
                {
                    "output_type": "display_data",
                    "data": {
                        "text/html": "Commands completed successfully."
                    },
                    "metadata": {}
                },
                {
                    "output_type": "display_data",
                    "data": {
                        "text/html": "Total execution time: 00:00:00.004"
                    },
                    "metadata": {}
                }
            ],
            "execution_count": 46
        }
    ]
}