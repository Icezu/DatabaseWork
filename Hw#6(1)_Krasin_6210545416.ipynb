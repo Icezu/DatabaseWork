{
    "metadata": {
        "kernelspec": {
            "name": "SQL",
            "display_name": "SQL",
            "language": "sql"
        },
        "language_info": {
            "name": "sql",
            "version": ""
        }
    },
    "nbformat_minor": 2,
    "nbformat": 4,
    "cells": [
        {
            "cell_type": "code",
            "source": [
                "create DATABASE University_Krasin_6210545416"
            ],
            "metadata": {
                "azdata_cell_guid": "d761b901-84b5-4a39-9751-8f366b65722b"
            },
            "outputs": [
                {
                    "output_type": "display_data",
                    "data": {
                        "text/html": "Commands completed successfully."
                    },
                    "metadata": {}
                },
                {
                    "output_type": "display_data",
                    "data": {
                        "text/html": "Total execution time: 00:00:00.883"
                    },
                    "metadata": {}
                }
            ],
            "execution_count": 1
        },
        {
            "cell_type": "code",
            "source": [
                "use University_Krasin_6210545416;"
            ],
            "metadata": {
                "azdata_cell_guid": "b3506238-ae57-456c-a60d-caf65e671ccd"
            },
            "outputs": [
                {
                    "output_type": "display_data",
                    "data": {
                        "text/html": "Commands completed successfully."
                    },
                    "metadata": {}
                },
                {
                    "output_type": "display_data",
                    "data": {
                        "text/html": "Total execution time: 00:00:00.015"
                    },
                    "metadata": {}
                }
            ],
            "execution_count": 2
        },
        {
            "cell_type": "code",
            "source": [
                " create table classroom\r\n",
                "    (building varchar (15), \r\n",
                "    room_number varchar(7), \r\n",
                "    capacity numeric (4,0), \r\n",
                "    primary key (building, room_number));"
            ],
            "metadata": {
                "azdata_cell_guid": "f26dbbe1-c855-4287-b503-42f392448193"
            },
            "outputs": [
                {
                    "output_type": "error",
                    "evalue": "Msg 2714, Level 16, State 6, Line 1\r\nThere is already an object named 'classroom' in the database.",
                    "ename": "",
                    "traceback": []
                },
                {
                    "output_type": "display_data",
                    "data": {
                        "text/html": "Total execution time: 00:00:00.012"
                    },
                    "metadata": {}
                }
            ],
            "execution_count": 20
        },
        {
            "cell_type": "code",
            "source": [
                " create table department\r\n",
                "    (dept_name varchar (20), \r\n",
                "    building varchar (15), \r\n",
                "    budget numeric (12,2) check (budget > 0), \r\n",
                "    primary key (dept_name));"
            ],
            "metadata": {
                "azdata_cell_guid": "c44cd2e3-6381-4c31-a6e8-8165ceed1812"
            },
            "outputs": [
                {
                    "output_type": "display_data",
                    "data": {
                        "text/html": "Commands completed successfully."
                    },
                    "metadata": {}
                },
                {
                    "output_type": "display_data",
                    "data": {
                        "text/html": "Total execution time: 00:00:00.030"
                    },
                    "metadata": {}
                }
            ],
            "execution_count": 6
        },
        {
            "cell_type": "code",
            "source": [
                " create table course\r\n",
                "    (course_id varchar(8), \r\n",
                "    title varchar(50), \r\n",
                "    dept_name varchar(20), \r\n",
                "    credits numeric (2,0) check (credits > 0), \r\n",
                "    primary key (course_id), \r\n",
                "    foreign key (dept_name) references department);"
            ],
            "metadata": {
                "azdata_cell_guid": "820df3b8-5347-43a7-9199-0b2de7746ac9"
            },
            "outputs": [
                {
                    "output_type": "display_data",
                    "data": {
                        "text/html": "Commands completed successfully."
                    },
                    "metadata": {}
                },
                {
                    "output_type": "display_data",
                    "data": {
                        "text/html": "Total execution time: 00:00:00.014"
                    },
                    "metadata": {}
                }
            ],
            "execution_count": 7
        },
        {
            "cell_type": "code",
            "source": [
                " create table instructor\r\n",
                "    (ID varchar (5),\r\n",
                "     name varchar (20) not null,\r\n",
                "     dept_name varchar (20), \r\n",
                "     salary numeric (8,2) check (salary > 29000), \r\n",
                "     primary key (ID), \r\n",
                "     foreign key (dept_name) references department);"
            ],
            "metadata": {
                "azdata_cell_guid": "e716077a-7889-439f-9cf8-27be550065db"
            },
            "outputs": [
                {
                    "output_type": "display_data",
                    "data": {
                        "text/html": "Commands completed successfully."
                    },
                    "metadata": {}
                },
                {
                    "output_type": "display_data",
                    "data": {
                        "text/html": "Total execution time: 00:00:00.019"
                    },
                    "metadata": {}
                }
            ],
            "execution_count": 8
        },
        {
            "cell_type": "code",
            "source": [
                " create table section\r\n",
                "    (course_id varchar(8), \r\n",
                "    sec_id varchar(8), \r\n",
                "    semester varchar(6) check (semester in ('Fall', 'Winter', 'Spring', 'Summer')),\r\n",
                "    year numeric (4,0) check (year > 1759 and year <2100),\r\n",
                "    building varchar (15), \r\n",
                "    room_number varchar(7), \r\n",
                "    time_slot_id varchar(4), \r\n",
                "    primary key (course_id, sec_id, semester, year), \r\n",
                "    foreign key (course_id) references course, \r\n",
                "    foreign key (building, room_number) references classroom);"
            ],
            "metadata": {
                "azdata_cell_guid": "264129da-b37b-497d-997a-33c7c218809f"
            },
            "outputs": [
                {
                    "output_type": "display_data",
                    "data": {
                        "text/html": "Commands completed successfully."
                    },
                    "metadata": {}
                },
                {
                    "output_type": "display_data",
                    "data": {
                        "text/html": "Total execution time: 00:00:00.017"
                    },
                    "metadata": {}
                }
            ],
            "execution_count": 9
        },
        {
            "cell_type": "code",
            "source": [
                " create table student\r\n",
                "    (ID varchar(5),\r\n",
                "    name varchar(20),\r\n",
                "    dept_name varchar(20),\r\n",
                "    tot_cred NUMERIC(3,0) check (tot_cred >=0),\r\n",
                "    PRIMARY KEY (ID),\r\n",
                "    FOREIGN KEY (dept_name) REFERENCES department on delete set null);"
            ],
            "metadata": {
                "azdata_cell_guid": "d5c10cd7-1b85-4f8d-8af7-7b2938541592"
            },
            "outputs": [
                {
                    "output_type": "display_data",
                    "data": {
                        "text/html": "Commands completed successfully."
                    },
                    "metadata": {}
                },
                {
                    "output_type": "display_data",
                    "data": {
                        "text/html": "Total execution time: 00:00:00.018"
                    },
                    "metadata": {}
                }
            ],
            "execution_count": 10
        },
        {
            "cell_type": "code",
            "source": [
                " CREATE TABLE takes\r\n",
                "    (ID varchar(5),\r\n",
                "    course_id varchar(8), \r\n",
                "    sec_id varchar(8), \r\n",
                "    semester varchar(6),\r\n",
                "    year numeric (4,0),\r\n",
                "    grades varchar(2),\r\n",
                "    primary key (ID, course_id, sec_id, semester, year), \r\n",
                "    foreign key (course_id, sec_id, semester, year) references section on delete cascade, \r\n",
                "    FOREIGN key (ID) REFERENCES student on DELETE CASCADE);"
            ],
            "metadata": {
                "azdata_cell_guid": "169970b6-c641-4828-92a4-580dc1824fab",
                "tags": []
            },
            "outputs": [
                {
                    "output_type": "display_data",
                    "data": {
                        "text/html": "Commands completed successfully."
                    },
                    "metadata": {}
                },
                {
                    "output_type": "display_data",
                    "data": {
                        "text/html": "Total execution time: 00:00:00.023"
                    },
                    "metadata": {}
                }
            ],
            "execution_count": 11
        },
        {
            "cell_type": "code",
            "source": [
                " CREATE TABLE advisor\r\n",
                "    (s_ID varchar(5),\r\n",
                "    i_ID varchar(5),\r\n",
                "    PRIMARY KEY(s_ID),\r\n",
                "    FOREIGN key (i_ID) REFERENCES instructor(ID) on DELETE set null,\r\n",
                "    FOREIGN key (s_ID) REFERENCES student(ID) on DELETE CASCADE);"
            ],
            "metadata": {
                "azdata_cell_guid": "16ea709a-226f-44f5-bc1e-df49e169bdb6"
            },
            "outputs": [
                {
                    "output_type": "display_data",
                    "data": {
                        "text/html": "Commands completed successfully."
                    },
                    "metadata": {}
                },
                {
                    "output_type": "display_data",
                    "data": {
                        "text/html": "Total execution time: 00:00:00.012"
                    },
                    "metadata": {}
                }
            ],
            "execution_count": 12
        },
        {
            "cell_type": "code",
            "source": [
                " CREATE TABLE prereq\r\n",
                "    (course_id varchar(8),\r\n",
                "    prereq_id varchar(8),\r\n",
                "    PRIMARY KEY(course_id, prereq_id),\r\n",
                "    FOREIGN KEY(course_id) REFERENCES course on DELETE CASCADE,\r\n",
                "    FOREIGN KEY(prereq_id) REFERENCES course);"
            ],
            "metadata": {
                "azdata_cell_guid": "78a56292-fbd0-4375-b5b6-e73d191fd313"
            },
            "outputs": [
                {
                    "output_type": "display_data",
                    "data": {
                        "text/html": "Commands completed successfully."
                    },
                    "metadata": {}
                },
                {
                    "output_type": "display_data",
                    "data": {
                        "text/html": "Total execution time: 00:00:00.020"
                    },
                    "metadata": {}
                }
            ],
            "execution_count": 13
        },
        {
            "cell_type": "code",
            "source": [
                "INSERT dbo.classroom\n",
                "    (building,room_number,capacity)\n",
                "VALUES\n",
                "    ('IUP', '201', '120'),\n",
                "    ('Comp. Service', '504', '40'),\n",
                "    ('Learning center', '304', '30'),\n",
                "    ('Physics 1', '101', '40'),\n",
                "    ('Physics 2', '102', '40')"
            ],
            "metadata": {
                "azdata_cell_guid": "7274462d-c0d0-4cbd-b88c-8ab932cc2fd4",
                "tags": []
            },
            "outputs": [
                {
                    "output_type": "display_data",
                    "data": {
                        "text/html": "(5 rows affected)"
                    },
                    "metadata": {}
                },
                {
                    "output_type": "display_data",
                    "data": {
                        "text/html": "Total execution time: 00:00:00.010"
                    },
                    "metadata": {}
                }
            ],
            "execution_count": 22
        },
        {
            "cell_type": "code",
            "source": [
                "INSERT dbo.department\r\n",
                "    (dept_name,building,budget)\r\n",
                "VALUES\r\n",
                "    ('Biology', 'Physics 1', '100000'),\r\n",
                "    ('History', 'Learning center', '90000'),\r\n",
                "    ('Elec. Eng.', 'Learning center', '90000'),\r\n",
                "    ('Comp. Sci.', 'Comp. Service', '150000'),\r\n",
                "    ('Music', 'Comp. Service', '75000'),\r\n",
                "    ('Finance', 'IUP', '100000'),\r\n",
                "    ('Physics', 'Physics 2', '100000')"
            ],
            "metadata": {
                "azdata_cell_guid": "7fbc7ad4-0d39-4df0-8f8c-61af8c8580da"
            },
            "outputs": [
                {
                    "output_type": "display_data",
                    "data": {
                        "text/html": "(7 rows affected)"
                    },
                    "metadata": {}
                },
                {
                    "output_type": "display_data",
                    "data": {
                        "text/html": "Total execution time: 00:00:00.011"
                    },
                    "metadata": {}
                }
            ],
            "execution_count": 23
        },
        {
            "cell_type": "code",
            "source": [
                "INSERT dbo.course\r\n",
                "    (course_id,title,dept_name,credits)\r\n",
                "VALUES\r\n",
                "    ('BIO-101', 'Introduction to Biology', 'Biology', '4'),\r\n",
                "    ('BIO-201', 'Human Genetics', 'Biology', '4'),\r\n",
                "    ('BIO-301', 'Computational Biology', 'Biology', '4'),\r\n",
                "    ('CS-101', 'Introduction to Computer Science', 'Comp. Sci.', '4'),\r\n",
                "    ('CS-110', 'Game Designing', 'Comp. Sci.', '3'),\r\n",
                "    ('CS-210', 'Robotics Calculation', 'Comp. Sci.', '3'),\r\n",
                "    ('CS-320', 'Image Processing', 'Comp. Sci.', '3'),\r\n",
                "    ('CS-450', 'Database Management System', 'Comp. Sci.', '3'),\r\n",
                "    ('EE-121', 'Introduction to Digital Systems', 'Elec. Eng.', '3'),\r\n",
                "    ('FIN-159', 'Investment in Stock', 'Finance', '3'),\r\n",
                "    ('HIS-351', 'History of the World', 'History', '3'),\r\n",
                "    ('MU-289', 'Music Video concept', 'Music', '3'),\r\n",
                "    ('PHY-173', 'Physical Experiments', 'Physics', '4')"
            ],
            "metadata": {
                "azdata_cell_guid": "1f6970f6-7761-4631-a7ef-5f93e6706061"
            },
            "outputs": [
                {
                    "output_type": "display_data",
                    "data": {
                        "text/html": "(13 rows affected)"
                    },
                    "metadata": {}
                },
                {
                    "output_type": "display_data",
                    "data": {
                        "text/html": "Total execution time: 00:00:00.022"
                    },
                    "metadata": {}
                }
            ],
            "execution_count": 25
        },
        {
            "cell_type": "code",
            "source": [
                "INSERT dbo.instructor\r\n",
                "    (ID,name,dept_name,salary)\r\n",
                "VALUES\r\n",
                "    ('10111', 'Santisak', 'Comp. Sci.', '65000'),\r\n",
                "    ('12120', 'Herbert', 'Finance', '50000'),\r\n",
                "    ('15010', 'Singtho', 'Music', '40000'),\r\n",
                "    ('23410', 'Tum', 'Physics', '60000'),\r\n",
                "    ('32333', 'Somsak', 'History', '40000'),\r\n",
                "    ('32456', 'Smarn', 'Physics', '77000'),\r\n",
                "    ('41525', 'Jitti', 'Comp. Sci.', '60000'),\r\n",
                "    ('58038', 'Nok', 'History', '45000'),\r\n",
                "    ('66043', 'Chayapon', 'Finance', '50000'),\r\n",
                "    ('75621', 'Thorn', 'Biology', '70000'),\r\n",
                "    ('88593', 'Tae', 'Comp. Sci.', '83000'),\r\n",
                "    ('95974', 'Pooh', 'Elec. Eng.', '70000')"
            ],
            "metadata": {
                "azdata_cell_guid": "a9c9c2f8-f04d-490d-8913-67365f3e0c6d"
            },
            "outputs": [
                {
                    "output_type": "display_data",
                    "data": {
                        "text/html": "(12 rows affected)"
                    },
                    "metadata": {}
                },
                {
                    "output_type": "display_data",
                    "data": {
                        "text/html": "Total execution time: 00:00:00.032"
                    },
                    "metadata": {}
                }
            ],
            "execution_count": 26
        },
        {
            "cell_type": "code",
            "source": [
                "INSERT dbo.section\r\n",
                "    (course_id,sec_id,semester,year,building,room_number,time_slot_id)\r\n",
                "VALUES\r\n",
                "    ('BIO-101', '1', 'Summer', '2009', 'Physics 2', '102', 'B'),\r\n",
                "    ('BIO-201', '1', 'Summer', '2010', 'Physics 1', '101', 'A'),\r\n",
                "    ('PHY-173', '1', 'Fall', '2009', 'Physics 1', '101', 'A'),\r\n",
                "    ('CS-101', '1', 'Fall', '2009', 'Comp. Service', '504', 'H'),\r\n",
                "    ('CS-101', '1', 'Spring', '2010', 'Comp. Service', '504', 'F'),\r\n",
                "    ('CS-110', '1', 'Spring', '2009', 'Comp. Service', '504', 'E'),\r\n",
                "    ('CS-110', '2', 'Spring', '2009', 'Comp. Service', '504', 'A'),\r\n",
                "    ('CS-210', '1', 'Spring', '2010', 'Comp. Service', '504', 'D'),\r\n",
                "    ('CS-320', '1', 'Spring', '2010', 'Comp. Service', '504', 'B'),\r\n",
                "    ('CS-320', '2', 'Spring', '2010', 'Comp. Service', '504', 'C'),\r\n",
                "    ('MU-289', '1', 'Spring', '2010', 'Comp. Service', '504', 'D'),\r\n",
                "    ('CS-450', '1', 'Fall', '2009', 'Learning center', '304', 'A'),\r\n",
                "    ('EE-121', '1', 'Spring', '2009', 'Learning center', '304', 'C'),\r\n",
                "    ('HIS-351', '1', 'Spring', '2010', 'Learning center', '304', 'C'),\r\n",
                "    ('FIN-159', '1', 'Spring', '2010', 'IUP', '201', 'B')"
            ],
            "metadata": {
                "azdata_cell_guid": "89c6a0d4-58f1-43e8-a3b9-a9a155764214"
            },
            "outputs": [
                {
                    "output_type": "display_data",
                    "data": {
                        "text/html": "(15 rows affected)"
                    },
                    "metadata": {}
                },
                {
                    "output_type": "display_data",
                    "data": {
                        "text/html": "Total execution time: 00:00:00.028"
                    },
                    "metadata": {}
                }
            ],
            "execution_count": 27
        },
        {
            "cell_type": "code",
            "source": [
                "INSERT dbo.student\r\n",
                "    (ID,name,dept_name,tot_cred)\r\n",
                "VALUES\r\n",
                "    ('01112', 'Levi', 'Comp. Sci.', '102'),\r\n",
                "    ('11598', 'Hange', 'Comp. Sci.', '32'),\r\n",
                "    ('19871', 'Armin', 'History', '80'),\r\n",
                "    ('21000', 'Mikasa', 'Finance', '110'),\r\n",
                "    ('46969', 'Eren', 'Physics', '56'),\r\n",
                "    ('48420', 'Reiner', 'Physics', '46'),\r\n",
                "    ('54102', 'Connie', 'Comp. Sci.', '54'),\r\n",
                "    ('56987', 'Sasha', 'Music', '38'),\r\n",
                "    ('70550', 'Mike', 'Physics', '0'),\r\n",
                "    ('76420', 'Erwin', 'Comp. Sci.', '58'),\r\n",
                "    ('78777', 'Kiyomi', 'Elec. Eng.', '60'),\r\n",
                "    ('94231', 'Petra', 'Elec. Eng.', '98'),\r\n",
                "    ('97499', 'Annie', 'Biology', '120')"
            ],
            "metadata": {
                "azdata_cell_guid": "b8417eac-4a51-4f77-8aec-c083d81fe2a5"
            },
            "outputs": [
                {
                    "output_type": "display_data",
                    "data": {
                        "text/html": "(13 rows affected)"
                    },
                    "metadata": {}
                },
                {
                    "output_type": "display_data",
                    "data": {
                        "text/html": "Total execution time: 00:00:00.024"
                    },
                    "metadata": {}
                }
            ],
            "execution_count": 30
        },
        {
            "cell_type": "code",
            "source": [
                "INSERT dbo.takes\r\n",
                "    (ID,course_id,sec_id,semester,year,grades)\r\n",
                "VALUES\r\n",
                "    ('01112', 'CS-101', '1', 'Fall', '2009', 'A'),\r\n",
                "    ('01112', 'CS-450', '1', 'Fall', '2009', 'A-'),\r\n",
                "    ('11598', 'CS-101', '1', 'Fall', '2009', 'C'),\r\n",
                "    ('11598', 'CS-110', '2', 'Spring', '2009', 'A'),\r\n",
                "    ('11598', 'CS-210', '1', 'Spring', '2010', 'A'),\r\n",
                "    ('11598', 'CS-450', '1', 'Fall', '2009', 'A'),\r\n",
                "    ('19871', 'HIS-351', '1', 'Spring', '2010', 'B'),\r\n",
                "    ('21000', 'FIN-159', '1', 'Spring', '2010', 'C+'),\r\n",
                "    ('46969', 'PHY-173', '1', 'Fall', '2009', 'B-'),\r\n",
                "    ('48420', 'CS-101', '1', 'Fall', '2009', 'F'),\r\n",
                "    ('48420', 'CS-101', '1', 'Spring', '2010', 'B+'),\r\n",
                "    ('48420', 'CS-320', '1', 'Spring', '2010', 'B'),\r\n",
                "    ('54102', 'CS-101', '1', 'Fall', '2009', 'A-'),\r\n",
                "    ('54102', 'CS-110', '2', 'Spring', '2009', 'B+'),\r\n",
                "    ('56987', 'MU-289', '1', 'Spring', '2010', 'A-'),\r\n",
                "    ('76420', 'CS-101', '1', 'Fall', '2009', 'A'),\r\n",
                "    ('76420', 'CS-320', '2', 'Spring', '2010', 'A'),\r\n",
                "    ('78777', 'EE-121', '1', 'Spring', '2009', 'C'),\r\n",
                "    ('94231', 'CS-101', '1', 'Fall', '2009', 'C-'),\r\n",
                "    ('94231', 'CS-210', '1', 'Spring', '2010', 'B'),\r\n",
                "    ('97499', 'BIO-101', '1', 'Summer', '2009', 'A'),\r\n",
                "    ('97499', 'BIO-201', '1', 'Summer', '2010', null)"
            ],
            "metadata": {
                "azdata_cell_guid": "8299e900-4de6-48bc-8a2b-b2a9e070d62a"
            },
            "outputs": [
                {
                    "output_type": "display_data",
                    "data": {
                        "text/html": "(22 rows affected)"
                    },
                    "metadata": {}
                },
                {
                    "output_type": "display_data",
                    "data": {
                        "text/html": "Total execution time: 00:00:00.019"
                    },
                    "metadata": {}
                }
            ],
            "execution_count": 33
        },
        {
            "cell_type": "code",
            "source": [
                "INSERT dbo.advisor\r\n",
                "    (s_ID,i_ID)\r\n",
                "VALUES\r\n",
                "    ('01112', '41525'),\r\n",
                "    ('11598', '10111'),\r\n",
                "    ('21000', '66043'),\r\n",
                "    ('46969', '23410'),\r\n",
                "    ('48420', '23410'),\r\n",
                "    ('76420', '41525'),\r\n",
                "    ('78777', '95974'),\r\n",
                "    ('94231', '95974'),\r\n",
                "    ('97499', '75621')"
            ],
            "metadata": {
                "azdata_cell_guid": "cc80d495-0fc3-48d4-8b21-8730eebc5d9c"
            },
            "outputs": [
                {
                    "output_type": "display_data",
                    "data": {
                        "text/html": "(9 rows affected)"
                    },
                    "metadata": {}
                },
                {
                    "output_type": "display_data",
                    "data": {
                        "text/html": "Total execution time: 00:00:00.021"
                    },
                    "metadata": {}
                }
            ],
            "execution_count": 35
        },
        {
            "cell_type": "code",
            "source": [
                "INSERT dbo.prereq\r\n",
                "    (course_id,prereq_id)\r\n",
                "VALUES\r\n",
                "    ('BIO-201', 'BIO-101'),\r\n",
                "    ('BIO-301', 'BIO-101'),\r\n",
                "    ('CS-110', 'CS-101'),\r\n",
                "    ('CS-210', 'CS-101'),\r\n",
                "    ('CS-320', 'CS-101'),\r\n",
                "    ('CS-450', 'CS-101'),\r\n",
                "    ('EE-121', 'PHY-173')"
            ],
            "metadata": {
                "azdata_cell_guid": "0bb6cd91-290a-402d-8444-8c1731c6bc81"
            },
            "outputs": [
                {
                    "output_type": "display_data",
                    "data": {
                        "text/html": "(7 rows affected)"
                    },
                    "metadata": {}
                },
                {
                    "output_type": "display_data",
                    "data": {
                        "text/html": "Total execution time: 00:00:00.019"
                    },
                    "metadata": {}
                }
            ],
            "execution_count": 36
        }
    ]
}