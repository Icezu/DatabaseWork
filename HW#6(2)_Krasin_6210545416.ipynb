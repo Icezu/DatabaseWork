{
    "metadata": {
        "kernelspec": {
            "name": "SQL",
            "display_name": "SQL",
            "language": "sql"
        },
        "language_info": {
            "name": "sql",
            "version": ""
        }
    },
    "nbformat_minor": 2,
    "nbformat": 4,
    "cells": [
        {
            "cell_type": "code",
            "source": [
                "CREATE DATABASE Collect_Rating_From_Website"
            ],
            "metadata": {
                "azdata_cell_guid": "5ae15726-e2be-4d55-a830-9e1dae41b006"
            },
            "outputs": [
                {
                    "output_type": "display_data",
                    "data": {
                        "text/html": "Commands completed successfully."
                    },
                    "metadata": {}
                },
                {
                    "output_type": "display_data",
                    "data": {
                        "text/html": "Total execution time: 00:00:00.981"
                    },
                    "metadata": {}
                }
            ],
            "execution_count": 1
        },
        {
            "cell_type": "code",
            "source": [
                "use Collect_Rating_From_Website;"
            ],
            "metadata": {
                "azdata_cell_guid": "354b65a7-9d22-4b29-bfe7-6449de7dbf83"
            },
            "outputs": [
                {
                    "output_type": "display_data",
                    "data": {
                        "text/html": "Commands completed successfully."
                    },
                    "metadata": {}
                },
                {
                    "output_type": "display_data",
                    "data": {
                        "text/html": "Total execution time: 00:00:00.003"
                    },
                    "metadata": {}
                }
            ],
            "execution_count": 2
        },
        {
            "cell_type": "code",
            "source": [
                "CREATE TABLE Movie(\r\n",
                "    mID INT,\r\n",
                "    title VARCHAR(50),\r\n",
                "    year INT,\r\n",
                "    director VARCHAR(50),\r\n",
                "    primary key (mID)\r\n",
                ");"
            ],
            "metadata": {
                "azdata_cell_guid": "d3393b9b-98a7-4922-b2b3-0f0b4a8a67a7"
            },
            "outputs": [
                {
                    "output_type": "display_data",
                    "data": {
                        "text/html": "Commands completed successfully."
                    },
                    "metadata": {}
                },
                {
                    "output_type": "display_data",
                    "data": {
                        "text/html": "Total execution time: 00:00:00.138"
                    },
                    "metadata": {}
                }
            ],
            "execution_count": 6
        },
        {
            "cell_type": "code",
            "source": [
                "CREATE TABLE Reviewer(\r\n",
                "    rID INT,\r\n",
                "    name VARCHAR(50),\r\n",
                "    primary key (rID)\r\n",
                ");"
            ],
            "metadata": {
                "azdata_cell_guid": "5a47b113-666f-44ef-9933-0673efac5be8"
            },
            "outputs": [
                {
                    "output_type": "display_data",
                    "data": {
                        "text/html": "Commands completed successfully."
                    },
                    "metadata": {}
                },
                {
                    "output_type": "display_data",
                    "data": {
                        "text/html": "Total execution time: 00:00:00.016"
                    },
                    "metadata": {}
                }
            ],
            "execution_count": 8
        },
        {
            "cell_type": "code",
            "source": [
                "CREATE TABLE Rating(\r\n",
                "    rID INT,\r\n",
                "    mID INT,\r\n",
                "    stars VARCHAR(5),\r\n",
                "    ratingDate DATETIME,\r\n",
                "    foreign key (rID) REFERENCES Reviewer,\r\n",
                "    foreign key (mID) REFERENCES Movie\r\n",
                ");"
            ],
            "metadata": {
                "azdata_cell_guid": "0a2cf6fe-37d5-4fc8-a516-37b135c10974"
            },
            "outputs": [
                {
                    "output_type": "error",
                    "evalue": "Msg 2714, Level 16, State 6, Line 1\r\nThere is already an object named 'Rating' in the database.",
                    "ename": "",
                    "traceback": []
                },
                {
                    "output_type": "display_data",
                    "data": {
                        "text/html": "Total execution time: 00:00:00.022"
                    },
                    "metadata": {}
                }
            ],
            "execution_count": 9
        },
        {
            "cell_type": "code",
            "source": [
                "INSERT dbo.Movie\r\n",
                "    (mID,title,year,director)\r\n",
                "VALUES\r\n",
                "    (101,'The Lord Of The Rings',2001,'Peter Jackson'),\r\n",
                "    (102,'Back to the Future',1985,'Robert Zemeckis'),\r\n",
                "    (103,'How to Train Your Dragon',2010,'Chris Sanders'),\r\n",
                "    (104,'Zombieland',2009,'Ruben Fleischer'),\r\n",
                "    (105,'Iron man',2008,'Jon Favreau'),\r\n",
                "    (106,'Spider man',2002,'Sam Raimi'),\r\n",
                "    (107,'Avatar',2009,'James Cameron')"
            ],
            "metadata": {
                "azdata_cell_guid": "044b4942-c5ef-4bb6-80a7-7fea6f103f7c",
                "tags": []
            },
            "outputs": [
                {
                    "output_type": "display_data",
                    "data": {
                        "text/html": "(7 rows affected)"
                    },
                    "metadata": {}
                },
                {
                    "output_type": "display_data",
                    "data": {
                        "text/html": "Total execution time: 00:00:00.035"
                    },
                    "metadata": {}
                }
            ],
            "execution_count": 7
        },
        {
            "cell_type": "code",
            "source": [
                "INSERT dbo.Reviewer\r\n",
                "    (rID,name)\r\n",
                "VALUES\r\n",
                "    (201,'Jakkrathorn'),\r\n",
                "    (202,'Anusid'),\r\n",
                "    (203,'Chayapon'),\r\n",
                "    (204,'Nattapol'),\r\n",
                "    (205,'Sirawit'),\r\n",
                "    (206,'Pittayut'),\r\n",
                "    (207,'Tatpol')"
            ],
            "metadata": {
                "azdata_cell_guid": "eb30a8e2-2d54-425b-8458-c93b59b0382f"
            },
            "outputs": [
                {
                    "output_type": "display_data",
                    "data": {
                        "text/html": "(7 rows affected)"
                    },
                    "metadata": {}
                },
                {
                    "output_type": "display_data",
                    "data": {
                        "text/html": "Total execution time: 00:00:00.024"
                    },
                    "metadata": {}
                }
            ],
            "execution_count": 10
        },
        {
            "cell_type": "code",
            "source": [
                "INSERT dbo.Rating\r\n",
                "    (rID,mID,stars,ratingDate)\r\n",
                "VALUES\r\n",
                "    (201,101,'4','2003-02-17'),\r\n",
                "    (201,106,'5','2012-06-22'),\r\n",
                "    (202,103,'4','2011-04-10'),\r\n",
                "    (202,105,'2','2013-01-07'),\r\n",
                "    (202,106,'3','2007-08-15'),\r\n",
                "    (203,107,'4','2014-10-29'),\r\n",
                "    (204,104,'1','2010-12-05'),\r\n",
                "    (205,101,'1','2005-07-19'),\r\n",
                "    (205,104,'4','2015-03-04'),\r\n",
                "    (206,105,'2','2010-09-11'),\r\n",
                "    (207,107,'3','2012-10-25')"
            ],
            "metadata": {
                "azdata_cell_guid": "4ae92fa7-1a45-4a03-9f2c-94b18efaac4b"
            },
            "outputs": [
                {
                    "output_type": "display_data",
                    "data": {
                        "text/html": "(11 rows affected)"
                    },
                    "metadata": {}
                },
                {
                    "output_type": "display_data",
                    "data": {
                        "text/html": "Total execution time: 00:00:00.041"
                    },
                    "metadata": {}
                }
            ],
            "execution_count": 11
        },
        {
            "cell_type": "markdown",
            "source": [
                "**<span style=\"color: #09885a;\">1</span>.View LateRating <span style=\"color: #000000;\">=&gt;</span> contains movie ratings <span style=\"color: #0000ff;\">after</span> January <span style=\"color: #09885a;\">20</span>, <span style=\"color: #09885a;\">2011</span>. The view contains**\n",
                "\n",
                "**the movie ID, movie title, <span style=\"color: #0000ff;\">number</span> of stars, <span style=\"color: #0000ff;\">and</span> rating <span style=\"color: #0000ff;\">date</span>.**"
            ],
            "metadata": {
                "azdata_cell_guid": "cfa567d4-ac0f-4e1d-be5b-af4a40815f5c"
            }
        },
        {
            "cell_type": "code",
            "source": [
                "CREATE VIEW LateRating as \r\n",
                "select Movie.mID,title,stars,ratingDate\r\n",
                "from dbo.Movie,dbo.Rating\r\n",
                "where Rating.ratingDate > '2011-01-20' and Rating.mID = Movie.mID;"
            ],
            "metadata": {
                "azdata_cell_guid": "a18deb10-1e40-4756-95f4-c15cebc41c72",
                "tags": []
            },
            "outputs": [
                {
                    "output_type": "display_data",
                    "data": {
                        "text/html": "Commands completed successfully."
                    },
                    "metadata": {}
                },
                {
                    "output_type": "display_data",
                    "data": {
                        "text/html": "Total execution time: 00:00:00.018"
                    },
                    "metadata": {}
                }
            ],
            "execution_count": 33
        },
        {
            "cell_type": "code",
            "source": [
                "select distinct * from LateRating; "
            ],
            "metadata": {
                "azdata_cell_guid": "b95f0fc6-ba7a-43ec-a696-0f42fc5aef58"
            },
            "outputs": [
                {
                    "output_type": "display_data",
                    "data": {
                        "text/html": "(6 rows affected)"
                    },
                    "metadata": {}
                },
                {
                    "output_type": "display_data",
                    "data": {
                        "text/html": "Total execution time: 00:00:00.047"
                    },
                    "metadata": {}
                },
                {
                    "output_type": "execute_result",
                    "metadata": {
                        "resultSet": {
                            "id": 0,
                            "batchId": 0,
                            "rowCount": 6,
                            "complete": true,
                            "columnInfo": [
                                {
                                    "isBytes": false,
                                    "isChars": false,
                                    "isSqlVariant": false,
                                    "isUdt": false,
                                    "isXml": false,
                                    "isJson": false,
                                    "sqlDbType": 8,
                                    "isHierarchyId": false,
                                    "isSqlXmlType": false,
                                    "isUnknownType": false,
                                    "isUpdatable": true,
                                    "allowDBNull": false,
                                    "baseCatalogName": null,
                                    "baseColumnName": null,
                                    "baseSchemaName": null,
                                    "baseServerName": null,
                                    "baseTableName": null,
                                    "columnName": "mID",
                                    "columnOrdinal": 0,
                                    "columnSize": 4,
                                    "isAliased": null,
                                    "isAutoIncrement": false,
                                    "isExpression": null,
                                    "isHidden": null,
                                    "isIdentity": false,
                                    "isKey": null,
                                    "isLong": false,
                                    "isReadOnly": false,
                                    "isUnique": false,
                                    "numericPrecision": 10,
                                    "numericScale": 255,
                                    "udtAssemblyQualifiedName": null,
                                    "dataType": "System.Int32, System.Private.CoreLib, Version=4.0.0.0, Culture=neutral, PublicKeyToken=7cec85d7bea7798e",
                                    "dataTypeName": "int"
                                },
                                {
                                    "isBytes": false,
                                    "isChars": true,
                                    "isSqlVariant": false,
                                    "isUdt": false,
                                    "isXml": false,
                                    "isJson": false,
                                    "sqlDbType": 22,
                                    "isHierarchyId": false,
                                    "isSqlXmlType": false,
                                    "isUnknownType": false,
                                    "isUpdatable": true,
                                    "allowDBNull": true,
                                    "baseCatalogName": null,
                                    "baseColumnName": null,
                                    "baseSchemaName": null,
                                    "baseServerName": null,
                                    "baseTableName": null,
                                    "columnName": "title",
                                    "columnOrdinal": 1,
                                    "columnSize": 50,
                                    "isAliased": null,
                                    "isAutoIncrement": false,
                                    "isExpression": null,
                                    "isHidden": null,
                                    "isIdentity": false,
                                    "isKey": null,
                                    "isLong": false,
                                    "isReadOnly": false,
                                    "isUnique": false,
                                    "numericPrecision": 255,
                                    "numericScale": 255,
                                    "udtAssemblyQualifiedName": null,
                                    "dataType": "System.String, System.Private.CoreLib, Version=4.0.0.0, Culture=neutral, PublicKeyToken=7cec85d7bea7798e",
                                    "dataTypeName": "varchar"
                                },
                                {
                                    "isBytes": false,
                                    "isChars": false,
                                    "isSqlVariant": false,
                                    "isUdt": false,
                                    "isXml": false,
                                    "isJson": false,
                                    "sqlDbType": 8,
                                    "isHierarchyId": false,
                                    "isSqlXmlType": false,
                                    "isUnknownType": false,
                                    "isUpdatable": true,
                                    "allowDBNull": true,
                                    "baseCatalogName": null,
                                    "baseColumnName": null,
                                    "baseSchemaName": null,
                                    "baseServerName": null,
                                    "baseTableName": null,
                                    "columnName": "stars",
                                    "columnOrdinal": 2,
                                    "columnSize": 4,
                                    "isAliased": null,
                                    "isAutoIncrement": false,
                                    "isExpression": null,
                                    "isHidden": null,
                                    "isIdentity": false,
                                    "isKey": null,
                                    "isLong": false,
                                    "isReadOnly": false,
                                    "isUnique": false,
                                    "numericPrecision": 10,
                                    "numericScale": 255,
                                    "udtAssemblyQualifiedName": null,
                                    "dataType": "System.Int32, System.Private.CoreLib, Version=4.0.0.0, Culture=neutral, PublicKeyToken=7cec85d7bea7798e",
                                    "dataTypeName": "int"
                                },
                                {
                                    "isBytes": false,
                                    "isChars": false,
                                    "isSqlVariant": false,
                                    "isUdt": false,
                                    "isXml": false,
                                    "isJson": false,
                                    "sqlDbType": 4,
                                    "isHierarchyId": false,
                                    "isSqlXmlType": false,
                                    "isUnknownType": false,
                                    "isUpdatable": true,
                                    "allowDBNull": true,
                                    "baseCatalogName": null,
                                    "baseColumnName": null,
                                    "baseSchemaName": null,
                                    "baseServerName": null,
                                    "baseTableName": null,
                                    "columnName": "ratingDate",
                                    "columnOrdinal": 3,
                                    "columnSize": 8,
                                    "isAliased": null,
                                    "isAutoIncrement": false,
                                    "isExpression": null,
                                    "isHidden": null,
                                    "isIdentity": false,
                                    "isKey": null,
                                    "isLong": false,
                                    "isReadOnly": false,
                                    "isUnique": false,
                                    "numericPrecision": 23,
                                    "numericScale": 3,
                                    "udtAssemblyQualifiedName": null,
                                    "dataType": "System.DateTime, System.Private.CoreLib, Version=4.0.0.0, Culture=neutral, PublicKeyToken=7cec85d7bea7798e",
                                    "dataTypeName": "datetime"
                                }
                            ],
                            "specialAction": {
                                "none": true,
                                "expectYukonXMLShowPlan": false
                            }
                        }
                    },
                    "execution_count": 34,
                    "data": {
                        "application/vnd.dataresource+json": {
                            "schema": {
                                "fields": [
                                    {
                                        "name": "mID"
                                    },
                                    {
                                        "name": "title"
                                    },
                                    {
                                        "name": "stars"
                                    },
                                    {
                                        "name": "ratingDate"
                                    }
                                ]
                            },
                            "data": [
                                {
                                    "0": "103",
                                    "1": "How to Train Your Dragon",
                                    "2": "4",
                                    "3": "2011-04-10 00:00:00.000"
                                },
                                {
                                    "0": "104",
                                    "1": "Zombieland",
                                    "2": "4",
                                    "3": "2015-03-04 00:00:00.000"
                                },
                                {
                                    "0": "105",
                                    "1": "Iron man",
                                    "2": "2",
                                    "3": "2013-01-07 00:00:00.000"
                                },
                                {
                                    "0": "106",
                                    "1": "Spider man",
                                    "2": "5",
                                    "3": "2012-06-22 00:00:00.000"
                                },
                                {
                                    "0": "107",
                                    "1": "Avatar",
                                    "2": "3",
                                    "3": "2012-10-25 00:00:00.000"
                                },
                                {
                                    "0": "107",
                                    "1": "Avatar",
                                    "2": "4",
                                    "3": "2014-10-29 00:00:00.000"
                                }
                            ]
                        },
                        "text/html": [
                            "<table>",
                            "<tr><th>mID</th><th>title</th><th>stars</th><th>ratingDate</th></tr>",
                            "<tr><td>103</td><td>How to Train Your Dragon</td><td>4</td><td>2011-04-10 00:00:00.000</td></tr>",
                            "<tr><td>104</td><td>Zombieland</td><td>4</td><td>2015-03-04 00:00:00.000</td></tr>",
                            "<tr><td>105</td><td>Iron man</td><td>2</td><td>2013-01-07 00:00:00.000</td></tr>",
                            "<tr><td>106</td><td>Spider man</td><td>5</td><td>2012-06-22 00:00:00.000</td></tr>",
                            "<tr><td>107</td><td>Avatar</td><td>3</td><td>2012-10-25 00:00:00.000</td></tr>",
                            "<tr><td>107</td><td>Avatar</td><td>4</td><td>2014-10-29 00:00:00.000</td></tr>",
                            "</table>"
                        ]
                    }
                }
            ],
            "execution_count": 34
        },
        {
            "cell_type": "markdown",
            "source": [
                "**2.View HighlyRated =\\> contains movies with at least one rating above 3 stars. The view**\n",
                "\n",
                "**contains the movie ID and movie title.**"
            ],
            "metadata": {
                "azdata_cell_guid": "cffef254-e049-4717-b059-cc3199e5294e"
            }
        },
        {
            "cell_type": "code",
            "source": [
                "CREATE VIEW HighlyRated AS\r\n",
                "select Movie.mID,title\r\n",
                "from dbo.Movie,dbo.Rating\r\n",
                "where Rating.stars > '3' and Rating.mID = Movie.mID;\r\n",
                ""
            ],
            "metadata": {
                "azdata_cell_guid": "1ae6970e-3b63-4565-a765-d5f3ab264e90",
                "tags": []
            },
            "outputs": [
                {
                    "output_type": "display_data",
                    "data": {
                        "text/html": "Commands completed successfully."
                    },
                    "metadata": {}
                },
                {
                    "output_type": "display_data",
                    "data": {
                        "text/html": "Total execution time: 00:00:00.020"
                    },
                    "metadata": {}
                }
            ],
            "execution_count": 26
        },
        {
            "cell_type": "code",
            "source": [
                "select * from HighlyRated"
            ],
            "metadata": {
                "azdata_cell_guid": "e1f708ea-77df-45fc-99d0-294356705203"
            },
            "outputs": [
                {
                    "output_type": "display_data",
                    "data": {
                        "text/html": "(5 rows affected)"
                    },
                    "metadata": {}
                },
                {
                    "output_type": "display_data",
                    "data": {
                        "text/html": "Total execution time: 00:00:00.042"
                    },
                    "metadata": {}
                },
                {
                    "output_type": "execute_result",
                    "metadata": {
                        "resultSet": {
                            "id": 0,
                            "batchId": 0,
                            "rowCount": 5,
                            "complete": false,
                            "columnInfo": [
                                {
                                    "isBytes": false,
                                    "isChars": false,
                                    "isSqlVariant": false,
                                    "isUdt": false,
                                    "isXml": false,
                                    "isJson": false,
                                    "sqlDbType": 8,
                                    "isHierarchyId": false,
                                    "isSqlXmlType": false,
                                    "isUnknownType": false,
                                    "isUpdatable": true,
                                    "allowDBNull": false,
                                    "baseCatalogName": null,
                                    "baseColumnName": null,
                                    "baseSchemaName": null,
                                    "baseServerName": null,
                                    "baseTableName": null,
                                    "columnName": "mID",
                                    "columnOrdinal": 0,
                                    "columnSize": 4,
                                    "isAliased": null,
                                    "isAutoIncrement": false,
                                    "isExpression": null,
                                    "isHidden": null,
                                    "isIdentity": false,
                                    "isKey": null,
                                    "isLong": false,
                                    "isReadOnly": false,
                                    "isUnique": false,
                                    "numericPrecision": 10,
                                    "numericScale": 255,
                                    "udtAssemblyQualifiedName": null,
                                    "dataType": "System.Int32, System.Private.CoreLib, Version=4.0.0.0, Culture=neutral, PublicKeyToken=7cec85d7bea7798e",
                                    "dataTypeName": "int"
                                },
                                {
                                    "isBytes": false,
                                    "isChars": true,
                                    "isSqlVariant": false,
                                    "isUdt": false,
                                    "isXml": false,
                                    "isJson": false,
                                    "sqlDbType": 22,
                                    "isHierarchyId": false,
                                    "isSqlXmlType": false,
                                    "isUnknownType": false,
                                    "isUpdatable": true,
                                    "allowDBNull": true,
                                    "baseCatalogName": null,
                                    "baseColumnName": null,
                                    "baseSchemaName": null,
                                    "baseServerName": null,
                                    "baseTableName": null,
                                    "columnName": "title",
                                    "columnOrdinal": 1,
                                    "columnSize": 50,
                                    "isAliased": null,
                                    "isAutoIncrement": false,
                                    "isExpression": null,
                                    "isHidden": null,
                                    "isIdentity": false,
                                    "isKey": null,
                                    "isLong": false,
                                    "isReadOnly": false,
                                    "isUnique": false,
                                    "numericPrecision": 255,
                                    "numericScale": 255,
                                    "udtAssemblyQualifiedName": null,
                                    "dataType": "System.String, System.Private.CoreLib, Version=4.0.0.0, Culture=neutral, PublicKeyToken=7cec85d7bea7798e",
                                    "dataTypeName": "varchar"
                                }
                            ],
                            "specialAction": null
                        }
                    },
                    "execution_count": 27,
                    "data": {
                        "application/vnd.dataresource+json": {
                            "schema": {
                                "fields": [
                                    {
                                        "name": "mID"
                                    },
                                    {
                                        "name": "title"
                                    }
                                ]
                            },
                            "data": [
                                {
                                    "0": "101",
                                    "1": "The Lord Of The Rings"
                                },
                                {
                                    "0": "106",
                                    "1": "Spider man"
                                },
                                {
                                    "0": "103",
                                    "1": "How to Train Your Dragon"
                                },
                                {
                                    "0": "107",
                                    "1": "Avatar"
                                },
                                {
                                    "0": "104",
                                    "1": "Zombieland"
                                }
                            ]
                        },
                        "text/html": [
                            "<table>",
                            "<tr><th>mID</th><th>title</th></tr>",
                            "<tr><td>101</td><td>The Lord Of The Rings</td></tr>",
                            "<tr><td>106</td><td>Spider man</td></tr>",
                            "<tr><td>103</td><td>How to Train Your Dragon</td></tr>",
                            "<tr><td>107</td><td>Avatar</td></tr>",
                            "<tr><td>104</td><td>Zombieland</td></tr>",
                            "</table>"
                        ]
                    }
                }
            ],
            "execution_count": 27
        },
        {
            "cell_type": "markdown",
            "source": [
                "**3.View NoRating contains movies with no ratings in the database. The view contains the**\n",
                "\n",
                "**movie ID and movie title.**"
            ],
            "metadata": {
                "azdata_cell_guid": "a64461fd-d496-4b5a-9ef1-632b07e50730"
            }
        },
        {
            "cell_type": "code",
            "source": [
                "CREATE VIEW NoRating as\r\n",
                "select Movie.mID,title\r\n",
                "from dbo.Movie,dbo.Rating\r\n",
                "where Movie.mID Not in (select Rating.mID from Rating);"
            ],
            "metadata": {
                "azdata_cell_guid": "1f3f164a-1e8f-4668-9144-cf86eccfb13b"
            },
            "outputs": [
                {
                    "output_type": "display_data",
                    "data": {
                        "text/html": "Commands completed successfully."
                    },
                    "metadata": {}
                },
                {
                    "output_type": "display_data",
                    "data": {
                        "text/html": "Total execution time: 00:00:00.023"
                    },
                    "metadata": {}
                }
            ],
            "execution_count": 29
        },
        {
            "cell_type": "code",
            "source": [
                "select distinct * from NoRating;"
            ],
            "metadata": {
                "azdata_cell_guid": "2e05f7d0-0b46-484e-84db-365d75d378bd"
            },
            "outputs": [
                {
                    "output_type": "display_data",
                    "data": {
                        "text/html": "(1 row affected)"
                    },
                    "metadata": {}
                },
                {
                    "output_type": "display_data",
                    "data": {
                        "text/html": "Total execution time: 00:00:00.110"
                    },
                    "metadata": {}
                },
                {
                    "output_type": "execute_result",
                    "metadata": {
                        "resultSet": {
                            "id": 0,
                            "batchId": 0,
                            "rowCount": 1,
                            "complete": false,
                            "columnInfo": [
                                {
                                    "isBytes": false,
                                    "isChars": false,
                                    "isSqlVariant": false,
                                    "isUdt": false,
                                    "isXml": false,
                                    "isJson": false,
                                    "sqlDbType": 8,
                                    "isHierarchyId": false,
                                    "isSqlXmlType": false,
                                    "isUnknownType": false,
                                    "isUpdatable": true,
                                    "allowDBNull": false,
                                    "baseCatalogName": null,
                                    "baseColumnName": null,
                                    "baseSchemaName": null,
                                    "baseServerName": null,
                                    "baseTableName": null,
                                    "columnName": "mID",
                                    "columnOrdinal": 0,
                                    "columnSize": 4,
                                    "isAliased": null,
                                    "isAutoIncrement": false,
                                    "isExpression": null,
                                    "isHidden": null,
                                    "isIdentity": false,
                                    "isKey": null,
                                    "isLong": false,
                                    "isReadOnly": false,
                                    "isUnique": false,
                                    "numericPrecision": 10,
                                    "numericScale": 255,
                                    "udtAssemblyQualifiedName": null,
                                    "dataType": "System.Int32, System.Private.CoreLib, Version=4.0.0.0, Culture=neutral, PublicKeyToken=7cec85d7bea7798e",
                                    "dataTypeName": "int"
                                },
                                {
                                    "isBytes": false,
                                    "isChars": true,
                                    "isSqlVariant": false,
                                    "isUdt": false,
                                    "isXml": false,
                                    "isJson": false,
                                    "sqlDbType": 22,
                                    "isHierarchyId": false,
                                    "isSqlXmlType": false,
                                    "isUnknownType": false,
                                    "isUpdatable": true,
                                    "allowDBNull": true,
                                    "baseCatalogName": null,
                                    "baseColumnName": null,
                                    "baseSchemaName": null,
                                    "baseServerName": null,
                                    "baseTableName": null,
                                    "columnName": "title",
                                    "columnOrdinal": 1,
                                    "columnSize": 50,
                                    "isAliased": null,
                                    "isAutoIncrement": false,
                                    "isExpression": null,
                                    "isHidden": null,
                                    "isIdentity": false,
                                    "isKey": null,
                                    "isLong": false,
                                    "isReadOnly": false,
                                    "isUnique": false,
                                    "numericPrecision": 255,
                                    "numericScale": 255,
                                    "udtAssemblyQualifiedName": null,
                                    "dataType": "System.String, System.Private.CoreLib, Version=4.0.0.0, Culture=neutral, PublicKeyToken=7cec85d7bea7798e",
                                    "dataTypeName": "varchar"
                                }
                            ],
                            "specialAction": null
                        }
                    },
                    "execution_count": 31,
                    "data": {
                        "application/vnd.dataresource+json": {
                            "schema": {
                                "fields": [
                                    {
                                        "name": "mID"
                                    },
                                    {
                                        "name": "title"
                                    }
                                ]
                            },
                            "data": [
                                {
                                    "0": "102",
                                    "1": "Back to the Future"
                                }
                            ]
                        },
                        "text/html": [
                            "<table>",
                            "<tr><th>mID</th><th>title</th></tr>",
                            "<tr><td>102</td><td>Back to the Future</td></tr>",
                            "</table>"
                        ]
                    }
                }
            ],
            "execution_count": 31
        }
    ]
}