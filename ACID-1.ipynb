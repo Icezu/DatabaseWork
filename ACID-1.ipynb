{
    "metadata": {
        "kernelspec": {
            "name": "SQL",
            "display_name": "SQL",
            "language": "sql"
        },
        "language_info": {
            "name": "sql",
            "version": ""
        }
    },
    "nbformat_minor": 2,
    "nbformat": 4,
    "cells": [
        {
            "cell_type": "code",
            "source": [
                "create DATABASE Product_and_Service"
            ],
            "metadata": {
                "azdata_cell_guid": "bf7a221f-7b46-47f2-865d-0e433baf0a37"
            },
            "outputs": [
                {
                    "output_type": "display_data",
                    "data": {
                        "text/html": "Commands completed successfully."
                    },
                    "metadata": {}
                },
                {
                    "output_type": "display_data",
                    "data": {
                        "text/html": "Total execution time: 00:00:00.920"
                    },
                    "metadata": {}
                }
            ],
            "execution_count": 1
        },
        {
            "cell_type": "code",
            "source": [
                "use Product_and_Service;"
            ],
            "metadata": {
                "azdata_cell_guid": "b07e6f10-f45c-4dae-a99a-f9f7448d75aa"
            },
            "outputs": [
                {
                    "output_type": "display_data",
                    "data": {
                        "text/html": "Commands completed successfully."
                    },
                    "metadata": {}
                },
                {
                    "output_type": "display_data",
                    "data": {
                        "text/html": "Total execution time: 00:00:00.003"
                    },
                    "metadata": {}
                }
            ],
            "execution_count": 3
        },
        {
            "cell_type": "code",
            "source": [
                "create table Product\r\n",
                "    (prID int not null,\r\n",
                "    prName VARCHAR(30),\r\n",
                "    prStock int,\r\n",
                "    prType VARCHAR(30)\r\n",
                "    primary key (prID)\r\n",
                "    );"
            ],
            "metadata": {
                "azdata_cell_guid": "52ec28e6-1399-49ed-b9a8-fb776a1168d1",
                "tags": [
                    "hide_input"
                ]
            },
            "outputs": [
                {
                    "output_type": "display_data",
                    "data": {
                        "text/html": "Commands completed successfully."
                    },
                    "metadata": {}
                },
                {
                    "output_type": "display_data",
                    "data": {
                        "text/html": "Total execution time: 00:00:00.010"
                    },
                    "metadata": {}
                }
            ],
            "execution_count": 6
        },
        {
            "cell_type": "code",
            "source": [
                "create table Service\r\n",
                "    (cId int not null,\r\n",
                "    cName VARCHAR(40),\r\n",
                "    prID int,\r\n",
                "    buyAmount int,\r\n",
                "    foreign key (prID) REFERENCES Product\r\n",
                "    );"
            ],
            "metadata": {
                "azdata_cell_guid": "f436844b-be5e-4b0f-a98b-2a982ff4d576",
                "tags": [
                    "hide_input"
                ]
            },
            "outputs": [
                {
                    "output_type": "display_data",
                    "data": {
                        "text/html": "Commands completed successfully."
                    },
                    "metadata": {}
                },
                {
                    "output_type": "display_data",
                    "data": {
                        "text/html": "Total execution time: 00:00:00.011"
                    },
                    "metadata": {}
                }
            ],
            "execution_count": 7
        },
        {
            "cell_type": "code",
            "source": [
                "INSERT dbo.Product\r\n",
                "    (prID,prName,prStock,prType)\r\n",
                "VALUES\r\n",
                "    (001, 'Coke', 100, 'SoftDrink'),\r\n",
                "    (002, 'Lae', 100,'Chips'),\r\n",
                "    (003, 'Water', 100, 'Drinks'),\r\n",
                "    (004, 'Cigarette', 50, 'Drugs'),\r\n",
                "    (005, 'Rice', 100, 'Food'),\r\n",
                "    (006, 'Icecream', 50, 'Frozen treat'),\r\n",
                "    (007, 'Gum', 30, 'Snack')"
            ],
            "metadata": {
                "azdata_cell_guid": "2b1c43c6-f6d9-4b0b-9d69-d95e78607b47",
                "tags": [
                    "hide_input"
                ]
            },
            "outputs": [
                {
                    "output_type": "error",
                    "evalue": "Msg 2627, Level 14, State 1, Line 1\r\nViolation of PRIMARY KEY constraint 'PK__Product__466486B5C9EABA7A'. Cannot insert duplicate key in object 'dbo.Product'. The duplicate key value is (1).",
                    "ename": "",
                    "traceback": []
                },
                {
                    "output_type": "display_data",
                    "data": {
                        "text/html": "The statement has been terminated."
                    },
                    "metadata": {}
                },
                {
                    "output_type": "display_data",
                    "data": {
                        "text/html": "Total execution time: 00:00:00.023"
                    },
                    "metadata": {}
                }
            ],
            "execution_count": 9
        },
        {
            "cell_type": "code",
            "source": [
                "INSERT dbo.Service\r\n",
                "    (cID,cName,prID,buyAmount)\r\n",
                "VALUES\r\n",
                "    (100, 'Thorn', 001, 1),\r\n",
                "    (101, 'Tae', 002, 2),\r\n",
                "    (102, 'Beam', 007, 1),\r\n",
                "    (103, 'Pund', 005, 3),\r\n",
                "    (104, 'Au', 004, 2),\r\n",
                "    (105, 'Kin', 002, 1),\r\n",
                "    (106, 'Kuea', 006, 1)"
            ],
            "metadata": {
                "azdata_cell_guid": "b8600434-b100-424f-bd5f-26780353595d",
                "tags": [
                    "hide_input"
                ]
            },
            "outputs": [
                {
                    "output_type": "display_data",
                    "data": {
                        "text/html": "(7 rows affected)"
                    },
                    "metadata": {}
                },
                {
                    "output_type": "display_data",
                    "data": {
                        "text/html": "Total execution time: 00:00:00.027"
                    },
                    "metadata": {}
                }
            ],
            "execution_count": 11
        },
        {
            "cell_type": "code",
            "source": [
                "SET TRANSACTION ISOLATION LEVEL READ COMMITTED;\r\n",
                "select *\r\n",
                "from dbo.Product"
            ],
            "metadata": {
                "azdata_cell_guid": "51247baf-8a6b-4a18-9fbc-84ca35500345",
                "tags": []
            },
            "outputs": [
                {
                    "output_type": "display_data",
                    "data": {
                        "text/html": "(11 rows affected)"
                    },
                    "metadata": {}
                },
                {
                    "output_type": "display_data",
                    "data": {
                        "text/html": "Total execution time: 00:00:00.019"
                    },
                    "metadata": {}
                },
                {
                    "output_type": "execute_result",
                    "metadata": {
                        "resultSet": {
                            "id": 0,
                            "batchId": 0,
                            "rowCount": 11,
                            "complete": true,
                            "columnInfo": [
                                {
                                    "isBytes": false,
                                    "isChars": false,
                                    "isSqlVariant": false,
                                    "isUdt": false,
                                    "isXml": false,
                                    "isJson": false,
                                    "sqlDbType": 8,
                                    "isHierarchyId": false,
                                    "isSqlXmlType": false,
                                    "isUnknownType": false,
                                    "isUpdatable": true,
                                    "allowDBNull": false,
                                    "baseCatalogName": null,
                                    "baseColumnName": null,
                                    "baseSchemaName": null,
                                    "baseServerName": null,
                                    "baseTableName": null,
                                    "columnName": "prID",
                                    "columnOrdinal": 0,
                                    "columnSize": 4,
                                    "isAliased": null,
                                    "isAutoIncrement": false,
                                    "isExpression": null,
                                    "isHidden": null,
                                    "isIdentity": false,
                                    "isKey": null,
                                    "isLong": false,
                                    "isReadOnly": false,
                                    "isUnique": false,
                                    "numericPrecision": 10,
                                    "numericScale": 255,
                                    "udtAssemblyQualifiedName": null,
                                    "dataType": "System.Int32, System.Private.CoreLib, Version=4.0.0.0, Culture=neutral, PublicKeyToken=7cec85d7bea7798e",
                                    "dataTypeName": "int"
                                },
                                {
                                    "isBytes": false,
                                    "isChars": true,
                                    "isSqlVariant": false,
                                    "isUdt": false,
                                    "isXml": false,
                                    "isJson": false,
                                    "sqlDbType": 22,
                                    "isHierarchyId": false,
                                    "isSqlXmlType": false,
                                    "isUnknownType": false,
                                    "isUpdatable": true,
                                    "allowDBNull": true,
                                    "baseCatalogName": null,
                                    "baseColumnName": null,
                                    "baseSchemaName": null,
                                    "baseServerName": null,
                                    "baseTableName": null,
                                    "columnName": "prName",
                                    "columnOrdinal": 1,
                                    "columnSize": 30,
                                    "isAliased": null,
                                    "isAutoIncrement": false,
                                    "isExpression": null,
                                    "isHidden": null,
                                    "isIdentity": false,
                                    "isKey": null,
                                    "isLong": false,
                                    "isReadOnly": false,
                                    "isUnique": false,
                                    "numericPrecision": 255,
                                    "numericScale": 255,
                                    "udtAssemblyQualifiedName": null,
                                    "dataType": "System.String, System.Private.CoreLib, Version=4.0.0.0, Culture=neutral, PublicKeyToken=7cec85d7bea7798e",
                                    "dataTypeName": "varchar"
                                },
                                {
                                    "isBytes": false,
                                    "isChars": false,
                                    "isSqlVariant": false,
                                    "isUdt": false,
                                    "isXml": false,
                                    "isJson": false,
                                    "sqlDbType": 8,
                                    "isHierarchyId": false,
                                    "isSqlXmlType": false,
                                    "isUnknownType": false,
                                    "isUpdatable": true,
                                    "allowDBNull": true,
                                    "baseCatalogName": null,
                                    "baseColumnName": null,
                                    "baseSchemaName": null,
                                    "baseServerName": null,
                                    "baseTableName": null,
                                    "columnName": "prStock",
                                    "columnOrdinal": 2,
                                    "columnSize": 4,
                                    "isAliased": null,
                                    "isAutoIncrement": false,
                                    "isExpression": null,
                                    "isHidden": null,
                                    "isIdentity": false,
                                    "isKey": null,
                                    "isLong": false,
                                    "isReadOnly": false,
                                    "isUnique": false,
                                    "numericPrecision": 10,
                                    "numericScale": 255,
                                    "udtAssemblyQualifiedName": null,
                                    "dataType": "System.Int32, System.Private.CoreLib, Version=4.0.0.0, Culture=neutral, PublicKeyToken=7cec85d7bea7798e",
                                    "dataTypeName": "int"
                                },
                                {
                                    "isBytes": false,
                                    "isChars": true,
                                    "isSqlVariant": false,
                                    "isUdt": false,
                                    "isXml": false,
                                    "isJson": false,
                                    "sqlDbType": 22,
                                    "isHierarchyId": false,
                                    "isSqlXmlType": false,
                                    "isUnknownType": false,
                                    "isUpdatable": true,
                                    "allowDBNull": true,
                                    "baseCatalogName": null,
                                    "baseColumnName": null,
                                    "baseSchemaName": null,
                                    "baseServerName": null,
                                    "baseTableName": null,
                                    "columnName": "prType",
                                    "columnOrdinal": 3,
                                    "columnSize": 30,
                                    "isAliased": null,
                                    "isAutoIncrement": false,
                                    "isExpression": null,
                                    "isHidden": null,
                                    "isIdentity": false,
                                    "isKey": null,
                                    "isLong": false,
                                    "isReadOnly": false,
                                    "isUnique": false,
                                    "numericPrecision": 255,
                                    "numericScale": 255,
                                    "udtAssemblyQualifiedName": null,
                                    "dataType": "System.String, System.Private.CoreLib, Version=4.0.0.0, Culture=neutral, PublicKeyToken=7cec85d7bea7798e",
                                    "dataTypeName": "varchar"
                                }
                            ],
                            "specialAction": {
                                "none": true,
                                "expectYukonXMLShowPlan": false
                            }
                        }
                    },
                    "execution_count": 125,
                    "data": {
                        "application/vnd.dataresource+json": {
                            "schema": {
                                "fields": [
                                    {
                                        "name": "prID"
                                    },
                                    {
                                        "name": "prName"
                                    },
                                    {
                                        "name": "prStock"
                                    },
                                    {
                                        "name": "prType"
                                    }
                                ]
                            },
                            "data": [
                                {
                                    "0": "1",
                                    "1": "Coke",
                                    "2": "50",
                                    "3": "SoftDrink"
                                },
                                {
                                    "0": "2",
                                    "1": "Lae",
                                    "2": "50",
                                    "3": "Chips"
                                },
                                {
                                    "0": "3",
                                    "1": "Water",
                                    "2": "100",
                                    "3": "Drinks"
                                },
                                {
                                    "0": "4",
                                    "1": "Cigarette",
                                    "2": "50",
                                    "3": "Drugs"
                                },
                                {
                                    "0": "5",
                                    "1": "Rice",
                                    "2": "100",
                                    "3": "Food"
                                },
                                {
                                    "0": "6",
                                    "1": "Icecream",
                                    "2": "50",
                                    "3": "Frozen treat"
                                },
                                {
                                    "0": "7",
                                    "1": "Gum",
                                    "2": "30",
                                    "3": "Snack"
                                },
                                {
                                    "0": "8",
                                    "1": "Pen",
                                    "2": "50",
                                    "3": "Writing utensil"
                                },
                                {
                                    "0": "9",
                                    "1": "Pencil",
                                    "2": "100",
                                    "3": "Writing utensil"
                                },
                                {
                                    "0": "10",
                                    "1": "Milk",
                                    "2": "30",
                                    "3": "Drinks"
                                },
                                {
                                    "0": "11",
                                    "1": "Cornflake",
                                    "2": "20",
                                    "3": "Food"
                                }
                            ]
                        },
                        "text/html": [
                            "<table>",
                            "<tr><th>prID</th><th>prName</th><th>prStock</th><th>prType</th></tr>",
                            "<tr><td>1</td><td>Coke</td><td>50</td><td>SoftDrink</td></tr>",
                            "<tr><td>2</td><td>Lae</td><td>50</td><td>Chips</td></tr>",
                            "<tr><td>3</td><td>Water</td><td>100</td><td>Drinks</td></tr>",
                            "<tr><td>4</td><td>Cigarette</td><td>50</td><td>Drugs</td></tr>",
                            "<tr><td>5</td><td>Rice</td><td>100</td><td>Food</td></tr>",
                            "<tr><td>6</td><td>Icecream</td><td>50</td><td>Frozen treat</td></tr>",
                            "<tr><td>7</td><td>Gum</td><td>30</td><td>Snack</td></tr>",
                            "<tr><td>8</td><td>Pen</td><td>50</td><td>Writing utensil</td></tr>",
                            "<tr><td>9</td><td>Pencil</td><td>100</td><td>Writing utensil</td></tr>",
                            "<tr><td>10</td><td>Milk</td><td>30</td><td>Drinks</td></tr>",
                            "<tr><td>11</td><td>Cornflake</td><td>20</td><td>Food</td></tr>",
                            "</table>"
                        ]
                    }
                }
            ],
            "execution_count": 125
        },
        {
            "cell_type": "code",
            "source": [
                "select *\r\n",
                "from dbo.Service"
            ],
            "metadata": {
                "azdata_cell_guid": "4e8407e7-0c55-4ae2-8248-9d0e25c0d59e",
                "tags": []
            },
            "outputs": [
                {
                    "output_type": "display_data",
                    "data": {
                        "text/html": "(7 rows affected)"
                    },
                    "metadata": {}
                },
                {
                    "output_type": "display_data",
                    "data": {
                        "text/html": "Total execution time: 00:00:00.049"
                    },
                    "metadata": {}
                },
                {
                    "output_type": "execute_result",
                    "metadata": {
                        "resultSet": {
                            "id": 0,
                            "batchId": 0,
                            "rowCount": 7,
                            "complete": false,
                            "columnInfo": [
                                {
                                    "isBytes": false,
                                    "isChars": false,
                                    "isSqlVariant": false,
                                    "isUdt": false,
                                    "isXml": false,
                                    "isJson": false,
                                    "sqlDbType": 8,
                                    "isHierarchyId": false,
                                    "isSqlXmlType": false,
                                    "isUnknownType": false,
                                    "isUpdatable": true,
                                    "allowDBNull": false,
                                    "baseCatalogName": null,
                                    "baseColumnName": null,
                                    "baseSchemaName": null,
                                    "baseServerName": null,
                                    "baseTableName": null,
                                    "columnName": "cId",
                                    "columnOrdinal": 0,
                                    "columnSize": 4,
                                    "isAliased": null,
                                    "isAutoIncrement": false,
                                    "isExpression": null,
                                    "isHidden": null,
                                    "isIdentity": false,
                                    "isKey": null,
                                    "isLong": false,
                                    "isReadOnly": false,
                                    "isUnique": false,
                                    "numericPrecision": 10,
                                    "numericScale": 255,
                                    "udtAssemblyQualifiedName": null,
                                    "dataType": "System.Int32, System.Private.CoreLib, Version=4.0.0.0, Culture=neutral, PublicKeyToken=7cec85d7bea7798e",
                                    "dataTypeName": "int"
                                },
                                {
                                    "isBytes": false,
                                    "isChars": true,
                                    "isSqlVariant": false,
                                    "isUdt": false,
                                    "isXml": false,
                                    "isJson": false,
                                    "sqlDbType": 22,
                                    "isHierarchyId": false,
                                    "isSqlXmlType": false,
                                    "isUnknownType": false,
                                    "isUpdatable": true,
                                    "allowDBNull": true,
                                    "baseCatalogName": null,
                                    "baseColumnName": null,
                                    "baseSchemaName": null,
                                    "baseServerName": null,
                                    "baseTableName": null,
                                    "columnName": "cName",
                                    "columnOrdinal": 1,
                                    "columnSize": 40,
                                    "isAliased": null,
                                    "isAutoIncrement": false,
                                    "isExpression": null,
                                    "isHidden": null,
                                    "isIdentity": false,
                                    "isKey": null,
                                    "isLong": false,
                                    "isReadOnly": false,
                                    "isUnique": false,
                                    "numericPrecision": 255,
                                    "numericScale": 255,
                                    "udtAssemblyQualifiedName": null,
                                    "dataType": "System.String, System.Private.CoreLib, Version=4.0.0.0, Culture=neutral, PublicKeyToken=7cec85d7bea7798e",
                                    "dataTypeName": "varchar"
                                },
                                {
                                    "isBytes": false,
                                    "isChars": false,
                                    "isSqlVariant": false,
                                    "isUdt": false,
                                    "isXml": false,
                                    "isJson": false,
                                    "sqlDbType": 8,
                                    "isHierarchyId": false,
                                    "isSqlXmlType": false,
                                    "isUnknownType": false,
                                    "isUpdatable": true,
                                    "allowDBNull": true,
                                    "baseCatalogName": null,
                                    "baseColumnName": null,
                                    "baseSchemaName": null,
                                    "baseServerName": null,
                                    "baseTableName": null,
                                    "columnName": "prID",
                                    "columnOrdinal": 2,
                                    "columnSize": 4,
                                    "isAliased": null,
                                    "isAutoIncrement": false,
                                    "isExpression": null,
                                    "isHidden": null,
                                    "isIdentity": false,
                                    "isKey": null,
                                    "isLong": false,
                                    "isReadOnly": false,
                                    "isUnique": false,
                                    "numericPrecision": 10,
                                    "numericScale": 255,
                                    "udtAssemblyQualifiedName": null,
                                    "dataType": "System.Int32, System.Private.CoreLib, Version=4.0.0.0, Culture=neutral, PublicKeyToken=7cec85d7bea7798e",
                                    "dataTypeName": "int"
                                },
                                {
                                    "isBytes": false,
                                    "isChars": false,
                                    "isSqlVariant": false,
                                    "isUdt": false,
                                    "isXml": false,
                                    "isJson": false,
                                    "sqlDbType": 8,
                                    "isHierarchyId": false,
                                    "isSqlXmlType": false,
                                    "isUnknownType": false,
                                    "isUpdatable": true,
                                    "allowDBNull": true,
                                    "baseCatalogName": null,
                                    "baseColumnName": null,
                                    "baseSchemaName": null,
                                    "baseServerName": null,
                                    "baseTableName": null,
                                    "columnName": "buyAmount",
                                    "columnOrdinal": 3,
                                    "columnSize": 4,
                                    "isAliased": null,
                                    "isAutoIncrement": false,
                                    "isExpression": null,
                                    "isHidden": null,
                                    "isIdentity": false,
                                    "isKey": null,
                                    "isLong": false,
                                    "isReadOnly": false,
                                    "isUnique": false,
                                    "numericPrecision": 10,
                                    "numericScale": 255,
                                    "udtAssemblyQualifiedName": null,
                                    "dataType": "System.Int32, System.Private.CoreLib, Version=4.0.0.0, Culture=neutral, PublicKeyToken=7cec85d7bea7798e",
                                    "dataTypeName": "int"
                                }
                            ],
                            "specialAction": null
                        }
                    },
                    "execution_count": 12,
                    "data": {
                        "application/vnd.dataresource+json": {
                            "schema": {
                                "fields": [
                                    {
                                        "name": "cId"
                                    },
                                    {
                                        "name": "cName"
                                    },
                                    {
                                        "name": "prID"
                                    },
                                    {
                                        "name": "buyAmount"
                                    }
                                ]
                            },
                            "data": [
                                {
                                    "0": "100",
                                    "1": "Thorn",
                                    "2": "1",
                                    "3": "1"
                                },
                                {
                                    "0": "101",
                                    "1": "Tae",
                                    "2": "2",
                                    "3": "2"
                                },
                                {
                                    "0": "102",
                                    "1": "Beam",
                                    "2": "7",
                                    "3": "1"
                                },
                                {
                                    "0": "103",
                                    "1": "Pund",
                                    "2": "5",
                                    "3": "3"
                                },
                                {
                                    "0": "104",
                                    "1": "Au",
                                    "2": "4",
                                    "3": "2"
                                },
                                {
                                    "0": "105",
                                    "1": "Kin",
                                    "2": "2",
                                    "3": "1"
                                },
                                {
                                    "0": "106",
                                    "1": "Kuea",
                                    "2": "6",
                                    "3": "1"
                                }
                            ]
                        },
                        "text/html": [
                            "<table>",
                            "<tr><th>cId</th><th>cName</th><th>prID</th><th>buyAmount</th></tr>",
                            "<tr><td>100</td><td>Thorn</td><td>1</td><td>1</td></tr>",
                            "<tr><td>101</td><td>Tae</td><td>2</td><td>2</td></tr>",
                            "<tr><td>102</td><td>Beam</td><td>7</td><td>1</td></tr>",
                            "<tr><td>103</td><td>Pund</td><td>5</td><td>3</td></tr>",
                            "<tr><td>104</td><td>Au</td><td>4</td><td>2</td></tr>",
                            "<tr><td>105</td><td>Kin</td><td>2</td><td>1</td></tr>",
                            "<tr><td>106</td><td>Kuea</td><td>6</td><td>1</td></tr>",
                            "</table>"
                        ]
                    }
                }
            ],
            "execution_count": 12
        },
        {
            "cell_type": "markdown",
            "source": [
                "**Atomicity**"
            ],
            "metadata": {
                "azdata_cell_guid": "28772fb3-4f6e-440e-ac9f-5c0159017a0a"
            }
        },
        {
            "cell_type": "code",
            "source": [
                "BEGIN TRANSACTION adjustprStock;\r\n",
                "update dbo.Product set prStock = 50 where prID = 1;\r\n",
                "COMMIT;"
            ],
            "metadata": {
                "azdata_cell_guid": "f20693b7-720f-4ce8-bdfc-4e28fceb8cd6",
                "tags": []
            },
            "outputs": [
                {
                    "output_type": "display_data",
                    "data": {
                        "text/html": "(1 row affected)"
                    },
                    "metadata": {}
                },
                {
                    "output_type": "display_data",
                    "data": {
                        "text/html": "Total execution time: 00:00:00.020"
                    },
                    "metadata": {}
                }
            ],
            "execution_count": 108
        },
        {
            "cell_type": "markdown",
            "source": [
                "**Consistency**"
            ],
            "metadata": {
                "azdata_cell_guid": "e3b440cb-4f67-46ba-b206-17132e7ba24c"
            }
        },
        {
            "cell_type": "code",
            "source": [
                "BEGIN TRANSACTION addProduct;\r\n",
                "INSERT INTO dbo.product(prID,prName,prStock,prType) VALUES(9,'Pencil',100,'Writing utensil')\r\n",
                "COMMIT;"
            ],
            "metadata": {
                "azdata_cell_guid": "077d1452-1946-47ed-8ec9-988919f044b0",
                "tags": []
            },
            "outputs": [
                {
                    "output_type": "display_data",
                    "data": {
                        "text/html": "(1 row affected)"
                    },
                    "metadata": {}
                },
                {
                    "output_type": "display_data",
                    "data": {
                        "text/html": "Total execution time: 00:00:00.006"
                    },
                    "metadata": {}
                }
            ],
            "execution_count": 111
        },
        {
            "cell_type": "markdown",
            "source": [
                "**Durability**"
            ],
            "metadata": {
                "azdata_cell_guid": "810e8e3d-cc3f-4249-b693-c3449a1615c5"
            }
        },
        {
            "cell_type": "code",
            "source": [
                "BEGIN TRANSACTION adjustprStock;\r\n",
                "update dbo.product set prstock = 50 where prID = 2;\r\n",
                "COMMIT;"
            ],
            "metadata": {
                "azdata_cell_guid": "6051110c-d92d-45a2-91db-401316f0baef"
            },
            "outputs": [
                {
                    "output_type": "display_data",
                    "data": {
                        "text/html": "(1 row affected)"
                    },
                    "metadata": {}
                },
                {
                    "output_type": "display_data",
                    "data": {
                        "text/html": "Total execution time: 00:00:00.006"
                    },
                    "metadata": {}
                }
            ],
            "execution_count": 113
        },
        {
            "cell_type": "code",
            "source": [
                "ROLLBACK TRANSACTION;"
            ],
            "metadata": {
                "azdata_cell_guid": "7550a7c4-7856-44da-9159-4aa16ab64b3c"
            },
            "outputs": [
                {
                    "output_type": "display_data",
                    "data": {
                        "text/html": "Commands completed successfully."
                    },
                    "metadata": {}
                },
                {
                    "output_type": "display_data",
                    "data": {
                        "text/html": "Total execution time: 00:00:00.011"
                    },
                    "metadata": {}
                }
            ],
            "execution_count": 104
        }
    ]
}