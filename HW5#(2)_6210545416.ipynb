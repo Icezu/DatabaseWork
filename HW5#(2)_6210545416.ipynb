{
    "metadata": {
        "kernelspec": {
            "name": "SQL",
            "display_name": "SQL",
            "language": "sql"
        },
        "language_info": {
            "name": "sql",
            "version": ""
        }
    },
    "nbformat_minor": 2,
    "nbformat": 4,
    "cells": [
        {
            "cell_type": "code",
            "source": [
                "create database University_Exercise on (FILENAME = N'/var/opt/mssql/data/University_Exercise.mdf') FOR ATTACH"
            ],
            "metadata": {
                "azdata_cell_guid": "3d0303e2-31ef-4db0-a8ec-8aecc38bad72"
            },
            "outputs": [
                {
                    "output_type": "error",
                    "evalue": "Msg 1801, Level 16, State 3, Line 1\r\nDatabase 'University_Exercise' already exists. Choose a different database name.",
                    "ename": "",
                    "traceback": []
                },
                {
                    "output_type": "display_data",
                    "data": {
                        "text/html": "Total execution time: 00:00:00.007"
                    },
                    "metadata": {}
                }
            ],
            "execution_count": 6
        },
        {
            "cell_type": "code",
            "source": [
                "use University_Exercise;"
            ],
            "metadata": {
                "azdata_cell_guid": "e85bae75-0d5e-480a-b425-6255f59824b3"
            },
            "outputs": [
                {
                    "output_type": "display_data",
                    "data": {
                        "text/html": "Commands completed successfully."
                    },
                    "metadata": {}
                },
                {
                    "output_type": "display_data",
                    "data": {
                        "text/html": "Total execution time: 00:00:00.007"
                    },
                    "metadata": {}
                }
            ],
            "execution_count": 7
        },
        {
            "cell_type": "markdown",
            "source": [
                "**Find the titles of courses in the Comp. Sci. department that having 3 credits**"
            ],
            "metadata": {
                "azdata_cell_guid": "ed9e0a5e-9164-44d2-802a-27f3284a5ad2"
            }
        },
        {
            "cell_type": "code",
            "source": [
                "select title\r\n",
                "from dbo.course\r\n",
                "where dept_name = 'Comp. Sci.' and credits = 3;"
            ],
            "metadata": {
                "azdata_cell_guid": "4ecd445d-ccfe-4f61-ba15-3d008f5f1055"
            },
            "outputs": [
                {
                    "output_type": "display_data",
                    "data": {
                        "text/html": "(3 rows affected)"
                    },
                    "metadata": {}
                },
                {
                    "output_type": "display_data",
                    "data": {
                        "text/html": "Total execution time: 00:00:00.047"
                    },
                    "metadata": {}
                },
                {
                    "output_type": "execute_result",
                    "execution_count": 8,
                    "data": {
                        "application/vnd.dataresource+json": {
                            "schema": {
                                "fields": [
                                    {
                                        "name": "title"
                                    }
                                ]
                            },
                            "data": [
                                {
                                    "0": "Robotics"
                                },
                                {
                                    "0": "Image Processing"
                                },
                                {
                                    "0": "Database System Concepts"
                                }
                            ]
                        },
                        "text/html": "<table><tr><th>title</th></tr><tr><td>Robotics</td></tr><tr><td>Image Processing</td></tr><tr><td>Database System Concepts</td></tr></table>"
                    },
                    "metadata": {
                        "resultSet": {
                            "id": 0,
                            "batchId": 0,
                            "rowCount": 3,
                            "complete": false,
                            "columnInfo": [
                                {
                                    "isBytes": false,
                                    "isChars": true,
                                    "isSqlVariant": false,
                                    "isUdt": false,
                                    "isXml": false,
                                    "isJson": false,
                                    "sqlDbType": 22,
                                    "isHierarchyId": false,
                                    "isSqlXmlType": false,
                                    "isUnknownType": false,
                                    "isUpdatable": true,
                                    "allowDBNull": true,
                                    "baseCatalogName": null,
                                    "baseColumnName": null,
                                    "baseSchemaName": null,
                                    "baseServerName": null,
                                    "baseTableName": null,
                                    "columnName": "title",
                                    "columnOrdinal": 0,
                                    "columnSize": 50,
                                    "isAliased": null,
                                    "isAutoIncrement": false,
                                    "isExpression": null,
                                    "isHidden": null,
                                    "isIdentity": false,
                                    "isKey": null,
                                    "isLong": false,
                                    "isReadOnly": false,
                                    "isUnique": false,
                                    "numericPrecision": 255,
                                    "numericScale": 255,
                                    "udtAssemblyQualifiedName": null,
                                    "dataType": "System.String, System.Private.CoreLib, Version=4.0.0.0, Culture=neutral, PublicKeyToken=7cec85d7bea7798e",
                                    "dataTypeName": "varchar"
                                }
                            ],
                            "specialAction": null
                        }
                    }
                }
            ],
            "execution_count": 8
        },
        {
            "cell_type": "markdown",
            "source": [
                "**Find the IDs (no duplicates) of all students who were taught by an instructor named**\n",
                "\n",
                "**Einstein. Please give 2-3 ways of queries**"
            ],
            "metadata": {
                "azdata_cell_guid": "337ac388-0a6e-475c-a565-e4462fbe1564"
            }
        },
        {
            "cell_type": "code",
            "source": [
                " select distinct student.ID\r\n",
                " from dbo.student,dbo.instructor\r\n",
                " where instructor.name = 'Einstein';\r\n",
                "\r\n",
                " select distinct student.ID\r\n",
                " from dbo.student\r\n",
                " INNER JOIN dbo.instructor on instructor.name = 'Einstein'; "
            ],
            "metadata": {
                "azdata_cell_guid": "1d5ad0b5-5cac-4570-953f-15faf79a62f2"
            },
            "outputs": [
                {
                    "output_type": "display_data",
                    "data": {
                        "text/html": "(13 rows affected)"
                    },
                    "metadata": {}
                },
                {
                    "output_type": "display_data",
                    "data": {
                        "text/html": "(13 rows affected)"
                    },
                    "metadata": {}
                },
                {
                    "output_type": "display_data",
                    "data": {
                        "text/html": "Total execution time: 00:00:00.124"
                    },
                    "metadata": {}
                },
                {
                    "output_type": "execute_result",
                    "metadata": {
                        "resultSet": {
                            "id": 0,
                            "batchId": 0,
                            "rowCount": 13,
                            "complete": false,
                            "columnInfo": [
                                {
                                    "isBytes": false,
                                    "isChars": true,
                                    "isSqlVariant": false,
                                    "isUdt": false,
                                    "isXml": false,
                                    "isJson": false,
                                    "sqlDbType": 22,
                                    "isHierarchyId": false,
                                    "isSqlXmlType": false,
                                    "isUnknownType": false,
                                    "isUpdatable": true,
                                    "allowDBNull": false,
                                    "baseCatalogName": null,
                                    "baseColumnName": null,
                                    "baseSchemaName": null,
                                    "baseServerName": null,
                                    "baseTableName": null,
                                    "columnName": "ID",
                                    "columnOrdinal": 0,
                                    "columnSize": 5,
                                    "isAliased": null,
                                    "isAutoIncrement": false,
                                    "isExpression": null,
                                    "isHidden": null,
                                    "isIdentity": false,
                                    "isKey": null,
                                    "isLong": false,
                                    "isReadOnly": false,
                                    "isUnique": false,
                                    "numericPrecision": 255,
                                    "numericScale": 255,
                                    "udtAssemblyQualifiedName": null,
                                    "dataType": "System.String, System.Private.CoreLib, Version=4.0.0.0, Culture=neutral, PublicKeyToken=7cec85d7bea7798e",
                                    "dataTypeName": "varchar"
                                }
                            ],
                            "specialAction": null
                        }
                    },
                    "execution_count": 9,
                    "data": {
                        "application/vnd.dataresource+json": {
                            "schema": {
                                "fields": [
                                    {
                                        "name": "ID"
                                    }
                                ]
                            },
                            "data": [
                                {
                                    "0": "00128"
                                },
                                {
                                    "0": "12345"
                                },
                                {
                                    "0": "19991"
                                },
                                {
                                    "0": "23121"
                                },
                                {
                                    "0": "44553"
                                },
                                {
                                    "0": "45678"
                                },
                                {
                                    "0": "54321"
                                },
                                {
                                    "0": "55739"
                                },
                                {
                                    "0": "70557"
                                },
                                {
                                    "0": "76543"
                                },
                                {
                                    "0": "76653"
                                },
                                {
                                    "0": "98765"
                                },
                                {
                                    "0": "98988"
                                }
                            ]
                        },
                        "text/html": [
                            "<table>",
                            "<tr><th>ID</th></tr>",
                            "<tr><td>00128</td></tr>",
                            "<tr><td>12345</td></tr>",
                            "<tr><td>19991</td></tr>",
                            "<tr><td>23121</td></tr>",
                            "<tr><td>44553</td></tr>",
                            "<tr><td>45678</td></tr>",
                            "<tr><td>54321</td></tr>",
                            "<tr><td>55739</td></tr>",
                            "<tr><td>70557</td></tr>",
                            "<tr><td>76543</td></tr>",
                            "<tr><td>76653</td></tr>",
                            "<tr><td>98765</td></tr>",
                            "<tr><td>98988</td></tr>",
                            "</table>"
                        ]
                    }
                },
                {
                    "output_type": "execute_result",
                    "metadata": {
                        "resultSet": {
                            "id": 1,
                            "batchId": 0,
                            "rowCount": 13,
                            "complete": true,
                            "columnInfo": [
                                {
                                    "isBytes": false,
                                    "isChars": true,
                                    "isSqlVariant": false,
                                    "isUdt": false,
                                    "isXml": false,
                                    "isJson": false,
                                    "sqlDbType": 22,
                                    "isHierarchyId": false,
                                    "isSqlXmlType": false,
                                    "isUnknownType": false,
                                    "isUpdatable": true,
                                    "allowDBNull": false,
                                    "baseCatalogName": null,
                                    "baseColumnName": null,
                                    "baseSchemaName": null,
                                    "baseServerName": null,
                                    "baseTableName": null,
                                    "columnName": "ID",
                                    "columnOrdinal": 0,
                                    "columnSize": 5,
                                    "isAliased": null,
                                    "isAutoIncrement": false,
                                    "isExpression": null,
                                    "isHidden": null,
                                    "isIdentity": false,
                                    "isKey": null,
                                    "isLong": false,
                                    "isReadOnly": false,
                                    "isUnique": false,
                                    "numericPrecision": 255,
                                    "numericScale": 255,
                                    "udtAssemblyQualifiedName": null,
                                    "dataType": "System.String, System.Private.CoreLib, Version=4.0.0.0, Culture=neutral, PublicKeyToken=7cec85d7bea7798e",
                                    "dataTypeName": "varchar"
                                }
                            ],
                            "specialAction": {
                                "none": true,
                                "expectYukonXMLShowPlan": false
                            }
                        }
                    },
                    "execution_count": 9,
                    "data": {
                        "application/vnd.dataresource+json": {
                            "schema": {
                                "fields": [
                                    {
                                        "name": "ID"
                                    }
                                ]
                            },
                            "data": [
                                {
                                    "0": "00128"
                                },
                                {
                                    "0": "12345"
                                },
                                {
                                    "0": "19991"
                                },
                                {
                                    "0": "23121"
                                },
                                {
                                    "0": "44553"
                                },
                                {
                                    "0": "45678"
                                },
                                {
                                    "0": "54321"
                                },
                                {
                                    "0": "55739"
                                },
                                {
                                    "0": "70557"
                                },
                                {
                                    "0": "76543"
                                },
                                {
                                    "0": "76653"
                                },
                                {
                                    "0": "98765"
                                },
                                {
                                    "0": "98988"
                                }
                            ]
                        },
                        "text/html": [
                            "<table>",
                            "<tr><th>ID</th></tr>",
                            "<tr><td>00128</td></tr>",
                            "<tr><td>12345</td></tr>",
                            "<tr><td>19991</td></tr>",
                            "<tr><td>23121</td></tr>",
                            "<tr><td>44553</td></tr>",
                            "<tr><td>45678</td></tr>",
                            "<tr><td>54321</td></tr>",
                            "<tr><td>55739</td></tr>",
                            "<tr><td>70557</td></tr>",
                            "<tr><td>76543</td></tr>",
                            "<tr><td>76653</td></tr>",
                            "<tr><td>98765</td></tr>",
                            "<tr><td>98988</td></tr>",
                            "</table>"
                        ]
                    }
                }
            ],
            "execution_count": 9
        },
        {
            "cell_type": "markdown",
            "source": [
                "**Find the highest salary of any instructor**"
            ],
            "metadata": {
                "azdata_cell_guid": "94f72b5f-7a1d-4a7d-a33c-a09a8e703182"
            }
        },
        {
            "cell_type": "code",
            "source": [
                "select MAX(instructor.salary) as highest_salary\r\n",
                "from dbo.instructor\r\n",
                "GO   "
            ],
            "metadata": {
                "azdata_cell_guid": "7142b6e6-cabb-4731-9de7-21ceb9f49b6e"
            },
            "outputs": [
                {
                    "output_type": "display_data",
                    "data": {
                        "text/html": "(1 row affected)"
                    },
                    "metadata": {}
                },
                {
                    "output_type": "display_data",
                    "data": {
                        "text/html": "Total execution time: 00:00:00.024"
                    },
                    "metadata": {}
                },
                {
                    "output_type": "execute_result",
                    "execution_count": 17,
                    "data": {
                        "application/vnd.dataresource+json": {
                            "schema": {
                                "fields": [
                                    {
                                        "name": "highest_salary"
                                    }
                                ]
                            },
                            "data": [
                                {
                                    "0": "95000.00"
                                }
                            ]
                        },
                        "text/html": "<table><tr><th>highest_salary</th></tr><tr><td>95000.00</td></tr></table>"
                    },
                    "metadata": {
                        "resultSet": {
                            "id": 0,
                            "batchId": 0,
                            "rowCount": 1,
                            "complete": true,
                            "columnInfo": [
                                {
                                    "isBytes": false,
                                    "isChars": false,
                                    "isSqlVariant": false,
                                    "isUdt": false,
                                    "isXml": false,
                                    "isJson": false,
                                    "sqlDbType": 5,
                                    "isHierarchyId": false,
                                    "isSqlXmlType": false,
                                    "isUnknownType": false,
                                    "isUpdatable": false,
                                    "allowDBNull": true,
                                    "baseCatalogName": null,
                                    "baseColumnName": null,
                                    "baseSchemaName": null,
                                    "baseServerName": null,
                                    "baseTableName": null,
                                    "columnName": "highest_salary",
                                    "columnOrdinal": 0,
                                    "columnSize": 17,
                                    "isAliased": null,
                                    "isAutoIncrement": false,
                                    "isExpression": null,
                                    "isHidden": null,
                                    "isIdentity": false,
                                    "isKey": null,
                                    "isLong": false,
                                    "isReadOnly": true,
                                    "isUnique": false,
                                    "numericPrecision": 8,
                                    "numericScale": 2,
                                    "udtAssemblyQualifiedName": null,
                                    "dataType": "System.Decimal, System.Private.CoreLib, Version=4.0.0.0, Culture=neutral, PublicKeyToken=7cec85d7bea7798e",
                                    "dataTypeName": "decimal"
                                }
                            ],
                            "specialAction": {
                                "none": true,
                                "expectYukonXMLShowPlan": false
                            }
                        }
                    }
                }
            ],
            "execution_count": 17
        },
        {
            "cell_type": "markdown",
            "source": [
                "**Find all instructors earning the highest salary (there may be more than one with the**\n",
                "\n",
                "**same salary).**"
            ],
            "metadata": {
                "azdata_cell_guid": "70791953-26f4-41c9-a0d0-8dc395902356"
            }
        },
        {
            "cell_type": "code",
            "source": [
                "select instructor.name\r\n",
                "from dbo.instructor\r\n",
                "where salary=(select MAX(salary) from dbo.instructor);"
            ],
            "metadata": {
                "azdata_cell_guid": "4557036e-9c32-4f00-8097-a252fc63b68c",
                "tags": []
            },
            "outputs": [
                {
                    "output_type": "display_data",
                    "data": {
                        "text/html": "(1 row affected)"
                    },
                    "metadata": {}
                },
                {
                    "output_type": "display_data",
                    "data": {
                        "text/html": "Total execution time: 00:00:00.107"
                    },
                    "metadata": {}
                },
                {
                    "output_type": "execute_result",
                    "execution_count": 26,
                    "data": {
                        "application/vnd.dataresource+json": {
                            "schema": {
                                "fields": [
                                    {
                                        "name": "name"
                                    }
                                ]
                            },
                            "data": [
                                {
                                    "0": "Einstein"
                                }
                            ]
                        },
                        "text/html": "<table><tr><th>name</th></tr><tr><td>Einstein</td></tr></table>"
                    },
                    "metadata": {
                        "resultSet": {
                            "id": 0,
                            "batchId": 0,
                            "rowCount": 1,
                            "complete": false,
                            "columnInfo": [
                                {
                                    "isBytes": false,
                                    "isChars": true,
                                    "isSqlVariant": false,
                                    "isUdt": false,
                                    "isXml": false,
                                    "isJson": false,
                                    "sqlDbType": 22,
                                    "isHierarchyId": false,
                                    "isSqlXmlType": false,
                                    "isUnknownType": false,
                                    "isUpdatable": true,
                                    "allowDBNull": false,
                                    "baseCatalogName": null,
                                    "baseColumnName": null,
                                    "baseSchemaName": null,
                                    "baseServerName": null,
                                    "baseTableName": null,
                                    "columnName": "name",
                                    "columnOrdinal": 0,
                                    "columnSize": 20,
                                    "isAliased": null,
                                    "isAutoIncrement": false,
                                    "isExpression": null,
                                    "isHidden": null,
                                    "isIdentity": false,
                                    "isKey": null,
                                    "isLong": false,
                                    "isReadOnly": false,
                                    "isUnique": false,
                                    "numericPrecision": 255,
                                    "numericScale": 255,
                                    "udtAssemblyQualifiedName": null,
                                    "dataType": "System.String, System.Private.CoreLib, Version=4.0.0.0, Culture=neutral, PublicKeyToken=7cec85d7bea7798e",
                                    "dataTypeName": "varchar"
                                }
                            ],
                            "specialAction": null
                        }
                    }
                }
            ],
            "execution_count": 26
        },
        {
            "cell_type": "markdown",
            "source": [
                "**Find the enrollment of each section that was offered in Autumn 2009. Please give 2-3**\n",
                "\n",
                "**ways of queries**"
            ],
            "metadata": {
                "azdata_cell_guid": "e5dab3ba-6529-4d6f-88c2-be12e5f9c3be"
            }
        },
        {
            "cell_type": "code",
            "source": [
                "select course_id,sec_id\r\n",
                "from dbo.section\r\n",
                "where section.year = 2009 and section.semester = 'Autumn';\r\n",
                "\r\n",
                "select section.course_id,section.sec_id, count(*) as enrollment\r\n",
                "from dbo.section Inner Join dbo.takes \r\n",
                "On section.year = 2009 and section.semester = 'Autumn'\r\n",
                "Group by section.course_id,section.sec_id;"
            ],
            "metadata": {
                "azdata_cell_guid": "11551a6f-05af-4efd-9cb4-3102cdd4a3a3",
                "tags": []
            },
            "outputs": [
                {
                    "output_type": "display_data",
                    "data": {
                        "text/html": "(0 rows affected)"
                    },
                    "metadata": {}
                },
                {
                    "output_type": "display_data",
                    "data": {
                        "text/html": "(0 rows affected)"
                    },
                    "metadata": {}
                },
                {
                    "output_type": "display_data",
                    "data": {
                        "text/html": "Total execution time: 00:00:00.103"
                    },
                    "metadata": {}
                },
                {
                    "output_type": "execute_result",
                    "execution_count": 47,
                    "data": {
                        "application/vnd.dataresource+json": {
                            "schema": {
                                "fields": [
                                    {
                                        "name": "course_id"
                                    },
                                    {
                                        "name": "sec_id"
                                    }
                                ]
                            },
                            "data": []
                        },
                        "text/html": "<table><tr><th>course_id</th><th>sec_id</th></tr></table>"
                    },
                    "metadata": {
                        "resultSet": {
                            "id": 0,
                            "batchId": 0,
                            "rowCount": 0,
                            "complete": false,
                            "columnInfo": [
                                {
                                    "isBytes": false,
                                    "isChars": true,
                                    "isSqlVariant": false,
                                    "isUdt": false,
                                    "isXml": false,
                                    "isJson": false,
                                    "sqlDbType": 22,
                                    "isHierarchyId": false,
                                    "isSqlXmlType": false,
                                    "isUnknownType": false,
                                    "isUpdatable": true,
                                    "allowDBNull": false,
                                    "baseCatalogName": null,
                                    "baseColumnName": null,
                                    "baseSchemaName": null,
                                    "baseServerName": null,
                                    "baseTableName": null,
                                    "columnName": "course_id",
                                    "columnOrdinal": 0,
                                    "columnSize": 8,
                                    "isAliased": null,
                                    "isAutoIncrement": false,
                                    "isExpression": null,
                                    "isHidden": null,
                                    "isIdentity": false,
                                    "isKey": null,
                                    "isLong": false,
                                    "isReadOnly": false,
                                    "isUnique": false,
                                    "numericPrecision": 255,
                                    "numericScale": 255,
                                    "udtAssemblyQualifiedName": null,
                                    "dataType": "System.String, System.Private.CoreLib, Version=4.0.0.0, Culture=neutral, PublicKeyToken=7cec85d7bea7798e",
                                    "dataTypeName": "varchar"
                                },
                                {
                                    "isBytes": false,
                                    "isChars": true,
                                    "isSqlVariant": false,
                                    "isUdt": false,
                                    "isXml": false,
                                    "isJson": false,
                                    "sqlDbType": 22,
                                    "isHierarchyId": false,
                                    "isSqlXmlType": false,
                                    "isUnknownType": false,
                                    "isUpdatable": true,
                                    "allowDBNull": false,
                                    "baseCatalogName": null,
                                    "baseColumnName": null,
                                    "baseSchemaName": null,
                                    "baseServerName": null,
                                    "baseTableName": null,
                                    "columnName": "sec_id",
                                    "columnOrdinal": 1,
                                    "columnSize": 8,
                                    "isAliased": null,
                                    "isAutoIncrement": false,
                                    "isExpression": null,
                                    "isHidden": null,
                                    "isIdentity": false,
                                    "isKey": null,
                                    "isLong": false,
                                    "isReadOnly": false,
                                    "isUnique": false,
                                    "numericPrecision": 255,
                                    "numericScale": 255,
                                    "udtAssemblyQualifiedName": null,
                                    "dataType": "System.String, System.Private.CoreLib, Version=4.0.0.0, Culture=neutral, PublicKeyToken=7cec85d7bea7798e",
                                    "dataTypeName": "varchar"
                                }
                            ],
                            "specialAction": null
                        }
                    }
                },
                {
                    "output_type": "execute_result",
                    "execution_count": 47,
                    "data": {
                        "application/vnd.dataresource+json": {
                            "schema": {
                                "fields": [
                                    {
                                        "name": "course_id"
                                    },
                                    {
                                        "name": "sec_id"
                                    },
                                    {
                                        "name": "enrollment"
                                    }
                                ]
                            },
                            "data": []
                        },
                        "text/html": "<table><tr><th>course_id</th><th>sec_id</th><th>enrollment</th></tr></table>"
                    },
                    "metadata": {
                        "resultSet": {
                            "id": 1,
                            "batchId": 0,
                            "rowCount": 0,
                            "complete": false,
                            "columnInfo": [
                                {
                                    "isBytes": false,
                                    "isChars": true,
                                    "isSqlVariant": false,
                                    "isUdt": false,
                                    "isXml": false,
                                    "isJson": false,
                                    "sqlDbType": 22,
                                    "isHierarchyId": false,
                                    "isSqlXmlType": false,
                                    "isUnknownType": false,
                                    "isUpdatable": true,
                                    "allowDBNull": false,
                                    "baseCatalogName": null,
                                    "baseColumnName": null,
                                    "baseSchemaName": null,
                                    "baseServerName": null,
                                    "baseTableName": null,
                                    "columnName": "course_id",
                                    "columnOrdinal": 0,
                                    "columnSize": 8,
                                    "isAliased": null,
                                    "isAutoIncrement": false,
                                    "isExpression": null,
                                    "isHidden": null,
                                    "isIdentity": false,
                                    "isKey": null,
                                    "isLong": false,
                                    "isReadOnly": false,
                                    "isUnique": false,
                                    "numericPrecision": 255,
                                    "numericScale": 255,
                                    "udtAssemblyQualifiedName": null,
                                    "dataType": "System.String, System.Private.CoreLib, Version=4.0.0.0, Culture=neutral, PublicKeyToken=7cec85d7bea7798e",
                                    "dataTypeName": "varchar"
                                },
                                {
                                    "isBytes": false,
                                    "isChars": true,
                                    "isSqlVariant": false,
                                    "isUdt": false,
                                    "isXml": false,
                                    "isJson": false,
                                    "sqlDbType": 22,
                                    "isHierarchyId": false,
                                    "isSqlXmlType": false,
                                    "isUnknownType": false,
                                    "isUpdatable": true,
                                    "allowDBNull": false,
                                    "baseCatalogName": null,
                                    "baseColumnName": null,
                                    "baseSchemaName": null,
                                    "baseServerName": null,
                                    "baseTableName": null,
                                    "columnName": "sec_id",
                                    "columnOrdinal": 1,
                                    "columnSize": 8,
                                    "isAliased": null,
                                    "isAutoIncrement": false,
                                    "isExpression": null,
                                    "isHidden": null,
                                    "isIdentity": false,
                                    "isKey": null,
                                    "isLong": false,
                                    "isReadOnly": false,
                                    "isUnique": false,
                                    "numericPrecision": 255,
                                    "numericScale": 255,
                                    "udtAssemblyQualifiedName": null,
                                    "dataType": "System.String, System.Private.CoreLib, Version=4.0.0.0, Culture=neutral, PublicKeyToken=7cec85d7bea7798e",
                                    "dataTypeName": "varchar"
                                },
                                {
                                    "isBytes": false,
                                    "isChars": false,
                                    "isSqlVariant": false,
                                    "isUdt": false,
                                    "isXml": false,
                                    "isJson": false,
                                    "sqlDbType": 8,
                                    "isHierarchyId": false,
                                    "isSqlXmlType": false,
                                    "isUnknownType": false,
                                    "isUpdatable": false,
                                    "allowDBNull": true,
                                    "baseCatalogName": null,
                                    "baseColumnName": null,
                                    "baseSchemaName": null,
                                    "baseServerName": null,
                                    "baseTableName": null,
                                    "columnName": "enrollment",
                                    "columnOrdinal": 2,
                                    "columnSize": 4,
                                    "isAliased": null,
                                    "isAutoIncrement": false,
                                    "isExpression": null,
                                    "isHidden": null,
                                    "isIdentity": false,
                                    "isKey": null,
                                    "isLong": false,
                                    "isReadOnly": true,
                                    "isUnique": false,
                                    "numericPrecision": 10,
                                    "numericScale": 255,
                                    "udtAssemblyQualifiedName": null,
                                    "dataType": "System.Int32, System.Private.CoreLib, Version=4.0.0.0, Culture=neutral, PublicKeyToken=7cec85d7bea7798e",
                                    "dataTypeName": "int"
                                }
                            ],
                            "specialAction": null
                        }
                    }
                }
            ],
            "execution_count": 47
        },
        {
            "cell_type": "markdown",
            "source": [
                "**Find the maximum enrollment, across all sections, in Autumn 2009**"
            ],
            "metadata": {
                "azdata_cell_guid": "5fe849bd-ca7c-4caa-9578-06dcbd1f3205"
            }
        },
        {
            "cell_type": "code",
            "source": [
                "Select MAX(Enrollment) as MAX_ENROLL\r\n",
                "From\r\n",
                "(Select section.course_id,section.sec_id,Count(*) as Enrollment\r\n",
                "From dbo.takes natural join dbo.section\r\n",
                "On section.semester = 'Autumn' and section.year = '2009'\r\n",
                "Group by section.course_id,section.sec_id) AS NEW_TABLE;\r\n",
                ""
            ],
            "metadata": {
                "azdata_cell_guid": "90a2ebb9-3786-40bf-8188-954d7a65e7e0",
                "tags": []
            },
            "outputs": [
                {
                    "output_type": "display_data",
                    "data": {
                        "text/html": "(1 row affected)"
                    },
                    "metadata": {}
                },
                {
                    "output_type": "display_data",
                    "data": {
                        "text/html": "Total execution time: 00:00:00.017"
                    },
                    "metadata": {}
                },
                {
                    "output_type": "execute_result",
                    "execution_count": 77,
                    "data": {
                        "application/vnd.dataresource+json": {
                            "schema": {
                                "fields": [
                                    {
                                        "name": "MAX_ENROLL"
                                    }
                                ]
                            },
                            "data": [
                                {
                                    "0": "NULL"
                                }
                            ]
                        },
                        "text/html": "<table><tr><th>MAX_ENROLL</th></tr><tr><td>NULL</td></tr></table>"
                    },
                    "metadata": {
                        "resultSet": {
                            "id": 0,
                            "batchId": 0,
                            "rowCount": 1,
                            "complete": true,
                            "columnInfo": [
                                {
                                    "isBytes": false,
                                    "isChars": false,
                                    "isSqlVariant": false,
                                    "isUdt": false,
                                    "isXml": false,
                                    "isJson": false,
                                    "sqlDbType": 8,
                                    "isHierarchyId": false,
                                    "isSqlXmlType": false,
                                    "isUnknownType": false,
                                    "isUpdatable": false,
                                    "allowDBNull": true,
                                    "baseCatalogName": null,
                                    "baseColumnName": null,
                                    "baseSchemaName": null,
                                    "baseServerName": null,
                                    "baseTableName": null,
                                    "columnName": "MAX_ENROLL",
                                    "columnOrdinal": 0,
                                    "columnSize": 4,
                                    "isAliased": null,
                                    "isAutoIncrement": false,
                                    "isExpression": null,
                                    "isHidden": null,
                                    "isIdentity": false,
                                    "isKey": null,
                                    "isLong": false,
                                    "isReadOnly": true,
                                    "isUnique": false,
                                    "numericPrecision": 10,
                                    "numericScale": 255,
                                    "udtAssemblyQualifiedName": null,
                                    "dataType": "System.Int32, System.Private.CoreLib, Version=4.0.0.0, Culture=neutral, PublicKeyToken=7cec85d7bea7798e",
                                    "dataTypeName": "int"
                                }
                            ],
                            "specialAction": {
                                "none": true,
                                "expectYukonXMLShowPlan": false
                            }
                        }
                    }
                }
            ],
            "execution_count": 77
        }
    ]
}