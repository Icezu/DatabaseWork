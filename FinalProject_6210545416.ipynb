{
    "metadata": {
        "kernelspec": {
            "name": "SQL",
            "display_name": "SQL",
            "language": "sql"
        },
        "language_info": {
            "name": "sql",
            "version": ""
        }
    },
    "nbformat_minor": 2,
    "nbformat": 4,
    "cells": [
        {
            "cell_type": "code",
            "source": [
                "Create Database grocerystore;"
            ],
            "metadata": {
                "azdata_cell_guid": "9df28912-3657-40e4-9263-1c2f5c32af2f"
            },
            "outputs": [
                {
                    "output_type": "display_data",
                    "data": {
                        "text/html": "Commands completed successfully."
                    },
                    "metadata": {}
                },
                {
                    "output_type": "display_data",
                    "data": {
                        "text/html": "Total execution time: 00:00:01.244"
                    },
                    "metadata": {}
                }
            ],
            "execution_count": 1
        },
        {
            "cell_type": "code",
            "source": [
                "use grocerystore"
            ],
            "metadata": {
                "azdata_cell_guid": "1beeeb82-9063-43ab-a66d-67afae109fbe"
            },
            "outputs": [
                {
                    "output_type": "display_data",
                    "data": {
                        "text/html": "Commands completed successfully."
                    },
                    "metadata": {}
                },
                {
                    "output_type": "display_data",
                    "data": {
                        "text/html": "Total execution time: 00:00:00.006"
                    },
                    "metadata": {}
                }
            ],
            "execution_count": 3
        },
        {
            "cell_type": "code",
            "source": [
                "Create Table Supplier\r\n",
                "(\r\n",
                "    Supplier_id INT NOT NULL,\r\n",
                "    Supplier_name varchar(100) NOT NULL UNIQUE,\r\n",
                "    Supplier_phone INT NOT NULL,\r\n",
                "    PRIMARY KEY(Supplier_id)\r\n",
                ");"
            ],
            "metadata": {
                "azdata_cell_guid": "3c3ca958-8f72-4fbe-aae5-cdd0041502e1",
                "tags": []
            },
            "outputs": [
                {
                    "output_type": "display_data",
                    "data": {
                        "text/html": "Commands completed successfully."
                    },
                    "metadata": {}
                },
                {
                    "output_type": "display_data",
                    "data": {
                        "text/html": "Total execution time: 00:00:00.072"
                    },
                    "metadata": {}
                }
            ],
            "execution_count": 4
        },
        {
            "cell_type": "code",
            "source": [
                "INSERT dbo.Supplier (Supplier_id,Supplier_name,Supplier_phone) \r\n",
                "VALUES (1,'sup1',0547891024),\r\n",
                "       (2,'sup2',0315462978),\r\n",
                "       (3,'sup3',0149875624);"
            ],
            "metadata": {
                "azdata_cell_guid": "9f806723-6f82-4c6e-97fe-3b3690dda069",
                "tags": []
            },
            "outputs": [
                {
                    "output_type": "error",
                    "ename": "",
                    "evalue": "Msg 2627, Level 14, State 1, Line 1\r\nViolation of PRIMARY KEY constraint 'PK__Supplier__8390B19036A599C6'. Cannot insert duplicate key in object 'dbo.Supplier'. The duplicate key value is (1).",
                    "traceback": []
                },
                {
                    "output_type": "display_data",
                    "data": {
                        "text/html": "The statement has been terminated."
                    },
                    "metadata": {}
                },
                {
                    "output_type": "display_data",
                    "data": {
                        "text/html": "Total execution time: 00:00:00.015"
                    },
                    "metadata": {}
                }
            ],
            "execution_count": 7
        },
        {
            "cell_type": "code",
            "source": [
                "create Table Product\r\n",
                "(\r\n",
                "    Product_id INT NOT NULL,\r\n",
                "    Product_name varchar(100) NOT NULL,\r\n",
                "    Product_price INT NOT NULL,\r\n",
                "    Product_quantity INT DEFAULT 0 NOT NULL,\r\n",
                "    Product_type varchar(100) NOT NULL,\r\n",
                "    Supplier_id INT NOT NULL,\r\n",
                "    PRIMARY KEY(Product_id),\r\n",
                "    FOREIGN KEY(Supplier_id) REFERENCES Supplier(Supplier_id)\r\n",
                ");"
            ],
            "metadata": {
                "azdata_cell_guid": "dbb8d2bd-eeb5-4ef4-948e-7e44c4666181",
                "tags": []
            },
            "outputs": [
                {
                    "output_type": "display_data",
                    "data": {
                        "text/html": "Commands completed successfully."
                    },
                    "metadata": {}
                },
                {
                    "output_type": "display_data",
                    "data": {
                        "text/html": "Total execution time: 00:00:00.052"
                    },
                    "metadata": {}
                }
            ],
            "execution_count": 9
        },
        {
            "cell_type": "code",
            "source": [
                "INSERT dbo.Product (Product_id,Product_name,Product_price,Product_quantity,Product_type,Supplier_id)\r\n",
                "VALUES (1,'Colgate',20,254,'Hygiene',1),\r\n",
                "       (2,'Coke',15,657,'Beverage',2),\r\n",
                "       (3,'Redbull',50,540,'Beverage',2),\r\n",
                "       (4,'Gums',12,150,'Confections',2),\r\n",
                "       (5,'Shampoo',100,400,'Hygiene',1),\r\n",
                "       (6,'Sandwich',28,451,'Food',2),\r\n",
                "       (7,'Ointment',29,360,'Medicine',3),\r\n",
                "       (8,'Water',7,390,'Beverage',2),\r\n",
                "       (9,'Chips',20,482,'Snack',2),\r\n",
                "       (10,'Soap',49,140,'Hygiene',2),\r\n",
                "       (11,'Ice-cream',15,206,'Snack',2),\r\n",
                "       (12,'Painkiller',69,50,'Medicine',3),\r\n",
                "       (13,'Sausage',35,167,'Food',2),\r\n",
                "       (14,'Anti-perspirant',100,359,'Hygiene',1),\r\n",
                "       (15,'Paracetamol',165,30,'Medicine',3),\r\n",
                "       (16,'Burger',42,36,'Food',2),\r\n",
                "       (17,'Bread',24,128,'Food',2);"
            ],
            "metadata": {
                "azdata_cell_guid": "eb880348-7081-47c8-9c0f-057bcee5fa4c",
                "tags": []
            },
            "outputs": [
                {
                    "output_type": "display_data",
                    "data": {
                        "text/html": "(17 rows affected)"
                    },
                    "metadata": {}
                },
                {
                    "output_type": "display_data",
                    "data": {
                        "text/html": "Total execution time: 00:00:00.037"
                    },
                    "metadata": {}
                }
            ],
            "execution_count": 10
        },
        {
            "cell_type": "code",
            "source": [
                "create Table Customer\r\n",
                "(\r\n",
                "    customer_id INT NOT NULL,\r\n",
                "    customer_name varchar(100) NOT NULL,\r\n",
                "    customer_age INT NOT NULL,\r\n",
                "    customer_phone INT NOT NULL,\r\n",
                "    customer_address varchar(100) NOT NULL,\r\n",
                "    PRIMARY KEY(customer_id)\r\n",
                ");"
            ],
            "metadata": {
                "azdata_cell_guid": "edf2030c-3369-4bf4-ba5e-a1c064358855"
            },
            "outputs": [
                {
                    "output_type": "display_data",
                    "data": {
                        "text/html": "Commands completed successfully."
                    },
                    "metadata": {}
                },
                {
                    "output_type": "display_data",
                    "data": {
                        "text/html": "Total execution time: 00:00:00.059"
                    },
                    "metadata": {}
                }
            ],
            "execution_count": 34
        },
        {
            "cell_type": "code",
            "source": [
                "INSERT dbo.Customer (customer_id,customer_name,customer_age,customer_phone,customer_address)\r\n",
                "Values (1,'Teetawat Plengnam',17,0213654987,'Ramkamhang 36'),\r\n",
                "       (2,'Panuwat Jitdaeha',20,0987412645,'Ladprao 12'),\r\n",
                "       (3,'Jittaradej JanoCha',18,066645213,'Ratchada 36');"
            ],
            "metadata": {
                "azdata_cell_guid": "d2f430b4-580a-4f11-9457-7c56318f295d",
                "tags": []
            },
            "outputs": [
                {
                    "output_type": "display_data",
                    "data": {
                        "text/html": "(3 rows affected)"
                    },
                    "metadata": {}
                },
                {
                    "output_type": "display_data",
                    "data": {
                        "text/html": "Total execution time: 00:00:00.072"
                    },
                    "metadata": {}
                }
            ],
            "execution_count": 35
        },
        {
            "cell_type": "code",
            "source": [
                "create Table Employee\r\n",
                "(\r\n",
                "    employee_id INT NOT NULL,\r\n",
                "    employee_name varchar(100) NOT NULL,\r\n",
                "    employee_age INT NOT NULL,\r\n",
                "    employee_phone INT NOT NULL,\r\n",
                "    employee_address varchar(100) NOT NULL,\r\n",
                "    employee_dob date NOT NULL,\r\n",
                "    employee_salary INT NOT NULL\r\n",
                ");"
            ],
            "metadata": {
                "azdata_cell_guid": "2737a788-d8ee-4d63-9278-fd2f89820b91",
                "tags": []
            },
            "outputs": [
                {
                    "output_type": "display_data",
                    "data": {
                        "text/html": "Commands completed successfully."
                    },
                    "metadata": {}
                },
                {
                    "output_type": "display_data",
                    "data": {
                        "text/html": "Total execution time: 00:00:00.018"
                    },
                    "metadata": {}
                }
            ],
            "execution_count": 25
        },
        {
            "cell_type": "code",
            "source": [
                "INSERT dbo.Employee (employee_id,employee_name,employee_age,employee_phone,employee_address,employee_dob,employee_salary)\r\n",
                "Values (1,'Tess Vanessa',29,0542163498,'Petchaburi 3','1992-12-11',12000),\r\n",
                "       (2,'Marybeth Iveta',27,0417895421,'Praramkao 12','1994-05-07',10000);"
            ],
            "metadata": {
                "azdata_cell_guid": "48ee7110-7912-4549-aee6-879984be9d08",
                "tags": []
            },
            "outputs": [
                {
                    "output_type": "display_data",
                    "data": {
                        "text/html": "(2 rows affected)"
                    },
                    "metadata": {}
                },
                {
                    "output_type": "display_data",
                    "data": {
                        "text/html": "Total execution time: 00:00:00.017"
                    },
                    "metadata": {}
                }
            ],
            "execution_count": 26
        },
        {
            "cell_type": "code",
            "source": [
                "create Table Buy\r\n",
                "(\r\n",
                "    purchase_id INT NOT NULL,\r\n",
                "    product_ids text NOT NULL,\r\n",
                "    c_id INT NOT NULL,\r\n",
                "    total_price INT NOT NULL,\r\n",
                "    PRIMARY KEY(purchase_id),\r\n",
                "    FOREIGN KEY(c_id) REFERENCES Customer(customer_id)\r\n",
                ");"
            ],
            "metadata": {
                "azdata_cell_guid": "e9070f94-9288-45f3-a4f5-538b374df2ab"
            },
            "outputs": [
                {
                    "output_type": "display_data",
                    "data": {
                        "text/html": "Commands completed successfully."
                    },
                    "metadata": {}
                },
                {
                    "output_type": "display_data",
                    "data": {
                        "text/html": "Total execution time: 00:00:00.064"
                    },
                    "metadata": {}
                }
            ],
            "execution_count": 51
        },
        {
            "cell_type": "code",
            "source": [
                "INSERT dbo.Buy (purchase_id,product_ids,c_id,total_price)\r\n",
                "Values (1,'2,5,11',1,130),\r\n",
                "       (2,'8,1',1,27),\r\n",
                "       (3,'10,7,5',2,178),\r\n",
                "       (4,'17,14,7',3,153);"
            ],
            "metadata": {
                "azdata_cell_guid": "8c091414-ef9b-4e55-a493-49be3403f46f",
                "tags": []
            },
            "outputs": [
                {
                    "output_type": "display_data",
                    "data": {
                        "text/html": "(4 rows affected)"
                    },
                    "metadata": {}
                },
                {
                    "output_type": "display_data",
                    "data": {
                        "text/html": "Total execution time: 00:00:00.069"
                    },
                    "metadata": {}
                }
            ],
            "execution_count": 53
        },
        {
            "cell_type": "markdown",
            "source": [
                "Queries"
            ],
            "metadata": {
                "azdata_cell_guid": "7cde382e-2384-4ea0-9d48-3865ee914778"
            }
        },
        {
            "cell_type": "markdown",
            "source": [
                "1.What food are there in the product database?"
            ],
            "metadata": {
                "azdata_cell_guid": "fc9273e8-cbff-4e7a-aac4-93b6c63c1fb1"
            }
        },
        {
            "cell_type": "code",
            "source": [
                "Select Product_name\r\n",
                "from Product\r\n",
                "where Product_type = 'Food';"
            ],
            "metadata": {
                "azdata_cell_guid": "9e12e05b-33f5-43ee-aabe-bb3cc603fef6",
                "tags": []
            },
            "outputs": [
                {
                    "output_type": "display_data",
                    "data": {
                        "text/html": "(4 rows affected)"
                    },
                    "metadata": {}
                },
                {
                    "output_type": "display_data",
                    "data": {
                        "text/html": "Total execution time: 00:00:00.047"
                    },
                    "metadata": {}
                },
                {
                    "output_type": "execute_result",
                    "metadata": {
                        "resultSet": {
                            "id": 0,
                            "batchId": 0,
                            "rowCount": 4,
                            "complete": true,
                            "columnInfo": [
                                {
                                    "isBytes": false,
                                    "isChars": true,
                                    "isSqlVariant": false,
                                    "isUdt": false,
                                    "isXml": false,
                                    "isJson": false,
                                    "sqlDbType": 22,
                                    "isHierarchyId": false,
                                    "isSqlXmlType": false,
                                    "isUnknownType": false,
                                    "isUpdatable": true,
                                    "allowDBNull": false,
                                    "baseCatalogName": null,
                                    "baseColumnName": null,
                                    "baseSchemaName": null,
                                    "baseServerName": null,
                                    "baseTableName": null,
                                    "columnName": "Product_name",
                                    "columnOrdinal": 0,
                                    "columnSize": 100,
                                    "isAliased": null,
                                    "isAutoIncrement": false,
                                    "isExpression": null,
                                    "isHidden": null,
                                    "isIdentity": false,
                                    "isKey": null,
                                    "isLong": false,
                                    "isReadOnly": false,
                                    "isUnique": false,
                                    "numericPrecision": 255,
                                    "numericScale": 255,
                                    "udtAssemblyQualifiedName": null,
                                    "dataType": "System.String, System.Private.CoreLib, Version=4.0.0.0, Culture=neutral, PublicKeyToken=7cec85d7bea7798e",
                                    "dataTypeName": "varchar"
                                }
                            ],
                            "specialAction": {
                                "none": true,
                                "expectYukonXMLShowPlan": false
                            }
                        }
                    },
                    "execution_count": 25,
                    "data": {
                        "application/vnd.dataresource+json": {
                            "schema": {
                                "fields": [
                                    {
                                        "name": "Product_name"
                                    }
                                ]
                            },
                            "data": [
                                {
                                    "0": "Sandwich"
                                },
                                {
                                    "0": "Sausage"
                                },
                                {
                                    "0": "Burger"
                                },
                                {
                                    "0": "Bread"
                                }
                            ]
                        },
                        "text/html": [
                            "<table>",
                            "<tr><th>Product_name</th></tr>",
                            "<tr><td>Sandwich</td></tr>",
                            "<tr><td>Sausage</td></tr>",
                            "<tr><td>Burger</td></tr>",
                            "<tr><td>Bread</td></tr>",
                            "</table>"
                        ]
                    }
                }
            ],
            "execution_count": 25
        },
        {
            "cell_type": "markdown",
            "source": [
                "2.What is the most expensive item in the product database?"
            ],
            "metadata": {
                "azdata_cell_guid": "48b1e3fc-31b1-483c-826e-a02ad8b5ab46"
            }
        },
        {
            "cell_type": "code",
            "source": [
                "select Product_name,Product_price from Product\r\n",
                "where Product_price IN(\r\n",
                "    select MAX(Product_price) from Product\r\n",
                ");"
            ],
            "metadata": {
                "azdata_cell_guid": "d05d4979-cdee-47a7-886d-10dca5e927b1",
                "tags": []
            },
            "outputs": [
                {
                    "output_type": "display_data",
                    "data": {
                        "text/html": "(1 row affected)"
                    },
                    "metadata": {}
                },
                {
                    "output_type": "display_data",
                    "data": {
                        "text/html": "Total execution time: 00:00:00.073"
                    },
                    "metadata": {}
                },
                {
                    "output_type": "execute_result",
                    "metadata": {
                        "resultSet": {
                            "id": 0,
                            "batchId": 0,
                            "rowCount": 1,
                            "complete": true,
                            "columnInfo": [
                                {
                                    "isBytes": false,
                                    "isChars": true,
                                    "isSqlVariant": false,
                                    "isUdt": false,
                                    "isXml": false,
                                    "isJson": false,
                                    "sqlDbType": 22,
                                    "isHierarchyId": false,
                                    "isSqlXmlType": false,
                                    "isUnknownType": false,
                                    "isUpdatable": true,
                                    "allowDBNull": false,
                                    "baseCatalogName": null,
                                    "baseColumnName": null,
                                    "baseSchemaName": null,
                                    "baseServerName": null,
                                    "baseTableName": null,
                                    "columnName": "Product_name",
                                    "columnOrdinal": 0,
                                    "columnSize": 100,
                                    "isAliased": null,
                                    "isAutoIncrement": false,
                                    "isExpression": null,
                                    "isHidden": null,
                                    "isIdentity": false,
                                    "isKey": null,
                                    "isLong": false,
                                    "isReadOnly": false,
                                    "isUnique": false,
                                    "numericPrecision": 255,
                                    "numericScale": 255,
                                    "udtAssemblyQualifiedName": null,
                                    "dataType": "System.String, System.Private.CoreLib, Version=4.0.0.0, Culture=neutral, PublicKeyToken=7cec85d7bea7798e",
                                    "dataTypeName": "varchar"
                                },
                                {
                                    "isBytes": false,
                                    "isChars": false,
                                    "isSqlVariant": false,
                                    "isUdt": false,
                                    "isXml": false,
                                    "isJson": false,
                                    "sqlDbType": 8,
                                    "isHierarchyId": false,
                                    "isSqlXmlType": false,
                                    "isUnknownType": false,
                                    "isUpdatable": true,
                                    "allowDBNull": false,
                                    "baseCatalogName": null,
                                    "baseColumnName": null,
                                    "baseSchemaName": null,
                                    "baseServerName": null,
                                    "baseTableName": null,
                                    "columnName": "Product_price",
                                    "columnOrdinal": 1,
                                    "columnSize": 4,
                                    "isAliased": null,
                                    "isAutoIncrement": false,
                                    "isExpression": null,
                                    "isHidden": null,
                                    "isIdentity": false,
                                    "isKey": null,
                                    "isLong": false,
                                    "isReadOnly": false,
                                    "isUnique": false,
                                    "numericPrecision": 10,
                                    "numericScale": 255,
                                    "udtAssemblyQualifiedName": null,
                                    "dataType": "System.Int32, System.Private.CoreLib, Version=4.0.0.0, Culture=neutral, PublicKeyToken=7cec85d7bea7798e",
                                    "dataTypeName": "int"
                                }
                            ],
                            "specialAction": {
                                "none": true,
                                "expectYukonXMLShowPlan": false
                            }
                        }
                    },
                    "execution_count": 26,
                    "data": {
                        "application/vnd.dataresource+json": {
                            "schema": {
                                "fields": [
                                    {
                                        "name": "Product_name"
                                    },
                                    {
                                        "name": "Product_price"
                                    }
                                ]
                            },
                            "data": [
                                {
                                    "0": "Paracetamol",
                                    "1": "165"
                                }
                            ]
                        },
                        "text/html": [
                            "<table>",
                            "<tr><th>Product_name</th><th>Product_price</th></tr>",
                            "<tr><td>Paracetamol</td><td>165</td></tr>",
                            "</table>"
                        ]
                    }
                }
            ],
            "execution_count": 26
        },
        {
            "cell_type": "markdown",
            "source": [
                "3\\. Similar to 2. , What is the cheapest item in the product database?"
            ],
            "metadata": {
                "azdata_cell_guid": "2209c90b-5c6d-4f2d-8af5-d0da8b5d371c"
            }
        },
        {
            "cell_type": "code",
            "source": [
                "select Product_name,Product_price from Product\r\n",
                "where Product_price In(\r\n",
                "    select MIN(Product_price) from Product\r\n",
                ");"
            ],
            "metadata": {
                "azdata_cell_guid": "6bea41a5-3c29-4840-8b7e-5c6ca72a4659",
                "tags": []
            },
            "outputs": [
                {
                    "output_type": "display_data",
                    "data": {
                        "text/html": "(1 row affected)"
                    },
                    "metadata": {}
                },
                {
                    "output_type": "display_data",
                    "data": {
                        "text/html": "Total execution time: 00:00:00.085"
                    },
                    "metadata": {}
                },
                {
                    "output_type": "execute_result",
                    "metadata": {
                        "resultSet": {
                            "id": 0,
                            "batchId": 0,
                            "rowCount": 1,
                            "complete": true,
                            "columnInfo": [
                                {
                                    "isBytes": false,
                                    "isChars": true,
                                    "isSqlVariant": false,
                                    "isUdt": false,
                                    "isXml": false,
                                    "isJson": false,
                                    "sqlDbType": 22,
                                    "isHierarchyId": false,
                                    "isSqlXmlType": false,
                                    "isUnknownType": false,
                                    "isUpdatable": true,
                                    "allowDBNull": false,
                                    "baseCatalogName": null,
                                    "baseColumnName": null,
                                    "baseSchemaName": null,
                                    "baseServerName": null,
                                    "baseTableName": null,
                                    "columnName": "Product_name",
                                    "columnOrdinal": 0,
                                    "columnSize": 100,
                                    "isAliased": null,
                                    "isAutoIncrement": false,
                                    "isExpression": null,
                                    "isHidden": null,
                                    "isIdentity": false,
                                    "isKey": null,
                                    "isLong": false,
                                    "isReadOnly": false,
                                    "isUnique": false,
                                    "numericPrecision": 255,
                                    "numericScale": 255,
                                    "udtAssemblyQualifiedName": null,
                                    "dataType": "System.String, System.Private.CoreLib, Version=4.0.0.0, Culture=neutral, PublicKeyToken=7cec85d7bea7798e",
                                    "dataTypeName": "varchar"
                                },
                                {
                                    "isBytes": false,
                                    "isChars": false,
                                    "isSqlVariant": false,
                                    "isUdt": false,
                                    "isXml": false,
                                    "isJson": false,
                                    "sqlDbType": 8,
                                    "isHierarchyId": false,
                                    "isSqlXmlType": false,
                                    "isUnknownType": false,
                                    "isUpdatable": true,
                                    "allowDBNull": false,
                                    "baseCatalogName": null,
                                    "baseColumnName": null,
                                    "baseSchemaName": null,
                                    "baseServerName": null,
                                    "baseTableName": null,
                                    "columnName": "Product_price",
                                    "columnOrdinal": 1,
                                    "columnSize": 4,
                                    "isAliased": null,
                                    "isAutoIncrement": false,
                                    "isExpression": null,
                                    "isHidden": null,
                                    "isIdentity": false,
                                    "isKey": null,
                                    "isLong": false,
                                    "isReadOnly": false,
                                    "isUnique": false,
                                    "numericPrecision": 10,
                                    "numericScale": 255,
                                    "udtAssemblyQualifiedName": null,
                                    "dataType": "System.Int32, System.Private.CoreLib, Version=4.0.0.0, Culture=neutral, PublicKeyToken=7cec85d7bea7798e",
                                    "dataTypeName": "int"
                                }
                            ],
                            "specialAction": {
                                "none": true,
                                "expectYukonXMLShowPlan": false
                            }
                        }
                    },
                    "execution_count": 27,
                    "data": {
                        "application/vnd.dataresource+json": {
                            "schema": {
                                "fields": [
                                    {
                                        "name": "Product_name"
                                    },
                                    {
                                        "name": "Product_price"
                                    }
                                ]
                            },
                            "data": [
                                {
                                    "0": "Water",
                                    "1": "7"
                                }
                            ]
                        },
                        "text/html": [
                            "<table>",
                            "<tr><th>Product_name</th><th>Product_price</th></tr>",
                            "<tr><td>Water</td><td>7</td></tr>",
                            "</table>"
                        ]
                    }
                }
            ],
            "execution_count": 27
        },
        {
            "cell_type": "markdown",
            "source": [
                "4.Which product type has the most product?"
            ],
            "metadata": {
                "azdata_cell_guid": "523958cf-155e-4a4e-b216-37702e983a50"
            }
        },
        {
            "cell_type": "code",
            "source": [
                "select Product_type from Product\r\n",
                "where Product_quantity IN(\r\n",
                "    select MAX(Product_quantity) from Product\r\n",
                ");"
            ],
            "metadata": {
                "azdata_cell_guid": "1c93db4f-5bff-45d0-a5b4-3356fcb94cc8",
                "tags": []
            },
            "outputs": [
                {
                    "output_type": "display_data",
                    "data": {
                        "text/html": "(1 row affected)"
                    },
                    "metadata": {}
                },
                {
                    "output_type": "display_data",
                    "data": {
                        "text/html": "Total execution time: 00:00:00.129"
                    },
                    "metadata": {}
                },
                {
                    "output_type": "execute_result",
                    "metadata": {
                        "resultSet": {
                            "id": 0,
                            "batchId": 0,
                            "rowCount": 1,
                            "complete": false,
                            "columnInfo": [
                                {
                                    "isBytes": false,
                                    "isChars": true,
                                    "isSqlVariant": false,
                                    "isUdt": false,
                                    "isXml": false,
                                    "isJson": false,
                                    "sqlDbType": 22,
                                    "isHierarchyId": false,
                                    "isSqlXmlType": false,
                                    "isUnknownType": false,
                                    "isUpdatable": true,
                                    "allowDBNull": false,
                                    "baseCatalogName": null,
                                    "baseColumnName": null,
                                    "baseSchemaName": null,
                                    "baseServerName": null,
                                    "baseTableName": null,
                                    "columnName": "Product_type",
                                    "columnOrdinal": 0,
                                    "columnSize": 100,
                                    "isAliased": null,
                                    "isAutoIncrement": false,
                                    "isExpression": null,
                                    "isHidden": null,
                                    "isIdentity": false,
                                    "isKey": null,
                                    "isLong": false,
                                    "isReadOnly": false,
                                    "isUnique": false,
                                    "numericPrecision": 255,
                                    "numericScale": 255,
                                    "udtAssemblyQualifiedName": null,
                                    "dataType": "System.String, System.Private.CoreLib, Version=4.0.0.0, Culture=neutral, PublicKeyToken=7cec85d7bea7798e",
                                    "dataTypeName": "varchar"
                                }
                            ],
                            "specialAction": null
                        }
                    },
                    "execution_count": 28,
                    "data": {
                        "application/vnd.dataresource+json": {
                            "schema": {
                                "fields": [
                                    {
                                        "name": "Product_type"
                                    }
                                ]
                            },
                            "data": [
                                {
                                    "0": "Beverage"
                                }
                            ]
                        },
                        "text/html": [
                            "<table>",
                            "<tr><th>Product_type</th></tr>",
                            "<tr><td>Beverage</td></tr>",
                            "</table>"
                        ]
                    }
                }
            ],
            "execution_count": 28
        },
        {
            "cell_type": "markdown",
            "source": [
                "5\\. What's the average age of customer?"
            ],
            "metadata": {
                "azdata_cell_guid": "c149b251-2292-412a-9d32-cc63d2176265"
            }
        },
        {
            "cell_type": "code",
            "source": [
                "select AVG(customer_age) as Average_age from Customer;"
            ],
            "metadata": {
                "azdata_cell_guid": "b9982213-25b2-4b03-8b2d-7f7fce63aa62",
                "tags": []
            },
            "outputs": [
                {
                    "output_type": "display_data",
                    "data": {
                        "text/html": "(1 row affected)"
                    },
                    "metadata": {}
                },
                {
                    "output_type": "display_data",
                    "data": {
                        "text/html": "Total execution time: 00:00:00.062"
                    },
                    "metadata": {}
                },
                {
                    "output_type": "execute_result",
                    "metadata": {
                        "resultSet": {
                            "id": 0,
                            "batchId": 0,
                            "rowCount": 1,
                            "complete": true,
                            "columnInfo": [
                                {
                                    "isBytes": false,
                                    "isChars": false,
                                    "isSqlVariant": false,
                                    "isUdt": false,
                                    "isXml": false,
                                    "isJson": false,
                                    "sqlDbType": 8,
                                    "isHierarchyId": false,
                                    "isSqlXmlType": false,
                                    "isUnknownType": false,
                                    "isUpdatable": false,
                                    "allowDBNull": true,
                                    "baseCatalogName": null,
                                    "baseColumnName": null,
                                    "baseSchemaName": null,
                                    "baseServerName": null,
                                    "baseTableName": null,
                                    "columnName": "Average_age",
                                    "columnOrdinal": 0,
                                    "columnSize": 4,
                                    "isAliased": null,
                                    "isAutoIncrement": false,
                                    "isExpression": null,
                                    "isHidden": null,
                                    "isIdentity": false,
                                    "isKey": null,
                                    "isLong": false,
                                    "isReadOnly": true,
                                    "isUnique": false,
                                    "numericPrecision": 10,
                                    "numericScale": 255,
                                    "udtAssemblyQualifiedName": null,
                                    "dataType": "System.Int32, System.Private.CoreLib, Version=4.0.0.0, Culture=neutral, PublicKeyToken=7cec85d7bea7798e",
                                    "dataTypeName": "int"
                                }
                            ],
                            "specialAction": {
                                "none": true,
                                "expectYukonXMLShowPlan": false
                            }
                        }
                    },
                    "execution_count": 29,
                    "data": {
                        "application/vnd.dataresource+json": {
                            "schema": {
                                "fields": [
                                    {
                                        "name": "Average_age"
                                    }
                                ]
                            },
                            "data": [
                                {
                                    "0": "18"
                                }
                            ]
                        },
                        "text/html": [
                            "<table>",
                            "<tr><th>Average_age</th></tr>",
                            "<tr><td>18</td></tr>",
                            "</table>"
                        ]
                    }
                }
            ],
            "execution_count": 29
        },
        {
            "cell_type": "markdown",
            "source": [
                "6\\. Yesterday, Mr.Teetawat bought some thing from our shop. He forgot what he bought and he lost the reciept but he remembers that the total price is 130. What items did Mr.Teetwat bought?"
            ],
            "metadata": {
                "azdata_cell_guid": "e7be813d-2ccc-4550-bfc5-dced4bb39d27"
            }
        },
        {
            "cell_type": "code",
            "source": [
                "select product_ids \r\n",
                "from Buy\r\n",
                "where total_price = 130 and c_id = 1;"
            ],
            "metadata": {
                "azdata_cell_guid": "694d1329-eaa1-4441-9249-4efb86b5216d"
            },
            "outputs": [
                {
                    "output_type": "display_data",
                    "data": {
                        "text/html": "(1 row affected)"
                    },
                    "metadata": {}
                },
                {
                    "output_type": "display_data",
                    "data": {
                        "text/html": "Total execution time: 00:00:00.022"
                    },
                    "metadata": {}
                },
                {
                    "output_type": "execute_result",
                    "metadata": {
                        "resultSet": {
                            "id": 0,
                            "batchId": 0,
                            "rowCount": 1,
                            "complete": true,
                            "columnInfo": [
                                {
                                    "isBytes": false,
                                    "isChars": true,
                                    "isSqlVariant": false,
                                    "isUdt": false,
                                    "isXml": false,
                                    "isJson": false,
                                    "sqlDbType": 18,
                                    "isHierarchyId": false,
                                    "isSqlXmlType": false,
                                    "isUnknownType": false,
                                    "isUpdatable": true,
                                    "allowDBNull": false,
                                    "baseCatalogName": null,
                                    "baseColumnName": null,
                                    "baseSchemaName": null,
                                    "baseServerName": null,
                                    "baseTableName": "Buy",
                                    "columnName": "product_ids",
                                    "columnOrdinal": 0,
                                    "columnSize": 2147483647,
                                    "isAliased": null,
                                    "isAutoIncrement": false,
                                    "isExpression": null,
                                    "isHidden": null,
                                    "isIdentity": false,
                                    "isKey": null,
                                    "isLong": true,
                                    "isReadOnly": false,
                                    "isUnique": false,
                                    "numericPrecision": 255,
                                    "numericScale": 255,
                                    "udtAssemblyQualifiedName": null,
                                    "dataType": "System.String, System.Private.CoreLib, Version=4.0.0.0, Culture=neutral, PublicKeyToken=7cec85d7bea7798e",
                                    "dataTypeName": "text"
                                }
                            ],
                            "specialAction": {
                                "none": true,
                                "expectYukonXMLShowPlan": false
                            }
                        }
                    },
                    "execution_count": 30,
                    "data": {
                        "application/vnd.dataresource+json": {
                            "schema": {
                                "fields": [
                                    {
                                        "name": "product_ids"
                                    }
                                ]
                            },
                            "data": [
                                {
                                    "0": "2,5,11"
                                }
                            ]
                        },
                        "text/html": [
                            "<table>",
                            "<tr><th>product_ids</th></tr>",
                            "<tr><td>2,5,11</td></tr>",
                            "</table>"
                        ]
                    }
                }
            ],
            "execution_count": 30
        },
        {
            "cell_type": "markdown",
            "source": [
                "7\\. Which customer has the highest total price in one buy?"
            ],
            "metadata": {
                "azdata_cell_guid": "dab52aa6-89a4-4362-a6a9-48b684d34425"
            }
        },
        {
            "cell_type": "code",
            "source": [
                "select customer_name from Customer\r\n",
                "where customer_id IN(\r\n",
                "select c_id from Buy\r\n",
                "where total_price IN (\r\n",
                "    select MAX(total_price) from Buy\r\n",
                "));"
            ],
            "metadata": {
                "azdata_cell_guid": "0facfe71-13a7-4f62-9736-4f59380f34b6"
            },
            "outputs": [
                {
                    "output_type": "display_data",
                    "data": {
                        "text/html": "(1 row affected)"
                    },
                    "metadata": {}
                },
                {
                    "output_type": "display_data",
                    "data": {
                        "text/html": "Total execution time: 00:00:00.049"
                    },
                    "metadata": {}
                },
                {
                    "output_type": "execute_result",
                    "metadata": {
                        "resultSet": {
                            "id": 0,
                            "batchId": 0,
                            "rowCount": 1,
                            "complete": false,
                            "columnInfo": [
                                {
                                    "isBytes": false,
                                    "isChars": true,
                                    "isSqlVariant": false,
                                    "isUdt": false,
                                    "isXml": false,
                                    "isJson": false,
                                    "sqlDbType": 22,
                                    "isHierarchyId": false,
                                    "isSqlXmlType": false,
                                    "isUnknownType": false,
                                    "isUpdatable": true,
                                    "allowDBNull": false,
                                    "baseCatalogName": null,
                                    "baseColumnName": null,
                                    "baseSchemaName": null,
                                    "baseServerName": null,
                                    "baseTableName": null,
                                    "columnName": "customer_name",
                                    "columnOrdinal": 0,
                                    "columnSize": 100,
                                    "isAliased": null,
                                    "isAutoIncrement": false,
                                    "isExpression": null,
                                    "isHidden": null,
                                    "isIdentity": false,
                                    "isKey": null,
                                    "isLong": false,
                                    "isReadOnly": false,
                                    "isUnique": false,
                                    "numericPrecision": 255,
                                    "numericScale": 255,
                                    "udtAssemblyQualifiedName": null,
                                    "dataType": "System.String, System.Private.CoreLib, Version=4.0.0.0, Culture=neutral, PublicKeyToken=7cec85d7bea7798e",
                                    "dataTypeName": "varchar"
                                }
                            ],
                            "specialAction": null
                        }
                    },
                    "execution_count": 31,
                    "data": {
                        "application/vnd.dataresource+json": {
                            "schema": {
                                "fields": [
                                    {
                                        "name": "customer_name"
                                    }
                                ]
                            },
                            "data": [
                                {
                                    "0": "Panuwat Jitdaeha"
                                }
                            ]
                        },
                        "text/html": [
                            "<table>",
                            "<tr><th>customer_name</th></tr>",
                            "<tr><td>Panuwat Jitdaeha</td></tr>",
                            "</table>"
                        ]
                    }
                }
            ],
            "execution_count": 31
        },
        {
            "cell_type": "markdown",
            "source": [
                "8\\. Which product in the Beverage type is the most expensive?"
            ],
            "metadata": {
                "azdata_cell_guid": "d195a7e8-7769-4ea5-9517-0feaffb02b5f"
            }
        },
        {
            "cell_type": "code",
            "source": [
                "select Product_name from Product\r\n",
                "where Product_price IN(\r\n",
                "    select MAX(Product_price) from Product\r\n",
                "    where Product_type = 'Beverage'\r\n",
                ");"
            ],
            "metadata": {
                "azdata_cell_guid": "54682c49-0bbe-43de-8dfa-97b70d001161"
            },
            "outputs": [
                {
                    "output_type": "display_data",
                    "data": {
                        "text/html": "(1 row affected)"
                    },
                    "metadata": {}
                },
                {
                    "output_type": "display_data",
                    "data": {
                        "text/html": "Total execution time: 00:00:00.061"
                    },
                    "metadata": {}
                },
                {
                    "output_type": "execute_result",
                    "metadata": {
                        "resultSet": {
                            "id": 0,
                            "batchId": 0,
                            "rowCount": 1,
                            "complete": true,
                            "columnInfo": [
                                {
                                    "isBytes": false,
                                    "isChars": true,
                                    "isSqlVariant": false,
                                    "isUdt": false,
                                    "isXml": false,
                                    "isJson": false,
                                    "sqlDbType": 22,
                                    "isHierarchyId": false,
                                    "isSqlXmlType": false,
                                    "isUnknownType": false,
                                    "isUpdatable": true,
                                    "allowDBNull": false,
                                    "baseCatalogName": null,
                                    "baseColumnName": null,
                                    "baseSchemaName": null,
                                    "baseServerName": null,
                                    "baseTableName": null,
                                    "columnName": "Product_name",
                                    "columnOrdinal": 0,
                                    "columnSize": 100,
                                    "isAliased": null,
                                    "isAutoIncrement": false,
                                    "isExpression": null,
                                    "isHidden": null,
                                    "isIdentity": false,
                                    "isKey": null,
                                    "isLong": false,
                                    "isReadOnly": false,
                                    "isUnique": false,
                                    "numericPrecision": 255,
                                    "numericScale": 255,
                                    "udtAssemblyQualifiedName": null,
                                    "dataType": "System.String, System.Private.CoreLib, Version=4.0.0.0, Culture=neutral, PublicKeyToken=7cec85d7bea7798e",
                                    "dataTypeName": "varchar"
                                }
                            ],
                            "specialAction": {
                                "none": true,
                                "expectYukonXMLShowPlan": false
                            }
                        }
                    },
                    "execution_count": 32,
                    "data": {
                        "application/vnd.dataresource+json": {
                            "schema": {
                                "fields": [
                                    {
                                        "name": "Product_name"
                                    }
                                ]
                            },
                            "data": [
                                {
                                    "0": "Redbull"
                                }
                            ]
                        },
                        "text/html": [
                            "<table>",
                            "<tr><th>Product_name</th></tr>",
                            "<tr><td>Redbull</td></tr>",
                            "</table>"
                        ]
                    }
                }
            ],
            "execution_count": 32
        },
        {
            "cell_type": "markdown",
            "source": [
                "9\\. What's the average salary for the Employee?"
            ],
            "metadata": {
                "azdata_cell_guid": "3f1d4d3d-39d7-4126-971a-6fdcc63855f5"
            }
        },
        {
            "cell_type": "code",
            "source": [
                "select AVG(Employee_salary) from Employee;"
            ],
            "metadata": {
                "azdata_cell_guid": "125ebf5e-378c-4e4f-bb6c-cbad069f4cb8"
            },
            "outputs": [
                {
                    "output_type": "display_data",
                    "data": {
                        "text/html": "(1 row affected)"
                    },
                    "metadata": {}
                },
                {
                    "output_type": "display_data",
                    "data": {
                        "text/html": "Total execution time: 00:00:00.026"
                    },
                    "metadata": {}
                },
                {
                    "output_type": "execute_result",
                    "metadata": {
                        "resultSet": {
                            "id": 0,
                            "batchId": 0,
                            "rowCount": 1,
                            "complete": true,
                            "columnInfo": [
                                {
                                    "isBytes": false,
                                    "isChars": false,
                                    "isSqlVariant": false,
                                    "isUdt": false,
                                    "isXml": false,
                                    "isJson": false,
                                    "sqlDbType": 8,
                                    "isHierarchyId": false,
                                    "isSqlXmlType": false,
                                    "isUnknownType": false,
                                    "isUpdatable": false,
                                    "allowDBNull": true,
                                    "baseCatalogName": null,
                                    "baseColumnName": null,
                                    "baseSchemaName": null,
                                    "baseServerName": null,
                                    "baseTableName": null,
                                    "columnName": "(No column name)",
                                    "columnOrdinal": 0,
                                    "columnSize": 4,
                                    "isAliased": null,
                                    "isAutoIncrement": false,
                                    "isExpression": null,
                                    "isHidden": null,
                                    "isIdentity": false,
                                    "isKey": null,
                                    "isLong": false,
                                    "isReadOnly": true,
                                    "isUnique": false,
                                    "numericPrecision": 10,
                                    "numericScale": 255,
                                    "udtAssemblyQualifiedName": null,
                                    "dataType": "System.Int32, System.Private.CoreLib, Version=4.0.0.0, Culture=neutral, PublicKeyToken=7cec85d7bea7798e",
                                    "dataTypeName": "int"
                                }
                            ],
                            "specialAction": {
                                "none": true,
                                "expectYukonXMLShowPlan": false
                            }
                        }
                    },
                    "execution_count": 33,
                    "data": {
                        "application/vnd.dataresource+json": {
                            "schema": {
                                "fields": [
                                    {
                                        "name": "(No column name)"
                                    }
                                ]
                            },
                            "data": [
                                {
                                    "0": "11000"
                                }
                            ]
                        },
                        "text/html": [
                            "<table>",
                            "<tr><th>(No column name)</th></tr>",
                            "<tr><td>11000</td></tr>",
                            "</table>"
                        ]
                    }
                }
            ],
            "execution_count": 33
        },
        {
            "cell_type": "markdown",
            "source": [
                "10\\. What's Tess (an Employee) birthday?"
            ],
            "metadata": {
                "azdata_cell_guid": "f4938ba1-1cd3-4a83-938b-2e1cbad18941"
            }
        },
        {
            "cell_type": "code",
            "source": [
                "select Employee_dob from Employee\r\n",
                "where Employee_name = 'Tess Vanessa';"
            ],
            "metadata": {
                "azdata_cell_guid": "cb4af35a-84e9-4209-923f-2cb4c9800190",
                "tags": [
                    "hide_input"
                ]
            },
            "outputs": [
                {
                    "output_type": "display_data",
                    "data": {
                        "text/html": "(1 row affected)"
                    },
                    "metadata": {}
                },
                {
                    "output_type": "display_data",
                    "data": {
                        "text/html": "Total execution time: 00:00:00.062"
                    },
                    "metadata": {}
                },
                {
                    "output_type": "execute_result",
                    "metadata": {
                        "resultSet": {
                            "id": 0,
                            "batchId": 0,
                            "rowCount": 1,
                            "complete": true,
                            "columnInfo": [
                                {
                                    "isBytes": false,
                                    "isChars": false,
                                    "isSqlVariant": false,
                                    "isUdt": false,
                                    "isXml": false,
                                    "isJson": false,
                                    "sqlDbType": 31,
                                    "isHierarchyId": false,
                                    "isSqlXmlType": false,
                                    "isUnknownType": false,
                                    "isUpdatable": true,
                                    "allowDBNull": false,
                                    "baseCatalogName": null,
                                    "baseColumnName": null,
                                    "baseSchemaName": null,
                                    "baseServerName": null,
                                    "baseTableName": null,
                                    "columnName": "Employee_dob",
                                    "columnOrdinal": 0,
                                    "columnSize": 3,
                                    "isAliased": null,
                                    "isAutoIncrement": false,
                                    "isExpression": null,
                                    "isHidden": null,
                                    "isIdentity": false,
                                    "isKey": null,
                                    "isLong": false,
                                    "isReadOnly": false,
                                    "isUnique": false,
                                    "numericPrecision": 255,
                                    "numericScale": 255,
                                    "udtAssemblyQualifiedName": null,
                                    "dataType": "System.DateTime, System.Private.CoreLib, Version=4.0.0.0, Culture=neutral, PublicKeyToken=7cec85d7bea7798e",
                                    "dataTypeName": "date"
                                }
                            ],
                            "specialAction": {
                                "none": true,
                                "expectYukonXMLShowPlan": false
                            }
                        }
                    },
                    "execution_count": 34,
                    "data": {
                        "application/vnd.dataresource+json": {
                            "schema": {
                                "fields": [
                                    {
                                        "name": "Employee_dob"
                                    }
                                ]
                            },
                            "data": [
                                {
                                    "0": "1992-12-11"
                                }
                            ]
                        },
                        "text/html": [
                            "<table>",
                            "<tr><th>Employee_dob</th></tr>",
                            "<tr><td>1992-12-11</td></tr>",
                            "</table>"
                        ]
                    }
                }
            ],
            "execution_count": 34
        },
        {
            "cell_type": "markdown",
            "source": [
                "11\\. What's the difference between the highest price product and the lowest price product?"
            ],
            "metadata": {
                "azdata_cell_guid": "9191f7c9-023b-4a6f-a028-b7392e41ef28"
            }
        },
        {
            "cell_type": "code",
            "source": [
                "select Max(Product_price) - Min(Product_price)\r\n",
                "from Product;"
            ],
            "metadata": {
                "azdata_cell_guid": "fb9b841f-0309-4aac-9d05-34d3096c8332",
                "tags": [
                    "hide_input"
                ]
            },
            "outputs": [
                {
                    "output_type": "display_data",
                    "data": {
                        "text/html": "(1 row affected)"
                    },
                    "metadata": {}
                },
                {
                    "output_type": "display_data",
                    "data": {
                        "text/html": "Total execution time: 00:00:00.014"
                    },
                    "metadata": {}
                },
                {
                    "output_type": "execute_result",
                    "metadata": {
                        "resultSet": {
                            "id": 0,
                            "batchId": 0,
                            "rowCount": 1,
                            "complete": true,
                            "columnInfo": [
                                {
                                    "isBytes": false,
                                    "isChars": false,
                                    "isSqlVariant": false,
                                    "isUdt": false,
                                    "isXml": false,
                                    "isJson": false,
                                    "sqlDbType": 8,
                                    "isHierarchyId": false,
                                    "isSqlXmlType": false,
                                    "isUnknownType": false,
                                    "isUpdatable": false,
                                    "allowDBNull": true,
                                    "baseCatalogName": null,
                                    "baseColumnName": null,
                                    "baseSchemaName": null,
                                    "baseServerName": null,
                                    "baseTableName": null,
                                    "columnName": "(No column name)",
                                    "columnOrdinal": 0,
                                    "columnSize": 4,
                                    "isAliased": null,
                                    "isAutoIncrement": false,
                                    "isExpression": null,
                                    "isHidden": null,
                                    "isIdentity": false,
                                    "isKey": null,
                                    "isLong": false,
                                    "isReadOnly": true,
                                    "isUnique": false,
                                    "numericPrecision": 10,
                                    "numericScale": 255,
                                    "udtAssemblyQualifiedName": null,
                                    "dataType": "System.Int32, System.Private.CoreLib, Version=4.0.0.0, Culture=neutral, PublicKeyToken=7cec85d7bea7798e",
                                    "dataTypeName": "int"
                                }
                            ],
                            "specialAction": {
                                "none": true,
                                "expectYukonXMLShowPlan": false
                            }
                        }
                    },
                    "execution_count": 35,
                    "data": {
                        "application/vnd.dataresource+json": {
                            "schema": {
                                "fields": [
                                    {
                                        "name": "(No column name)"
                                    }
                                ]
                            },
                            "data": [
                                {
                                    "0": "158"
                                }
                            ]
                        },
                        "text/html": [
                            "<table>",
                            "<tr><th>(No column name)</th></tr>",
                            "<tr><td>158</td></tr>",
                            "</table>"
                        ]
                    }
                }
            ],
            "execution_count": 35
        }
    ]
}