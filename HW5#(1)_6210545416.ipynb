{
    "metadata": {
        "kernelspec": {
            "name": "SQL",
            "display_name": "SQL",
            "language": "sql"
        },
        "language_info": {
            "name": "sql",
            "version": ""
        }
    },
    "nbformat_minor": 2,
    "nbformat": 4,
    "cells": [
        {
            "cell_type": "code",
            "source": [
                "create database movie_student_id"
            ],
            "metadata": {
                "azdata_cell_guid": "906d2682-b9f6-43b0-acf5-d03d4c931c4a"
            },
            "outputs": [
                {
                    "output_type": "error",
                    "ename": "",
                    "evalue": "Msg 1801, Level 16, State 3, Line 1\r\nDatabase 'movie_student_id' already exists. Choose a different database name.",
                    "traceback": []
                },
                {
                    "output_type": "display_data",
                    "data": {
                        "text/html": "Total execution time: 00:00:00.006"
                    },
                    "metadata": {}
                }
            ],
            "execution_count": 14
        },
        {
            "cell_type": "code",
            "source": [
                "use movie_student_id;"
            ],
            "metadata": {
                "azdata_cell_guid": "eb1b26b7-c881-449b-80c9-156dc6e9d5fe"
            },
            "outputs": [
                {
                    "output_type": "display_data",
                    "data": {
                        "text/html": "Commands completed successfully."
                    },
                    "metadata": {}
                },
                {
                    "output_type": "display_data",
                    "data": {
                        "text/html": "Total execution time: 00:00:00.005"
                    },
                    "metadata": {}
                }
            ],
            "execution_count": 24
        },
        {
            "cell_type": "code",
            "source": [
                "create table Rating(\r\n",
                "    rID int,\r\n",
                "    mID int,\r\n",
                "    stars int,\r\n",
                "    ratingDate DATETIME\r\n",
                ");"
            ],
            "metadata": {
                "azdata_cell_guid": "2b61cf3e-75f9-44b4-8a4b-650afab18bac"
            },
            "outputs": [
                {
                    "output_type": "error",
                    "ename": "",
                    "evalue": "Msg 2714, Level 16, State 6, Line 1\r\nThere is already an object named 'Rating' in the database.",
                    "traceback": []
                },
                {
                    "output_type": "display_data",
                    "data": {
                        "text/html": "Total execution time: 00:00:00.005"
                    },
                    "metadata": {}
                }
            ],
            "execution_count": 16
        },
        {
            "cell_type": "code",
            "source": [
                "create table Movie(\r\n",
                "    mID int Primary key,\r\n",
                "    title VARCHAR(255),\r\n",
                "    year int,\r\n",
                "    director VARCHAR(255),\r\n",
                ");"
            ],
            "metadata": {
                "azdata_cell_guid": "7ef4a47b-2114-4055-b65f-9735b081cc6f"
            },
            "outputs": [
                {
                    "output_type": "error",
                    "ename": "",
                    "evalue": "Msg 2714, Level 16, State 6, Line 1\r\nThere is already an object named 'Movie' in the database.",
                    "traceback": []
                },
                {
                    "output_type": "display_data",
                    "data": {
                        "text/html": "Total execution time: 00:00:00.014"
                    },
                    "metadata": {}
                }
            ],
            "execution_count": 17
        },
        {
            "cell_type": "code",
            "source": [
                "create table Reviewer(\r\n",
                "    rID int,\r\n",
                "    name VARCHAR(255),\r\n",
                ");"
            ],
            "metadata": {
                "azdata_cell_guid": "e21e5010-047c-40d0-8262-cfab647ac214",
                "tags": []
            },
            "outputs": [
                {
                    "output_type": "display_data",
                    "data": {
                        "text/html": "Commands completed successfully."
                    },
                    "metadata": {}
                },
                {
                    "output_type": "display_data",
                    "data": {
                        "text/html": "Total execution time: 00:00:00.017"
                    },
                    "metadata": {}
                }
            ],
            "execution_count": 11
        },
        {
            "cell_type": "code",
            "source": [
                "INSERT dbo.Rating (rID, mID, stars, ratingDate)\r\n",
                "    VALUES  (201, 101, 2, '2011-01-22'),\r\n",
                "            (201, 101, 4, '2011-01-27'),\r\n",
                "            (202, 106, 4, null),\r\n",
                "            (203, 103, 2, '2011-01-20'),\r\n",
                "            (203, 108, 4, '2011-01-12'),\r\n",
                "            (203, 108, 2, '2011-01-30'),\r\n",
                "            (204, 101, 3, '2011-01-09'),\r\n",
                "            (205, 103, 3, '2011-01-27'),\r\n",
                "            (205, 104, 2, '2011-01-22'),\r\n",
                "            (205, 108, 4, null),\r\n",
                "            (206, 107, 3, '2011-01-15'),\r\n",
                "            (206, 106, 5, '2011-01-19'),\r\n",
                "            (207, 107, 5, '2011-01-20'),\r\n",
                "            (208, 104, 3, '2011-01-02')"
            ],
            "metadata": {
                "azdata_cell_guid": "0d5a0672-0e37-4a24-b791-abab85b90932",
                "tags": []
            },
            "outputs": [
                {
                    "output_type": "display_data",
                    "data": {
                        "text/html": "(14 rows affected)"
                    },
                    "metadata": {}
                },
                {
                    "output_type": "display_data",
                    "data": {
                        "text/html": "Total execution time: 00:00:00.012"
                    },
                    "metadata": {}
                }
            ],
            "execution_count": 143
        },
        {
            "cell_type": "code",
            "source": [
                "INSERT dbo.Movie (mID, title, year, director)\r\n",
                "    VALUES  (101, 'Gone with the Wind', 1939, 'Victor Fleming'),\r\n",
                "            (102, 'Star Wars', 1977, 'George Lucas'),\r\n",
                "            (103, 'The Sound of Music', 1965, 'Robert Wise'),\r\n",
                "            (104, 'E.T.', 1982, 'Steven Spielberg'),\r\n",
                "            (105, 'Titanic', 1997, 'James Cameron'),\r\n",
                "            (106, 'Snow White', 1937, null),\r\n",
                "            (107, 'Avatar', 2009, 'Jame Cameron'),\r\n",
                "            (108, 'Raiders of the Lost Ark', 1981, 'Steven Spielberg')"
            ],
            "metadata": {
                "azdata_cell_guid": "23577a6d-5e0d-41a6-bc8d-cdb3495171bf"
            },
            "outputs": [
                {
                    "output_type": "display_data",
                    "data": {
                        "text/html": "(8 rows affected)"
                    },
                    "metadata": {}
                },
                {
                    "output_type": "display_data",
                    "data": {
                        "text/html": "Total execution time: 00:00:00.016"
                    },
                    "metadata": {}
                }
            ],
            "execution_count": 19
        },
        {
            "cell_type": "code",
            "source": [
                "INSERT dbo.Reviewer (rID, name)\r\n",
                "    VALUES  (201, 'Sarah Martinez'),\r\n",
                "            (202, 'Daniel Lewis'),\r\n",
                "            (203, 'Brittany Harris'),\r\n",
                "            (204, 'Mike Anderson'),\r\n",
                "            (205, 'Chris Jackson'),\r\n",
                "            (206, 'Elizabeth Thomas'),\r\n",
                "            (207, 'James Cameron'),\r\n",
                "            (208, 'Ashley White')"
            ],
            "metadata": {
                "azdata_cell_guid": "b0e02458-f12c-4392-bcef-b13423945df1"
            },
            "outputs": [
                {
                    "output_type": "display_data",
                    "data": {
                        "text/html": "(8 rows affected)"
                    },
                    "metadata": {}
                },
                {
                    "output_type": "display_data",
                    "data": {
                        "text/html": "Total execution time: 00:00:00.016"
                    },
                    "metadata": {}
                }
            ],
            "execution_count": 20
        },
        {
            "cell_type": "markdown",
            "source": [
                "**Find the titles of all movies directed by Steven Spielberg.**"
            ],
            "metadata": {
                "azdata_cell_guid": "0661f83a-0569-49ab-83fb-a0bc91719267"
            }
        },
        {
            "cell_type": "code",
            "source": [
                "select distinct title\r\n",
                "from Movie\r\n",
                "where director = 'Steven Spielberg';"
            ],
            "metadata": {
                "azdata_cell_guid": "67a61506-e3b5-4845-8a89-22e6567f860e",
                "tags": []
            },
            "outputs": [
                {
                    "output_type": "display_data",
                    "data": {
                        "text/html": "(2 rows affected)"
                    },
                    "metadata": {}
                },
                {
                    "output_type": "display_data",
                    "data": {
                        "text/html": "Total execution time: 00:00:00.030"
                    },
                    "metadata": {}
                },
                {
                    "output_type": "execute_result",
                    "execution_count": 29,
                    "data": {
                        "application/vnd.dataresource+json": {
                            "schema": {
                                "fields": [
                                    {
                                        "name": "title"
                                    }
                                ]
                            },
                            "data": [
                                {
                                    "0": "E.T."
                                },
                                {
                                    "0": "Raiders of the Lost Ark"
                                }
                            ]
                        },
                        "text/html": "<table><tr><th>title</th></tr><tr><td>E.T.</td></tr><tr><td>Raiders of the Lost Ark</td></tr></table>"
                    },
                    "metadata": {
                        "resultSet": {
                            "id": 0,
                            "batchId": 0,
                            "rowCount": 2,
                            "complete": false,
                            "columnInfo": [
                                {
                                    "isBytes": false,
                                    "isChars": true,
                                    "isSqlVariant": false,
                                    "isUdt": false,
                                    "isXml": false,
                                    "isJson": false,
                                    "sqlDbType": 22,
                                    "isHierarchyId": false,
                                    "isSqlXmlType": false,
                                    "isUnknownType": false,
                                    "isUpdatable": true,
                                    "allowDBNull": true,
                                    "baseCatalogName": null,
                                    "baseColumnName": null,
                                    "baseSchemaName": null,
                                    "baseServerName": null,
                                    "baseTableName": null,
                                    "columnName": "title",
                                    "columnOrdinal": 0,
                                    "columnSize": 255,
                                    "isAliased": null,
                                    "isAutoIncrement": false,
                                    "isExpression": null,
                                    "isHidden": null,
                                    "isIdentity": false,
                                    "isKey": null,
                                    "isLong": false,
                                    "isReadOnly": false,
                                    "isUnique": false,
                                    "numericPrecision": 255,
                                    "numericScale": 255,
                                    "udtAssemblyQualifiedName": null,
                                    "dataType": "System.String, System.Private.CoreLib, Version=4.0.0.0, Culture=neutral, PublicKeyToken=7cec85d7bea7798e",
                                    "dataTypeName": "varchar"
                                }
                            ],
                            "specialAction": null
                        }
                    }
                }
            ],
            "execution_count": 29
        },
        {
            "cell_type": "markdown",
            "source": [
                "**Find all years that have a movie that received a rating of 4 or 5, and sort them in**\n",
                "\n",
                "**increasing order.**"
            ],
            "metadata": {
                "azdata_cell_guid": "6ce9fd3b-f656-45dc-a374-68be09800c6c"
            }
        },
        {
            "cell_type": "code",
            "source": [
                "select distinct year\r\n",
                "from Rating,Movie\r\n",
                "where Rating.stars = 4 or Rating.stars = 5 and Rating.mID = Movie.mID;"
            ],
            "metadata": {
                "azdata_cell_guid": "3f3c6115-e33f-4b33-9315-9b5594871e50",
                "tags": []
            },
            "outputs": [
                {
                    "output_type": "display_data",
                    "data": {
                        "text/html": "(8 rows affected)"
                    },
                    "metadata": {}
                },
                {
                    "output_type": "display_data",
                    "data": {
                        "text/html": "Total execution time: 00:00:00.023"
                    },
                    "metadata": {}
                },
                {
                    "output_type": "execute_result",
                    "execution_count": 39,
                    "data": {
                        "application/vnd.dataresource+json": {
                            "schema": {
                                "fields": [
                                    {
                                        "name": "year"
                                    }
                                ]
                            },
                            "data": [
                                {
                                    "0": "1937"
                                },
                                {
                                    "0": "1939"
                                },
                                {
                                    "0": "1965"
                                },
                                {
                                    "0": "1977"
                                },
                                {
                                    "0": "1981"
                                },
                                {
                                    "0": "1982"
                                },
                                {
                                    "0": "1997"
                                },
                                {
                                    "0": "2009"
                                }
                            ]
                        },
                        "text/html": "<table><tr><th>year</th></tr><tr><td>1937</td></tr><tr><td>1939</td></tr><tr><td>1965</td></tr><tr><td>1977</td></tr><tr><td>1981</td></tr><tr><td>1982</td></tr><tr><td>1997</td></tr><tr><td>2009</td></tr></table>"
                    },
                    "metadata": {
                        "resultSet": {
                            "id": 0,
                            "batchId": 0,
                            "rowCount": 8,
                            "complete": true,
                            "columnInfo": [
                                {
                                    "isBytes": false,
                                    "isChars": false,
                                    "isSqlVariant": false,
                                    "isUdt": false,
                                    "isXml": false,
                                    "isJson": false,
                                    "sqlDbType": 8,
                                    "isHierarchyId": false,
                                    "isSqlXmlType": false,
                                    "isUnknownType": false,
                                    "isUpdatable": true,
                                    "allowDBNull": true,
                                    "baseCatalogName": null,
                                    "baseColumnName": null,
                                    "baseSchemaName": null,
                                    "baseServerName": null,
                                    "baseTableName": null,
                                    "columnName": "year",
                                    "columnOrdinal": 0,
                                    "columnSize": 4,
                                    "isAliased": null,
                                    "isAutoIncrement": false,
                                    "isExpression": null,
                                    "isHidden": null,
                                    "isIdentity": false,
                                    "isKey": null,
                                    "isLong": false,
                                    "isReadOnly": false,
                                    "isUnique": false,
                                    "numericPrecision": 10,
                                    "numericScale": 255,
                                    "udtAssemblyQualifiedName": null,
                                    "dataType": "System.Int32, System.Private.CoreLib, Version=4.0.0.0, Culture=neutral, PublicKeyToken=7cec85d7bea7798e",
                                    "dataTypeName": "int"
                                }
                            ],
                            "specialAction": {
                                "none": true,
                                "expectYukonXMLShowPlan": false
                            }
                        }
                    }
                }
            ],
            "execution_count": 39
        },
        {
            "cell_type": "markdown",
            "source": [
                "**Find the titles of all movies that have no ratings.**"
            ],
            "metadata": {
                "azdata_cell_guid": "6460efb8-5719-494f-bb34-7cdc678a4268"
            }
        },
        {
            "cell_type": "code",
            "source": [
                "select distinct title,Movie.mID\r\n",
                "from Movie,Rating\r\n",
                "where Movie.mID Not in (select Rating.mID from Rating);"
            ],
            "metadata": {
                "azdata_cell_guid": "cfbe71d1-54b8-4ac9-bb36-a9f5e66c20b7",
                "tags": []
            },
            "outputs": [
                {
                    "output_type": "display_data",
                    "data": {
                        "text/html": "(2 rows affected)"
                    },
                    "metadata": {}
                },
                {
                    "output_type": "display_data",
                    "data": {
                        "text/html": "Total execution time: 00:00:00.050"
                    },
                    "metadata": {}
                },
                {
                    "output_type": "execute_result",
                    "execution_count": 53,
                    "data": {
                        "application/vnd.dataresource+json": {
                            "schema": {
                                "fields": [
                                    {
                                        "name": "title"
                                    },
                                    {
                                        "name": "mID"
                                    }
                                ]
                            },
                            "data": [
                                {
                                    "0": "Star Wars",
                                    "1": "102"
                                },
                                {
                                    "0": "Titanic",
                                    "1": "105"
                                }
                            ]
                        },
                        "text/html": "<table><tr><th>title</th><th>mID</th></tr><tr><td>Star Wars</td><td>102</td></tr><tr><td>Titanic</td><td>105</td></tr></table>"
                    },
                    "metadata": {
                        "resultSet": {
                            "id": 0,
                            "batchId": 0,
                            "rowCount": 2,
                            "complete": false,
                            "columnInfo": [
                                {
                                    "isBytes": false,
                                    "isChars": true,
                                    "isSqlVariant": false,
                                    "isUdt": false,
                                    "isXml": false,
                                    "isJson": false,
                                    "sqlDbType": 22,
                                    "isHierarchyId": false,
                                    "isSqlXmlType": false,
                                    "isUnknownType": false,
                                    "isUpdatable": true,
                                    "allowDBNull": true,
                                    "baseCatalogName": null,
                                    "baseColumnName": null,
                                    "baseSchemaName": null,
                                    "baseServerName": null,
                                    "baseTableName": null,
                                    "columnName": "title",
                                    "columnOrdinal": 0,
                                    "columnSize": 255,
                                    "isAliased": null,
                                    "isAutoIncrement": false,
                                    "isExpression": null,
                                    "isHidden": null,
                                    "isIdentity": false,
                                    "isKey": null,
                                    "isLong": false,
                                    "isReadOnly": false,
                                    "isUnique": false,
                                    "numericPrecision": 255,
                                    "numericScale": 255,
                                    "udtAssemblyQualifiedName": null,
                                    "dataType": "System.String, System.Private.CoreLib, Version=4.0.0.0, Culture=neutral, PublicKeyToken=7cec85d7bea7798e",
                                    "dataTypeName": "varchar"
                                },
                                {
                                    "isBytes": false,
                                    "isChars": false,
                                    "isSqlVariant": false,
                                    "isUdt": false,
                                    "isXml": false,
                                    "isJson": false,
                                    "sqlDbType": 8,
                                    "isHierarchyId": false,
                                    "isSqlXmlType": false,
                                    "isUnknownType": false,
                                    "isUpdatable": true,
                                    "allowDBNull": true,
                                    "baseCatalogName": null,
                                    "baseColumnName": null,
                                    "baseSchemaName": null,
                                    "baseServerName": null,
                                    "baseTableName": null,
                                    "columnName": "mID",
                                    "columnOrdinal": 1,
                                    "columnSize": 4,
                                    "isAliased": null,
                                    "isAutoIncrement": false,
                                    "isExpression": null,
                                    "isHidden": null,
                                    "isIdentity": false,
                                    "isKey": null,
                                    "isLong": false,
                                    "isReadOnly": false,
                                    "isUnique": false,
                                    "numericPrecision": 10,
                                    "numericScale": 255,
                                    "udtAssemblyQualifiedName": null,
                                    "dataType": "System.Int32, System.Private.CoreLib, Version=4.0.0.0, Culture=neutral, PublicKeyToken=7cec85d7bea7798e",
                                    "dataTypeName": "int"
                                }
                            ],
                            "specialAction": null
                        }
                    }
                }
            ],
            "execution_count": 53
        },
        {
            "cell_type": "markdown",
            "source": [
                "**Some reviewers didn't provide a date with their rating. Find the names of all**\n",
                "\n",
                "**reviewers who have ratings with a NULL value for the date.**"
            ],
            "metadata": {
                "azdata_cell_guid": "99543f52-0a6e-4dce-a793-f674f566b024"
            }
        },
        {
            "cell_type": "code",
            "source": [
                "select distinct name\r\n",
                "from Rating,Reviewer\r\n",
                "where Reviewer.rID = Rating.rID and Rating.ratingDate is null;"
            ],
            "metadata": {
                "azdata_cell_guid": "4fbbf346-aa70-4c37-8048-4f0b23210925"
            },
            "outputs": [
                {
                    "output_type": "display_data",
                    "data": {
                        "text/html": "(2 rows affected)"
                    },
                    "metadata": {}
                },
                {
                    "output_type": "display_data",
                    "data": {
                        "text/html": "Total execution time: 00:00:00.025"
                    },
                    "metadata": {}
                },
                {
                    "output_type": "execute_result",
                    "execution_count": 61,
                    "data": {
                        "application/vnd.dataresource+json": {
                            "schema": {
                                "fields": [
                                    {
                                        "name": "name"
                                    }
                                ]
                            },
                            "data": [
                                {
                                    "0": "Chris Jackson"
                                },
                                {
                                    "0": "Daniel Lewis"
                                }
                            ]
                        },
                        "text/html": "<table><tr><th>name</th></tr><tr><td>Chris Jackson</td></tr><tr><td>Daniel Lewis</td></tr></table>"
                    },
                    "metadata": {
                        "resultSet": {
                            "id": 0,
                            "batchId": 0,
                            "rowCount": 2,
                            "complete": false,
                            "columnInfo": [
                                {
                                    "isBytes": false,
                                    "isChars": true,
                                    "isSqlVariant": false,
                                    "isUdt": false,
                                    "isXml": false,
                                    "isJson": false,
                                    "sqlDbType": 22,
                                    "isHierarchyId": false,
                                    "isSqlXmlType": false,
                                    "isUnknownType": false,
                                    "isUpdatable": true,
                                    "allowDBNull": true,
                                    "baseCatalogName": null,
                                    "baseColumnName": null,
                                    "baseSchemaName": null,
                                    "baseServerName": null,
                                    "baseTableName": null,
                                    "columnName": "name",
                                    "columnOrdinal": 0,
                                    "columnSize": 255,
                                    "isAliased": null,
                                    "isAutoIncrement": false,
                                    "isExpression": null,
                                    "isHidden": null,
                                    "isIdentity": false,
                                    "isKey": null,
                                    "isLong": false,
                                    "isReadOnly": false,
                                    "isUnique": false,
                                    "numericPrecision": 255,
                                    "numericScale": 255,
                                    "udtAssemblyQualifiedName": null,
                                    "dataType": "System.String, System.Private.CoreLib, Version=4.0.0.0, Culture=neutral, PublicKeyToken=7cec85d7bea7798e",
                                    "dataTypeName": "varchar"
                                }
                            ],
                            "specialAction": null
                        }
                    }
                }
            ],
            "execution_count": 61
        },
        {
            "cell_type": "markdown",
            "source": [
                "**Write a query to return the ratings data in a more readable format: reviewer name,**\n",
                "\n",
                "**movie title, stars, and ratingDate. Also, sort the data, first by reviewer name, then by**\n",
                "\n",
                "**movie title, and lastly by number of stars.**"
            ],
            "metadata": {
                "azdata_cell_guid": "138ba788-3761-4fd4-acaf-11054dab773b"
            }
        },
        {
            "cell_type": "code",
            "source": [
                "select distinct name,title,stars,ratingDate\r\n",
                "from Reviewer,Rating,Movie\r\n",
                "where Rating.mID = Movie.mID and Rating.rID = Reviewer.rID\r\n",
                "order by Reviewer.name, Movie.title, Rating.stars; "
            ],
            "metadata": {
                "azdata_cell_guid": "cd38bad2-d01f-49eb-921a-cc5901f63427",
                "tags": []
            },
            "outputs": [
                {
                    "output_type": "display_data",
                    "data": {
                        "text/html": "(14 rows affected)"
                    },
                    "metadata": {}
                },
                {
                    "output_type": "display_data",
                    "data": {
                        "text/html": "Total execution time: 00:00:00.021"
                    },
                    "metadata": {}
                },
                {
                    "output_type": "execute_result",
                    "execution_count": 72,
                    "data": {
                        "application/vnd.dataresource+json": {
                            "schema": {
                                "fields": [
                                    {
                                        "name": "name"
                                    },
                                    {
                                        "name": "title"
                                    },
                                    {
                                        "name": "stars"
                                    },
                                    {
                                        "name": "ratingDate"
                                    }
                                ]
                            },
                            "data": [
                                {
                                    "0": "Ashley White",
                                    "1": "E.T.",
                                    "2": "3",
                                    "3": "2011-01-02 00:00:00.000"
                                },
                                {
                                    "0": "Brittany Harris",
                                    "1": "Raiders of the Lost Ark",
                                    "2": "4",
                                    "3": "2011-01-12 00:00:00.000"
                                },
                                {
                                    "0": "Brittany Harris",
                                    "1": "Raiders of the Lost Ark",
                                    "2": "4",
                                    "3": "2011-01-30 00:00:00.000"
                                },
                                {
                                    "0": "Brittany Harris",
                                    "1": "The Sound of Music",
                                    "2": "2",
                                    "3": "2011-01-20 00:00:00.000"
                                },
                                {
                                    "0": "Chris Jackson",
                                    "1": "E.T.",
                                    "2": "2",
                                    "3": "2011-01-22 00:00:00.000"
                                },
                                {
                                    "0": "Chris Jackson",
                                    "1": "Raiders of the Lost Ark",
                                    "2": "4",
                                    "3": "NULL"
                                },
                                {
                                    "0": "Chris Jackson",
                                    "1": "The Sound of Music",
                                    "2": "3",
                                    "3": "2011-01-27 00:00:00.000"
                                },
                                {
                                    "0": "Daniel Lewis",
                                    "1": "Snow White",
                                    "2": "4",
                                    "3": "NULL"
                                },
                                {
                                    "0": "Elizabeth Thomas",
                                    "1": "Avatar",
                                    "2": "3",
                                    "3": "2011-01-15 00:00:00.000"
                                },
                                {
                                    "0": "Elizabeth Thomas",
                                    "1": "Snow White",
                                    "2": "5",
                                    "3": "2011-01-19 00:00:00.000"
                                },
                                {
                                    "0": "James Cameron",
                                    "1": "Avatar",
                                    "2": "5",
                                    "3": "2011-01-20 00:00:00.000"
                                },
                                {
                                    "0": "Mike Anderson",
                                    "1": "Gone with the Wind",
                                    "2": "3",
                                    "3": "2011-01-09 00:00:00.000"
                                },
                                {
                                    "0": "Sarah Martinez",
                                    "1": "Gone with the Wind",
                                    "2": "2",
                                    "3": "2011-01-22 00:00:00.000"
                                },
                                {
                                    "0": "Sarah Martinez",
                                    "1": "Gone with the Wind",
                                    "2": "4",
                                    "3": "2011-01-27 00:00:00.000"
                                }
                            ]
                        },
                        "text/html": "<table><tr><th>name</th><th>title</th><th>stars</th><th>ratingDate</th></tr><tr><td>Ashley White</td><td>E.T.</td><td>3</td><td>2011-01-02 00:00:00.000</td></tr><tr><td>Brittany Harris</td><td>Raiders of the Lost Ark</td><td>4</td><td>2011-01-12 00:00:00.000</td></tr><tr><td>Brittany Harris</td><td>Raiders of the Lost Ark</td><td>4</td><td>2011-01-30 00:00:00.000</td></tr><tr><td>Brittany Harris</td><td>The Sound of Music</td><td>2</td><td>2011-01-20 00:00:00.000</td></tr><tr><td>Chris Jackson</td><td>E.T.</td><td>2</td><td>2011-01-22 00:00:00.000</td></tr><tr><td>Chris Jackson</td><td>Raiders of the Lost Ark</td><td>4</td><td>NULL</td></tr><tr><td>Chris Jackson</td><td>The Sound of Music</td><td>3</td><td>2011-01-27 00:00:00.000</td></tr><tr><td>Daniel Lewis</td><td>Snow White</td><td>4</td><td>NULL</td></tr><tr><td>Elizabeth Thomas</td><td>Avatar</td><td>3</td><td>2011-01-15 00:00:00.000</td></tr><tr><td>Elizabeth Thomas</td><td>Snow White</td><td>5</td><td>2011-01-19 00:00:00.000</td></tr><tr><td>James Cameron</td><td>Avatar</td><td>5</td><td>2011-01-20 00:00:00.000</td></tr><tr><td>Mike Anderson</td><td>Gone with the Wind</td><td>3</td><td>2011-01-09 00:00:00.000</td></tr><tr><td>Sarah Martinez</td><td>Gone with the Wind</td><td>2</td><td>2011-01-22 00:00:00.000</td></tr><tr><td>Sarah Martinez</td><td>Gone with the Wind</td><td>4</td><td>2011-01-27 00:00:00.000</td></tr></table>"
                    },
                    "metadata": {
                        "resultSet": {
                            "id": 0,
                            "batchId": 0,
                            "rowCount": 14,
                            "complete": true,
                            "columnInfo": [
                                {
                                    "isBytes": false,
                                    "isChars": true,
                                    "isSqlVariant": false,
                                    "isUdt": false,
                                    "isXml": false,
                                    "isJson": false,
                                    "sqlDbType": 22,
                                    "isHierarchyId": false,
                                    "isSqlXmlType": false,
                                    "isUnknownType": false,
                                    "isUpdatable": true,
                                    "allowDBNull": true,
                                    "baseCatalogName": null,
                                    "baseColumnName": null,
                                    "baseSchemaName": null,
                                    "baseServerName": null,
                                    "baseTableName": null,
                                    "columnName": "name",
                                    "columnOrdinal": 0,
                                    "columnSize": 255,
                                    "isAliased": null,
                                    "isAutoIncrement": false,
                                    "isExpression": null,
                                    "isHidden": null,
                                    "isIdentity": false,
                                    "isKey": null,
                                    "isLong": false,
                                    "isReadOnly": false,
                                    "isUnique": false,
                                    "numericPrecision": 255,
                                    "numericScale": 255,
                                    "udtAssemblyQualifiedName": null,
                                    "dataType": "System.String, System.Private.CoreLib, Version=4.0.0.0, Culture=neutral, PublicKeyToken=7cec85d7bea7798e",
                                    "dataTypeName": "varchar"
                                },
                                {
                                    "isBytes": false,
                                    "isChars": true,
                                    "isSqlVariant": false,
                                    "isUdt": false,
                                    "isXml": false,
                                    "isJson": false,
                                    "sqlDbType": 22,
                                    "isHierarchyId": false,
                                    "isSqlXmlType": false,
                                    "isUnknownType": false,
                                    "isUpdatable": true,
                                    "allowDBNull": true,
                                    "baseCatalogName": null,
                                    "baseColumnName": null,
                                    "baseSchemaName": null,
                                    "baseServerName": null,
                                    "baseTableName": null,
                                    "columnName": "title",
                                    "columnOrdinal": 1,
                                    "columnSize": 255,
                                    "isAliased": null,
                                    "isAutoIncrement": false,
                                    "isExpression": null,
                                    "isHidden": null,
                                    "isIdentity": false,
                                    "isKey": null,
                                    "isLong": false,
                                    "isReadOnly": false,
                                    "isUnique": false,
                                    "numericPrecision": 255,
                                    "numericScale": 255,
                                    "udtAssemblyQualifiedName": null,
                                    "dataType": "System.String, System.Private.CoreLib, Version=4.0.0.0, Culture=neutral, PublicKeyToken=7cec85d7bea7798e",
                                    "dataTypeName": "varchar"
                                },
                                {
                                    "isBytes": false,
                                    "isChars": false,
                                    "isSqlVariant": false,
                                    "isUdt": false,
                                    "isXml": false,
                                    "isJson": false,
                                    "sqlDbType": 8,
                                    "isHierarchyId": false,
                                    "isSqlXmlType": false,
                                    "isUnknownType": false,
                                    "isUpdatable": true,
                                    "allowDBNull": true,
                                    "baseCatalogName": null,
                                    "baseColumnName": null,
                                    "baseSchemaName": null,
                                    "baseServerName": null,
                                    "baseTableName": null,
                                    "columnName": "stars",
                                    "columnOrdinal": 2,
                                    "columnSize": 4,
                                    "isAliased": null,
                                    "isAutoIncrement": false,
                                    "isExpression": null,
                                    "isHidden": null,
                                    "isIdentity": false,
                                    "isKey": null,
                                    "isLong": false,
                                    "isReadOnly": false,
                                    "isUnique": false,
                                    "numericPrecision": 10,
                                    "numericScale": 255,
                                    "udtAssemblyQualifiedName": null,
                                    "dataType": "System.Int32, System.Private.CoreLib, Version=4.0.0.0, Culture=neutral, PublicKeyToken=7cec85d7bea7798e",
                                    "dataTypeName": "int"
                                },
                                {
                                    "isBytes": false,
                                    "isChars": false,
                                    "isSqlVariant": false,
                                    "isUdt": false,
                                    "isXml": false,
                                    "isJson": false,
                                    "sqlDbType": 4,
                                    "isHierarchyId": false,
                                    "isSqlXmlType": false,
                                    "isUnknownType": false,
                                    "isUpdatable": true,
                                    "allowDBNull": true,
                                    "baseCatalogName": null,
                                    "baseColumnName": null,
                                    "baseSchemaName": null,
                                    "baseServerName": null,
                                    "baseTableName": null,
                                    "columnName": "ratingDate",
                                    "columnOrdinal": 3,
                                    "columnSize": 8,
                                    "isAliased": null,
                                    "isAutoIncrement": false,
                                    "isExpression": null,
                                    "isHidden": null,
                                    "isIdentity": false,
                                    "isKey": null,
                                    "isLong": false,
                                    "isReadOnly": false,
                                    "isUnique": false,
                                    "numericPrecision": 23,
                                    "numericScale": 3,
                                    "udtAssemblyQualifiedName": null,
                                    "dataType": "System.DateTime, System.Private.CoreLib, Version=4.0.0.0, Culture=neutral, PublicKeyToken=7cec85d7bea7798e",
                                    "dataTypeName": "datetime"
                                }
                            ],
                            "specialAction": {
                                "none": true,
                                "expectYukonXMLShowPlan": false
                            }
                        }
                    }
                }
            ],
            "execution_count": 72
        },
        {
            "cell_type": "markdown",
            "source": [
                "**For all cases where the same reviewer rated the same movie twice and gave it a**\n",
                "\n",
                "**higher rating the second time, return the reviewer's name and the title of the movie.**"
            ],
            "metadata": {
                "azdata_cell_guid": "a009443d-d9d1-4a43-ba0e-f9e3194bc269"
            }
        },
        {
            "cell_type": "code",
            "source": [
                "select distinct name,title\r\n",
                "from Rating R1, Rating R2, Reviewer, Movie\r\n",
                "Where R1.rID = R2.rID and R1.ratingDate < R2.ratingDate and R1.mID = R2.mID and R1.stars < R2.stars and R2.mID = Movie.mID and R2.rID = Reviewer.rID;"
            ],
            "metadata": {
                "azdata_cell_guid": "f2fa9248-5893-468e-98ec-574d4c056d92",
                "tags": []
            },
            "outputs": [
                {
                    "output_type": "display_data",
                    "data": {
                        "text/html": "(1 row affected)"
                    },
                    "metadata": {}
                },
                {
                    "output_type": "display_data",
                    "data": {
                        "text/html": "Total execution time: 00:00:00.027"
                    },
                    "metadata": {}
                },
                {
                    "output_type": "execute_result",
                    "execution_count": 107,
                    "data": {
                        "application/vnd.dataresource+json": {
                            "schema": {
                                "fields": [
                                    {
                                        "name": "name"
                                    },
                                    {
                                        "name": "title"
                                    }
                                ]
                            },
                            "data": [
                                {
                                    "0": "Sarah Martinez",
                                    "1": "Gone with the Wind"
                                }
                            ]
                        },
                        "text/html": "<table><tr><th>name</th><th>title</th></tr><tr><td>Sarah Martinez</td><td>Gone with the Wind</td></tr></table>"
                    },
                    "metadata": {
                        "resultSet": {
                            "id": 0,
                            "batchId": 0,
                            "rowCount": 1,
                            "complete": true,
                            "columnInfo": [
                                {
                                    "isBytes": false,
                                    "isChars": true,
                                    "isSqlVariant": false,
                                    "isUdt": false,
                                    "isXml": false,
                                    "isJson": false,
                                    "sqlDbType": 22,
                                    "isHierarchyId": false,
                                    "isSqlXmlType": false,
                                    "isUnknownType": false,
                                    "isUpdatable": true,
                                    "allowDBNull": true,
                                    "baseCatalogName": null,
                                    "baseColumnName": null,
                                    "baseSchemaName": null,
                                    "baseServerName": null,
                                    "baseTableName": null,
                                    "columnName": "name",
                                    "columnOrdinal": 0,
                                    "columnSize": 255,
                                    "isAliased": null,
                                    "isAutoIncrement": false,
                                    "isExpression": null,
                                    "isHidden": null,
                                    "isIdentity": false,
                                    "isKey": null,
                                    "isLong": false,
                                    "isReadOnly": false,
                                    "isUnique": false,
                                    "numericPrecision": 255,
                                    "numericScale": 255,
                                    "udtAssemblyQualifiedName": null,
                                    "dataType": "System.String, System.Private.CoreLib, Version=4.0.0.0, Culture=neutral, PublicKeyToken=7cec85d7bea7798e",
                                    "dataTypeName": "varchar"
                                },
                                {
                                    "isBytes": false,
                                    "isChars": true,
                                    "isSqlVariant": false,
                                    "isUdt": false,
                                    "isXml": false,
                                    "isJson": false,
                                    "sqlDbType": 22,
                                    "isHierarchyId": false,
                                    "isSqlXmlType": false,
                                    "isUnknownType": false,
                                    "isUpdatable": true,
                                    "allowDBNull": true,
                                    "baseCatalogName": null,
                                    "baseColumnName": null,
                                    "baseSchemaName": null,
                                    "baseServerName": null,
                                    "baseTableName": null,
                                    "columnName": "title",
                                    "columnOrdinal": 1,
                                    "columnSize": 255,
                                    "isAliased": null,
                                    "isAutoIncrement": false,
                                    "isExpression": null,
                                    "isHidden": null,
                                    "isIdentity": false,
                                    "isKey": null,
                                    "isLong": false,
                                    "isReadOnly": false,
                                    "isUnique": false,
                                    "numericPrecision": 255,
                                    "numericScale": 255,
                                    "udtAssemblyQualifiedName": null,
                                    "dataType": "System.String, System.Private.CoreLib, Version=4.0.0.0, Culture=neutral, PublicKeyToken=7cec85d7bea7798e",
                                    "dataTypeName": "varchar"
                                }
                            ],
                            "specialAction": {
                                "none": true,
                                "expectYukonXMLShowPlan": false
                            }
                        }
                    }
                }
            ],
            "execution_count": 107
        },
        {
            "cell_type": "markdown",
            "source": [
                "**For each movie that has at least one rating, find the highest number of stars that**\n",
                "\n",
                "**movie received. Return the movie title and number of stars. Sort by movie title.**"
            ],
            "metadata": {
                "azdata_cell_guid": "22381ce4-45ac-4559-b3ae-9d37aac3705d"
            }
        },
        {
            "cell_type": "code",
            "source": [
                "SELECT Movie.title, MAX(Rating.stars) as stars\r\n",
                "FROM  Movie, Rating\r\n",
                "WHERE Movie.mID = Rating.mID\r\n",
                "GROUP BY Movie.title\r\n",
                "ORDER BY Movie.title;"
            ],
            "metadata": {
                "azdata_cell_guid": "e6af8bd6-e3df-416d-ba5c-df9076066b74",
                "tags": []
            },
            "outputs": [
                {
                    "output_type": "display_data",
                    "data": {
                        "text/html": "(6 rows affected)"
                    },
                    "metadata": {}
                },
                {
                    "output_type": "display_data",
                    "data": {
                        "text/html": "Total execution time: 00:00:00.022"
                    },
                    "metadata": {}
                },
                {
                    "output_type": "execute_result",
                    "execution_count": 130,
                    "data": {
                        "application/vnd.dataresource+json": {
                            "schema": {
                                "fields": [
                                    {
                                        "name": "title"
                                    },
                                    {
                                        "name": "stars"
                                    }
                                ]
                            },
                            "data": [
                                {
                                    "0": "Avatar",
                                    "1": "5"
                                },
                                {
                                    "0": "E.T.",
                                    "1": "3"
                                },
                                {
                                    "0": "Gone with the Wind",
                                    "1": "4"
                                },
                                {
                                    "0": "Raiders of the Lost Ark",
                                    "1": "4"
                                },
                                {
                                    "0": "Snow White",
                                    "1": "5"
                                },
                                {
                                    "0": "The Sound of Music",
                                    "1": "3"
                                }
                            ]
                        },
                        "text/html": "<table><tr><th>title</th><th>stars</th></tr><tr><td>Avatar</td><td>5</td></tr><tr><td>E.T.</td><td>3</td></tr><tr><td>Gone with the Wind</td><td>4</td></tr><tr><td>Raiders of the Lost Ark</td><td>4</td></tr><tr><td>Snow White</td><td>5</td></tr><tr><td>The Sound of Music</td><td>3</td></tr></table>"
                    },
                    "metadata": {
                        "resultSet": {
                            "id": 0,
                            "batchId": 0,
                            "rowCount": 6,
                            "complete": true,
                            "columnInfo": [
                                {
                                    "isBytes": false,
                                    "isChars": true,
                                    "isSqlVariant": false,
                                    "isUdt": false,
                                    "isXml": false,
                                    "isJson": false,
                                    "sqlDbType": 22,
                                    "isHierarchyId": false,
                                    "isSqlXmlType": false,
                                    "isUnknownType": false,
                                    "isUpdatable": true,
                                    "allowDBNull": true,
                                    "baseCatalogName": null,
                                    "baseColumnName": null,
                                    "baseSchemaName": null,
                                    "baseServerName": null,
                                    "baseTableName": null,
                                    "columnName": "title",
                                    "columnOrdinal": 0,
                                    "columnSize": 255,
                                    "isAliased": null,
                                    "isAutoIncrement": false,
                                    "isExpression": null,
                                    "isHidden": null,
                                    "isIdentity": false,
                                    "isKey": null,
                                    "isLong": false,
                                    "isReadOnly": false,
                                    "isUnique": false,
                                    "numericPrecision": 255,
                                    "numericScale": 255,
                                    "udtAssemblyQualifiedName": null,
                                    "dataType": "System.String, System.Private.CoreLib, Version=4.0.0.0, Culture=neutral, PublicKeyToken=7cec85d7bea7798e",
                                    "dataTypeName": "varchar"
                                },
                                {
                                    "isBytes": false,
                                    "isChars": false,
                                    "isSqlVariant": false,
                                    "isUdt": false,
                                    "isXml": false,
                                    "isJson": false,
                                    "sqlDbType": 8,
                                    "isHierarchyId": false,
                                    "isSqlXmlType": false,
                                    "isUnknownType": false,
                                    "isUpdatable": false,
                                    "allowDBNull": true,
                                    "baseCatalogName": null,
                                    "baseColumnName": null,
                                    "baseSchemaName": null,
                                    "baseServerName": null,
                                    "baseTableName": null,
                                    "columnName": "stars",
                                    "columnOrdinal": 1,
                                    "columnSize": 4,
                                    "isAliased": null,
                                    "isAutoIncrement": false,
                                    "isExpression": null,
                                    "isHidden": null,
                                    "isIdentity": false,
                                    "isKey": null,
                                    "isLong": false,
                                    "isReadOnly": true,
                                    "isUnique": false,
                                    "numericPrecision": 10,
                                    "numericScale": 255,
                                    "udtAssemblyQualifiedName": null,
                                    "dataType": "System.Int32, System.Private.CoreLib, Version=4.0.0.0, Culture=neutral, PublicKeyToken=7cec85d7bea7798e",
                                    "dataTypeName": "int"
                                }
                            ],
                            "specialAction": {
                                "none": true,
                                "expectYukonXMLShowPlan": false
                            }
                        }
                    }
                }
            ],
            "execution_count": 130
        },
        {
            "cell_type": "markdown",
            "source": [
                "**List movie titles and average ratings, from highest-rated to lowest-rated. If two or**\n",
                "\n",
                "**more movies have the same average rating, list them in alphabetical order.**"
            ],
            "metadata": {
                "azdata_cell_guid": "fe141edf-433d-4169-9118-f864f17c02ea"
            }
        },
        {
            "cell_type": "code",
            "source": [
                "select title,avg(stars) as stars\r\n",
                "from Movie, Rating\r\n",
                "where Movie.mID = Rating.mID\r\n",
                "group by title\r\n",
                "order by stars desc,title;\r\n",
                ""
            ],
            "metadata": {
                "azdata_cell_guid": "d33a0cfc-04d4-4782-b3cb-7f99187fbdd5"
            },
            "outputs": [
                {
                    "output_type": "display_data",
                    "data": {
                        "text/html": "(6 rows affected)"
                    },
                    "metadata": {}
                },
                {
                    "output_type": "display_data",
                    "data": {
                        "text/html": "Total execution time: 00:00:00.034"
                    },
                    "metadata": {}
                },
                {
                    "output_type": "execute_result",
                    "execution_count": 144,
                    "data": {
                        "application/vnd.dataresource+json": {
                            "schema": {
                                "fields": [
                                    {
                                        "name": "title"
                                    },
                                    {
                                        "name": "stars"
                                    }
                                ]
                            },
                            "data": [
                                {
                                    "0": "Avatar",
                                    "1": "4"
                                },
                                {
                                    "0": "Snow White",
                                    "1": "4"
                                },
                                {
                                    "0": "Gone with the Wind",
                                    "1": "3"
                                },
                                {
                                    "0": "Raiders of the Lost Ark",
                                    "1": "3"
                                },
                                {
                                    "0": "E.T.",
                                    "1": "2"
                                },
                                {
                                    "0": "The Sound of Music",
                                    "1": "2"
                                }
                            ]
                        },
                        "text/html": "<table><tr><th>title</th><th>stars</th></tr><tr><td>Avatar</td><td>4</td></tr><tr><td>Snow White</td><td>4</td></tr><tr><td>Gone with the Wind</td><td>3</td></tr><tr><td>Raiders of the Lost Ark</td><td>3</td></tr><tr><td>E.T.</td><td>2</td></tr><tr><td>The Sound of Music</td><td>2</td></tr></table>"
                    },
                    "metadata": {
                        "resultSet": {
                            "id": 0,
                            "batchId": 0,
                            "rowCount": 6,
                            "complete": true,
                            "columnInfo": [
                                {
                                    "isBytes": false,
                                    "isChars": true,
                                    "isSqlVariant": false,
                                    "isUdt": false,
                                    "isXml": false,
                                    "isJson": false,
                                    "sqlDbType": 22,
                                    "isHierarchyId": false,
                                    "isSqlXmlType": false,
                                    "isUnknownType": false,
                                    "isUpdatable": true,
                                    "allowDBNull": true,
                                    "baseCatalogName": null,
                                    "baseColumnName": null,
                                    "baseSchemaName": null,
                                    "baseServerName": null,
                                    "baseTableName": null,
                                    "columnName": "title",
                                    "columnOrdinal": 0,
                                    "columnSize": 255,
                                    "isAliased": null,
                                    "isAutoIncrement": false,
                                    "isExpression": null,
                                    "isHidden": null,
                                    "isIdentity": false,
                                    "isKey": null,
                                    "isLong": false,
                                    "isReadOnly": false,
                                    "isUnique": false,
                                    "numericPrecision": 255,
                                    "numericScale": 255,
                                    "udtAssemblyQualifiedName": null,
                                    "dataType": "System.String, System.Private.CoreLib, Version=4.0.0.0, Culture=neutral, PublicKeyToken=7cec85d7bea7798e",
                                    "dataTypeName": "varchar"
                                },
                                {
                                    "isBytes": false,
                                    "isChars": false,
                                    "isSqlVariant": false,
                                    "isUdt": false,
                                    "isXml": false,
                                    "isJson": false,
                                    "sqlDbType": 8,
                                    "isHierarchyId": false,
                                    "isSqlXmlType": false,
                                    "isUnknownType": false,
                                    "isUpdatable": false,
                                    "allowDBNull": true,
                                    "baseCatalogName": null,
                                    "baseColumnName": null,
                                    "baseSchemaName": null,
                                    "baseServerName": null,
                                    "baseTableName": null,
                                    "columnName": "stars",
                                    "columnOrdinal": 1,
                                    "columnSize": 4,
                                    "isAliased": null,
                                    "isAutoIncrement": false,
                                    "isExpression": null,
                                    "isHidden": null,
                                    "isIdentity": false,
                                    "isKey": null,
                                    "isLong": false,
                                    "isReadOnly": true,
                                    "isUnique": false,
                                    "numericPrecision": 10,
                                    "numericScale": 255,
                                    "udtAssemblyQualifiedName": null,
                                    "dataType": "System.Int32, System.Private.CoreLib, Version=4.0.0.0, Culture=neutral, PublicKeyToken=7cec85d7bea7798e",
                                    "dataTypeName": "int"
                                }
                            ],
                            "specialAction": {
                                "none": true,
                                "expectYukonXMLShowPlan": false
                            }
                        }
                    }
                }
            ],
            "execution_count": 144
        }
    ]
}